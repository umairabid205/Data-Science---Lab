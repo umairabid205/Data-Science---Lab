{
 "cells": [
  {
   "cell_type": "code",
   "execution_count": 1,
   "metadata": {},
   "outputs": [
    {
     "name": "stderr",
     "output_type": "stream",
     "text": [
      "/var/folders/3z/gjs8159j4pj4fhckh__lk6g00000gn/T/ipykernel_2943/1011314280.py:1: DeprecationWarning: \n",
      "Pyarrow will become a required dependency of pandas in the next major release of pandas (pandas 3.0),\n",
      "(to allow more performant data types, such as the Arrow string type, and better interoperability with other libraries)\n",
      "but was not found to be installed on your system.\n",
      "If this would cause problems for you,\n",
      "please provide us feedback at https://github.com/pandas-dev/pandas/issues/54466\n",
      "        \n",
      "  import pandas as pd\n"
     ]
    }
   ],
   "source": [
    "import pandas as pd\n",
    "import numpy as np\n",
    "from sklearn.model_selection import train_test_split\n",
    "from sklearn.linear_model import LinearRegression\n",
    "from sklearn.metrics import mean_squared_error, r2_score\n",
    "import statsmodels.api as sm\n",
    "import matplotlib.pyplot as plt"
   ]
  },
  {
   "cell_type": "code",
   "execution_count": 2,
   "metadata": {},
   "outputs": [],
   "source": [
    "data = pd.read_csv('/Users/mh/Desktop/Python/BostonHousing.csv')\n",
    "data = data.dropna()\n",
    "#Fit the linear Multi regression\n",
    "X = data.drop(columns=['medv'])\n",
    "y = data['medv']"
   ]
  },
  {
   "cell_type": "code",
   "execution_count": 3,
   "metadata": {},
   "outputs": [],
   "source": [
    "#Split the data into 80%:20% Ratio\n",
    "X_train, X_test, y_train, y_test = train_test_split(X, y, test_size=0.2, random_state=42)\n",
    "\n",
    "#Use the 80% data to fit the regression function\n",
    "model = LinearRegression()\n",
    "model.fit(X_train, y_train)\n",
    "\n",
    "#Use remaining 20% data for testing\n",
    "y_pred = model.predict(X_test)\n",
    "\n",
    "#Find the Squared R and MSE\n",
    "mse = mean_squared_error(y_test, y_pred)\n",
    "r_squared = r2_score(y_test, y_pred)\n",
    "\n"
   ]
  },
  {
   "cell_type": "code",
   "execution_count": 19,
   "metadata": {},
   "outputs": [
    {
     "name": "stdout",
     "output_type": "stream",
     "text": [
      "const      3.092856e-07\n",
      "crim       2.299498e-02\n",
      "zn         5.632636e-03\n",
      "indus      5.545411e-01\n",
      "chas       2.508356e-02\n",
      "nox        1.097660e-03\n",
      "rm         1.761068e-15\n",
      "age        5.315739e-01\n",
      "dis        4.491875e-09\n",
      "rad        3.320536e-04\n",
      "tax        7.895741e-03\n",
      "ptratio    1.344847e-08\n",
      "b          5.794927e-05\n",
      "lstat      1.104328e-21\n",
      "dtype: float64\n"
     ]
    }
   ],
   "source": [
    "X_train_with_const = sm.add_constant(X_train)\n",
    "model_sm = sm.OLS(y_train, X_train_with_const).fit()\n",
    "p_values = model_sm.pvalues\n",
    "print(p_values)"
   ]
  },
  {
   "cell_type": "code",
   "execution_count": 20,
   "metadata": {},
   "outputs": [],
   "source": [
    "# Remove variables with p-values > 0.005 (excluding 'const' column)\n",
    "significant_features = p_values[p_values <= 0.005].index\n",
    "if 'const' in significant_features:\n",
    "    significant_features = significant_features.drop('const')\n",
    "\n",
    "# Perform multi regression on remaining attributes\n",
    "X_train_filtered = X_train[significant_features]\n",
    "X_test_filtered = X_test[significant_features]\n",
    "\n",
    "# Fit multi regression on filtered training data\n",
    "model_filtered = sm.OLS(y_train, sm.add_constant(X_train_filtered)).fit()\n",
    "\n",
    "# Calculate MSE and R-squared for filtered model\n",
    "mse_filtered = mean_squared_error(y_test, model_filtered.predict(sm.add_constant(X_test_filtered)))\n",
    "r_squared_filtered = model_filtered.rsquared\n"
   ]
  },
  {
   "cell_type": "code",
   "execution_count": 21,
   "metadata": {},
   "outputs": [],
   "source": [
    "model_filtered = LinearRegression()\n",
    "model_filtered.fit(X_train_filtered, y_train)\n",
    "\n",
    "#Plot all MSE and Squared R line graph\n",
    "mse_values = [mse, mean_squared_error(y_test, model_filtered.predict(X_test_filtered))]\n",
    "r_squared_values = [r_squared, r2_score(y_test, model_filtered.predict(X_test_filtered))]"
   ]
  },
  {
   "cell_type": "code",
   "execution_count": 22,
   "metadata": {},
   "outputs": [
    {
     "data": {
      "image/png": "[encoded data removed]",
      "text/plain": [
       "<Figure size 640x480 with 1 Axes>"
      ]
     },
     "metadata": {},
     "output_type": "display_data"
    }
   ],
   "source": [
    "plt.plot(['Original', 'Filtered'], mse_values, label='MSE')\n",
    "plt.plot(['Original', 'Filtered'], r_squared_values, label='R^2')\n",
    "plt.xlabel('Model')\n",
    "plt.ylabel('Value')\n",
    "plt.title('Comparison of MSE and R^2')\n",
    "plt.legend()\n",
    "plt.show()"
   ]
  }
 ],
 "metadata": {
  "kernelspec": {
   "display_name": "Python 3",
   "language": "python",
   "name": "python3"
  },
  "language_info": {
   "codemirror_mode": {
    "name": "ipython",
    "version": 3
   },
   "file_extension": ".py",
   "mimetype": "text/x-python",
   "name": "python",
   "nbconvert_exporter": "python",
   "pygments_lexer": "ipython3",
   "version": "3.11.8"
  }
 },
 "nbformat": 4,
 "nbformat_minor": 2
}
