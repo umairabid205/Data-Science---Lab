{
  "cells": [
    {
      "cell_type": "code",
      "execution_count": 2,
      "metadata": {
        "colab": {
          "base_uri": "https://localhost:8080/",
          "height": 1000
        },
        "id": "CsLfAZ6_Oq6K",
        "outputId": "8d979509-ac8a-4de9-c762-15f2181a29e0"
      },
      "outputs": [],
      "source": [
        "import pandas as pd\n",
        "import numpy as np\n",
        "from sklearn.model_selection import train_test_split\n",
        "from sklearn.preprocessing import StandardScaler, LabelEncoder\n",
        "from sklearn.ensemble import RandomForestClassifier\n",
        "from sklearn.tree import DecisionTreeRegressor\n",
        "from sklearn.metrics import mean_squared_error, r2_score\n",
        "from math import sqrt\n",
        "from sklearn.metrics import confusion_matrix, accuracy_score, recall_score, precision_score, roc_curve, auc\n",
        "import matplotlib.pyplot as plt\n"
      ]
    },
    {
      "cell_type": "code",
      "execution_count": 3,
      "metadata": {},
      "outputs": [
        {
          "name": "stderr",
          "output_type": "stream",
          "text": [
            "/var/folders/3z/gjs8159j4pj4fhckh__lk6g00000gn/T/ipykernel_57931/3921814809.py:1: DtypeWarning: Columns (10,16) have mixed types. Specify dtype option on import or set low_memory=False.\n",
            "  loan_data = pd.read_csv(\"/Users/mh/Downloads/Odd Roll Numbers 2/loangrant - loangrant.csv\")\n"
          ]
        }
      ],
      "source": [
        "loan_data = pd.read_csv(\"/Users/mh/Downloads/Odd Roll Numbers 2/loangrant - loangrant.csv\")"
      ]
    },
    {
      "cell_type": "code",
      "execution_count": 4,
      "metadata": {},
      "outputs": [],
      "source": [
        "\n",
        "# Replace non-numeric values with NaNs\n",
        "loan_data = loan_data.replace('#VALUE!', np.nan)\n",
        "\n",
        "# Dropping rows with NaNs\n",
        "loan_data.dropna(inplace=True)\n"
      ]
    },
    {
      "cell_type": "code",
      "execution_count": 5,
      "metadata": {},
      "outputs": [
        {
          "name": "stderr",
          "output_type": "stream",
          "text": [
            "/var/folders/3z/gjs8159j4pj4fhckh__lk6g00000gn/T/ipykernel_57931/4078410670.py:12: FutureWarning: Downcasting behavior in `replace` is deprecated and will be removed in a future version. To retain the old behavior, explicitly call `result.infer_objects(copy=False)`. To opt-in to the future behavior, set `pd.set_option('future.no_silent_downcasting', True)`\n",
            "  loan_data['Years in current job'] = loan_data['Years in current job'].replace({'< 1 year': 0, '1 year': 1, '2 years': 2, '3 years': 3,\n"
          ]
        }
      ],
      "source": [
        "# Removing duplicate instances\n",
        "loan_data.drop_duplicates(inplace=True)\n",
        "\n",
        "# Remove non-numeric characters from 'Monthly Debt' column\n",
        "loan_data['Monthly Debt'] = loan_data['Monthly Debt'].replace('[\\$,]', '', regex=True).astype(float)\n",
        "\n",
        "# Label Encoding for categorical column 'Term'\n",
        "label_encoder = LabelEncoder()\n",
        "loan_data['Term'] = label_encoder.fit_transform(loan_data['Term'])\n",
        "\n",
        "# Label Encoding for categorical column 'Years in current job'\n",
        "loan_data['Years in current job'] = loan_data['Years in current job'].replace({'< 1 year': 0, '1 year': 1, '2 years': 2, '3 years': 3,\n",
        "                                                                '4 years': 4, '5 years': 5, '6 years': 6, '7 years': 7,\n",
        "                                                                '8 years': 8, '9 years': 9, '10+ years': 10})\n"
      ]
    },
    {
      "cell_type": "code",
      "execution_count": 6,
      "metadata": {},
      "outputs": [],
      "source": [
        "\n",
        "# Label Encoding for categorical column 'Purpose'\n",
        "loan_data['Purpose'] = label_encoder.fit_transform(loan_data['Purpose'])\n",
        "\n",
        "# One-hot encoding for categorical column 'Home Ownership'\n",
        "loan_data = pd.get_dummies(loan_data, columns=['Home Ownership'], drop_first=True)\n"
      ]
    },
    {
      "cell_type": "code",
      "execution_count": 7,
      "metadata": {},
      "outputs": [],
      "source": [
        "\n",
        "# Splitting dataset into features and target variable\n",
        "X = loan_data.drop(['Loan Status', 'Loan ID', 'Customer ID'], axis=1)\n",
        "y = loan_data['Loan Status']\n",
        "\n",
        "# Splitting the dataset into the Training set and Test set\n",
        "X_train, X_test, y_train, y_test = train_test_split(X, y, test_size=0.2, random_state=42)\n",
        "\n",
        "# Feature Scaling\n",
        "scaler = StandardScaler()\n",
        "X_train = scaler.fit_transform(X_train)\n",
        "X_test = scaler.transform(X_test)\n",
        "\n",
        "\n",
        "num_trees = [50, 100, 150, 200]\n",
        "\n",
        "# Initializing lists to store results\n",
        "conf_matrices = []\n",
        "accuracies = []\n",
        "recalls = []\n",
        "precisions = []\n",
        "roc_aucs = []\n"
      ]
    },
    {
      "cell_type": "code",
      "execution_count": 9,
      "metadata": {},
      "outputs": [],
      "source": [
        "\n",
        "for trees in num_trees:\n",
        "    # Training the Random Forest model\n",
        "    rf_classifier = RandomForestClassifier(n_estimators=trees, random_state=42)\n",
        "    rf_classifier.fit(X_train, y_train)\n",
        "\n",
        "    # Predicting the Test set probabilities\n",
        "    y_pred_prob = rf_classifier.predict_proba(X_test)[:, 1]  # Probability of being 'Charged Off'\n",
        "\n",
        "    # Predicting the Test set results\n",
        "    y_pred = rf_classifier.predict(X_test)\n",
        "\n",
        "    # Confusion Matrix\n",
        "    conf_matrices.append(confusion_matrix(y_test, y_pred))\n",
        "\n",
        "    # Accuracy\n",
        "    accuracies.append(accuracy_score(y_test, y_pred))\n",
        "\n",
        "    # Recall\n",
        "    recalls.append(recall_score(y_test, y_pred, pos_label='Charged Off'))\n",
        "\n",
        "    # Precision\n",
        "    precisions.append(precision_score(y_test, y_pred, pos_label='Charged Off'))\n",
        "\n",
        "    # ROC and AUC\n",
        "    fpr, tpr, _ = roc_curve(y_test, y_pred_prob, pos_label='Charged Off')\n",
        "    roc_aucs.append(auc(fpr, tpr))\n"
      ]
    },
    {
      "cell_type": "code",
      "execution_count": 10,
      "metadata": {},
      "outputs": [
        {
          "name": "stdout",
          "output_type": "stream",
          "text": [
            "Results for 50 trees:\n",
            "Confusion Matrix:\n",
            "[[ 481 1137]\n",
            " [  54 5821]]\n",
            "Accuracy: 0.8410516482049913\n",
            "Recall: 0.2972805933250927\n",
            "Precision: 0.8990654205607477\n",
            "ROC AUC: 0.17733256187044685\n",
            "\n",
            "\n",
            "Results for 100 trees:\n",
            "Confusion Matrix:\n",
            "[[ 469 1149]\n",
            " [  41 5834]]\n",
            "Accuracy: 0.8411851060990257\n",
            "Recall: 0.28986402966625463\n",
            "Precision: 0.9196078431372549\n",
            "ROC AUC: 0.17163316939746998\n",
            "\n",
            "\n",
            "Results for 150 trees:\n",
            "Confusion Matrix:\n",
            "[[ 469 1149]\n",
            " [  31 5844]]\n",
            "Accuracy: 0.84251968503937\n",
            "Recall: 0.28986402966625463\n",
            "Precision: 0.938\n",
            "ROC AUC: 0.1687090445256818\n",
            "\n",
            "\n",
            "Results for 200 trees:\n",
            "Confusion Matrix:\n",
            "[[ 475 1143]\n",
            " [  28 5847]]\n",
            "Accuracy: 0.84372080608568\n",
            "Recall: 0.29357231149567364\n",
            "Precision: 0.9443339960238568\n",
            "ROC AUC: 0.16768245535596876\n",
            "\n",
            "\n"
          ]
        }
      ],
      "source": [
        "\n",
        "# Reporting results\n",
        "for i, trees in enumerate(num_trees):\n",
        "    print(f\"Results for {trees} trees:\")\n",
        "    print(\"Confusion Matrix:\")\n",
        "    print(conf_matrices[i])\n",
        "    print(\"Accuracy:\", accuracies[i])\n",
        "    print(\"Recall:\", recalls[i])\n",
        "    print(\"Precision:\", precisions[i])\n",
        "    print(\"ROC AUC:\", roc_aucs[i])\n",
        "    print(\"\\n\")\n"
      ]
    },
    {
      "cell_type": "code",
      "execution_count": null,
      "metadata": {},
      "outputs": [
        {
          "data": {
            "image/png": "[encoded data removed]",
            "text/plain": [
              "<Figure size 432x288 with 1 Axes>"
            ]
          },
          "metadata": {
            "needs_background": "light"
          },
          "output_type": "display_data"
        }
      ],
      "source": [
        "for i, trees in enumerate(num_trees):\n",
        "    fpr, tpr, _ = roc_curve(y_test, rf_classifier.predict_proba(X_test)[:,1], pos_label='Charged Off')\n",
        "    plt.plot(fpr, tpr, label=f'{trees} Trees (AUC = {roc_aucs[i]:.2f})', color='green')\n",
        "\n",
        "plt.plot([0, 1], [0, 1], linestyle='--', color='blue', label='Random Guess')\n",
        "plt.xlabel('False Positive Rate')\n",
        "plt.ylabel('True Positive Rate')\n",
        "plt.title('Receiver Operating Characteristic (ROC)')\n",
        "plt.legend()\n",
        "plt.grid(True)\n",
        "plt.show()"
      ]
    }
  ],
  "metadata": {
    "colab": {
      "provenance": []
    },
    "kernelspec": {
      "display_name": "Python 3",
      "name": "python3"
    },
    "language_info": {
      "codemirror_mode": {
        "name": "ipython",
        "version": 3
      },
      "file_extension": ".py",
      "mimetype": "text/x-python",
      "name": "python",
      "nbconvert_exporter": "python",
      "pygments_lexer": "ipython3",
      "version": "3.10.5"
    }
  },
  "nbformat": 4,
  "nbformat_minor": 0
}
