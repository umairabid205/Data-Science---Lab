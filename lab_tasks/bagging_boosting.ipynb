{
 "cells": [
  {
   "cell_type": "code",
   "execution_count": 1,
   "metadata": {},
   "outputs": [],
   "source": [
    "import pandas as pd\n",
    "import numpy as np\n",
    "import matplotlib.pyplot as plt\n",
    "import seaborn as sns\n",
    "from sklearn.model_selection import train_test_split\n",
    "from sklearn.preprocessing import StandardScaler\n",
    "from sklearn.linear_model import LinearRegression\n",
    "from sklearn.metrics import mean_squared_error"
   ]
  },
  {
   "cell_type": "code",
   "execution_count": 2,
   "metadata": {},
   "outputs": [],
   "source": [
    "# load training data\n",
    "X = pd.read_csv('/Users/mh/Downloads/Odd Roll Numbers/LifeExpectency_Train.csv')"
   ]
  },
  {
   "cell_type": "code",
   "execution_count": 3,
   "metadata": {},
   "outputs": [
    {
     "data": {
      "text/html": [
       "<div>\n",
       "<style scoped>\n",
       "    .dataframe tbody tr th:only-of-type {\n",
       "        vertical-align: middle;\n",
       "    }\n",
       "\n",
       "    .dataframe tbody tr th {\n",
       "        vertical-align: top;\n",
       "    }\n",
       "\n",
       "    .dataframe thead th {\n",
       "        text-align: right;\n",
       "    }\n",
       "</style>\n",
       "<table border=\"1\" class=\"dataframe\">\n",
       "  <thead>\n",
       "    <tr style=\"text-align: right;\">\n",
       "      <th></th>\n",
       "      <th>Country</th>\n",
       "      <th>Year</th>\n",
       "      <th>Status</th>\n",
       "      <th>LifeExpectancy</th>\n",
       "      <th>AdultMortality</th>\n",
       "      <th>infantDeaths</th>\n",
       "      <th>Alcohol</th>\n",
       "      <th>percentageExpenditure</th>\n",
       "      <th>HepatitisB</th>\n",
       "      <th>Measles</th>\n",
       "      <th>...</th>\n",
       "      <th>Polio</th>\n",
       "      <th>TotalExpenditure</th>\n",
       "      <th>Diphtheria</th>\n",
       "      <th>HIV_AIDS</th>\n",
       "      <th>GDP</th>\n",
       "      <th>Population</th>\n",
       "      <th>thinness1_19Years</th>\n",
       "      <th>thinness5_9Years</th>\n",
       "      <th>IncomeCompositionOfResources</th>\n",
       "      <th>Schooling</th>\n",
       "    </tr>\n",
       "  </thead>\n",
       "  <tbody>\n",
       "    <tr>\n",
       "      <th>0</th>\n",
       "      <td>Afghanistan</td>\n",
       "      <td>2015</td>\n",
       "      <td>Developing</td>\n",
       "      <td>65.0</td>\n",
       "      <td>263.0</td>\n",
       "      <td>62</td>\n",
       "      <td>0.01</td>\n",
       "      <td>71.279624</td>\n",
       "      <td>65.0</td>\n",
       "      <td>1154</td>\n",
       "      <td>...</td>\n",
       "      <td>6.0</td>\n",
       "      <td>8.16</td>\n",
       "      <td>65.0</td>\n",
       "      <td>0.1</td>\n",
       "      <td>584.259210</td>\n",
       "      <td>33736494.0</td>\n",
       "      <td>17.2</td>\n",
       "      <td>17.3</td>\n",
       "      <td>0.479</td>\n",
       "      <td>10.1</td>\n",
       "    </tr>\n",
       "    <tr>\n",
       "      <th>1</th>\n",
       "      <td>Afghanistan</td>\n",
       "      <td>2012</td>\n",
       "      <td>Developing</td>\n",
       "      <td>59.5</td>\n",
       "      <td>272.0</td>\n",
       "      <td>69</td>\n",
       "      <td>0.01</td>\n",
       "      <td>78.184215</td>\n",
       "      <td>67.0</td>\n",
       "      <td>2787</td>\n",
       "      <td>...</td>\n",
       "      <td>67.0</td>\n",
       "      <td>8.52</td>\n",
       "      <td>67.0</td>\n",
       "      <td>0.1</td>\n",
       "      <td>669.959000</td>\n",
       "      <td>3696958.0</td>\n",
       "      <td>17.9</td>\n",
       "      <td>18.0</td>\n",
       "      <td>0.463</td>\n",
       "      <td>9.8</td>\n",
       "    </tr>\n",
       "    <tr>\n",
       "      <th>2</th>\n",
       "      <td>Afghanistan</td>\n",
       "      <td>2011</td>\n",
       "      <td>Developing</td>\n",
       "      <td>59.2</td>\n",
       "      <td>275.0</td>\n",
       "      <td>71</td>\n",
       "      <td>0.01</td>\n",
       "      <td>7.097109</td>\n",
       "      <td>68.0</td>\n",
       "      <td>3013</td>\n",
       "      <td>...</td>\n",
       "      <td>68.0</td>\n",
       "      <td>7.87</td>\n",
       "      <td>68.0</td>\n",
       "      <td>0.1</td>\n",
       "      <td>63.537231</td>\n",
       "      <td>2978599.0</td>\n",
       "      <td>18.2</td>\n",
       "      <td>18.2</td>\n",
       "      <td>0.454</td>\n",
       "      <td>9.5</td>\n",
       "    </tr>\n",
       "    <tr>\n",
       "      <th>3</th>\n",
       "      <td>Afghanistan</td>\n",
       "      <td>2010</td>\n",
       "      <td>Developing</td>\n",
       "      <td>58.8</td>\n",
       "      <td>279.0</td>\n",
       "      <td>74</td>\n",
       "      <td>0.01</td>\n",
       "      <td>79.679367</td>\n",
       "      <td>66.0</td>\n",
       "      <td>1989</td>\n",
       "      <td>...</td>\n",
       "      <td>66.0</td>\n",
       "      <td>9.20</td>\n",
       "      <td>66.0</td>\n",
       "      <td>0.1</td>\n",
       "      <td>553.328940</td>\n",
       "      <td>2883167.0</td>\n",
       "      <td>18.4</td>\n",
       "      <td>18.4</td>\n",
       "      <td>0.448</td>\n",
       "      <td>9.2</td>\n",
       "    </tr>\n",
       "    <tr>\n",
       "      <th>4</th>\n",
       "      <td>Afghanistan</td>\n",
       "      <td>2009</td>\n",
       "      <td>Developing</td>\n",
       "      <td>58.6</td>\n",
       "      <td>281.0</td>\n",
       "      <td>77</td>\n",
       "      <td>0.01</td>\n",
       "      <td>56.762217</td>\n",
       "      <td>63.0</td>\n",
       "      <td>2861</td>\n",
       "      <td>...</td>\n",
       "      <td>63.0</td>\n",
       "      <td>9.42</td>\n",
       "      <td>63.0</td>\n",
       "      <td>0.1</td>\n",
       "      <td>445.893298</td>\n",
       "      <td>284331.0</td>\n",
       "      <td>18.6</td>\n",
       "      <td>18.7</td>\n",
       "      <td>0.434</td>\n",
       "      <td>8.9</td>\n",
       "    </tr>\n",
       "  </tbody>\n",
       "</table>\n",
       "<p>5 rows × 22 columns</p>\n",
       "</div>"
      ],
      "text/plain": [
       "       Country  Year      Status  LifeExpectancy  AdultMortality  \\\n",
       "0  Afghanistan  2015  Developing            65.0           263.0   \n",
       "1  Afghanistan  2012  Developing            59.5           272.0   \n",
       "2  Afghanistan  2011  Developing            59.2           275.0   \n",
       "3  Afghanistan  2010  Developing            58.8           279.0   \n",
       "4  Afghanistan  2009  Developing            58.6           281.0   \n",
       "\n",
       "   infantDeaths  Alcohol  percentageExpenditure  HepatitisB  Measles  ...  \\\n",
       "0            62     0.01              71.279624        65.0     1154  ...   \n",
       "1            69     0.01              78.184215        67.0     2787  ...   \n",
       "2            71     0.01               7.097109        68.0     3013  ...   \n",
       "3            74     0.01              79.679367        66.0     1989  ...   \n",
       "4            77     0.01              56.762217        63.0     2861  ...   \n",
       "\n",
       "   Polio  TotalExpenditure  Diphtheria  HIV_AIDS         GDP  Population  \\\n",
       "0    6.0              8.16        65.0       0.1  584.259210  33736494.0   \n",
       "1   67.0              8.52        67.0       0.1  669.959000   3696958.0   \n",
       "2   68.0              7.87        68.0       0.1   63.537231   2978599.0   \n",
       "3   66.0              9.20        66.0       0.1  553.328940   2883167.0   \n",
       "4   63.0              9.42        63.0       0.1  445.893298    284331.0   \n",
       "\n",
       "   thinness1_19Years  thinness5_9Years  IncomeCompositionOfResources  \\\n",
       "0               17.2              17.3                         0.479   \n",
       "1               17.9              18.0                         0.463   \n",
       "2               18.2              18.2                         0.454   \n",
       "3               18.4              18.4                         0.448   \n",
       "4               18.6              18.7                         0.434   \n",
       "\n",
       "   Schooling  \n",
       "0       10.1  \n",
       "1        9.8  \n",
       "2        9.5  \n",
       "3        9.2  \n",
       "4        8.9  \n",
       "\n",
       "[5 rows x 22 columns]"
      ]
     },
     "execution_count": 3,
     "metadata": {},
     "output_type": "execute_result"
    }
   ],
   "source": [
    "X.head()"
   ]
  },
  {
   "cell_type": "code",
   "execution_count": 4,
   "metadata": {},
   "outputs": [
    {
     "data": {
      "text/plain": [
       "Status\n",
       "Developing    2065\n",
       "Developed      433\n",
       "Name: count, dtype: int64"
      ]
     },
     "execution_count": 4,
     "metadata": {},
     "output_type": "execute_result"
    }
   ],
   "source": [
    "X['Status'].value_counts()"
   ]
  },
  {
   "cell_type": "code",
   "execution_count": 5,
   "metadata": {},
   "outputs": [
    {
     "name": "stderr",
     "output_type": "stream",
     "text": [
      "/var/folders/3z/gjs8159j4pj4fhckh__lk6g00000gn/T/ipykernel_11329/2101402324.py:2: FutureWarning: Downcasting behavior in `replace` is deprecated and will be removed in a future version. To retain the old behavior, explicitly call `result.infer_objects(copy=False)`. To opt-in to the future behavior, set `pd.set_option('future.no_silent_downcasting', True)`\n",
      "  X['Status'] = X['Status'].replace({'Developing': 0, 'Developed': 1})\n"
     ]
    }
   ],
   "source": [
    "# Encoding , 1 for develped and 0 for developing\n",
    "X['Status'] = X['Status'].replace({'Developing': 0, 'Developed': 1})\n",
    "\n",
    "\n"
   ]
  },
  {
   "cell_type": "code",
   "execution_count": 6,
   "metadata": {},
   "outputs": [],
   "source": [
    "# load test data\n",
    "y = pd.read_csv('/Users/mh/Downloads/Odd Roll Numbers/LifeExpectency_Test.csv')"
   ]
  },
  {
   "cell_type": "code",
   "execution_count": 7,
   "metadata": {},
   "outputs": [
    {
     "data": {
      "text/html": [
       "<div>\n",
       "<style scoped>\n",
       "    .dataframe tbody tr th:only-of-type {\n",
       "        vertical-align: middle;\n",
       "    }\n",
       "\n",
       "    .dataframe tbody tr th {\n",
       "        vertical-align: top;\n",
       "    }\n",
       "\n",
       "    .dataframe thead th {\n",
       "        text-align: right;\n",
       "    }\n",
       "</style>\n",
       "<table border=\"1\" class=\"dataframe\">\n",
       "  <thead>\n",
       "    <tr style=\"text-align: right;\">\n",
       "      <th></th>\n",
       "      <th>Country</th>\n",
       "      <th>Year</th>\n",
       "      <th>Status</th>\n",
       "      <th>AdultMortality</th>\n",
       "      <th>infantDeaths</th>\n",
       "      <th>Alcohol</th>\n",
       "      <th>percentageExpenditure</th>\n",
       "      <th>HepatitisB</th>\n",
       "      <th>Measles</th>\n",
       "      <th>BMI</th>\n",
       "      <th>...</th>\n",
       "      <th>Polio</th>\n",
       "      <th>TotalExpenditure</th>\n",
       "      <th>Diphtheria</th>\n",
       "      <th>HIV_AIDS</th>\n",
       "      <th>GDP</th>\n",
       "      <th>Population</th>\n",
       "      <th>thinness1_19Years</th>\n",
       "      <th>thinness5_9Years</th>\n",
       "      <th>IncomeCompositionOfResources</th>\n",
       "      <th>Schooling</th>\n",
       "    </tr>\n",
       "  </thead>\n",
       "  <tbody>\n",
       "    <tr>\n",
       "      <th>0</th>\n",
       "      <td>Afghanistan</td>\n",
       "      <td>2014</td>\n",
       "      <td>Developing</td>\n",
       "      <td>271.0</td>\n",
       "      <td>64</td>\n",
       "      <td>0.01</td>\n",
       "      <td>73.523582</td>\n",
       "      <td>62.0</td>\n",
       "      <td>492</td>\n",
       "      <td>18.6</td>\n",
       "      <td>...</td>\n",
       "      <td>58.0</td>\n",
       "      <td>8.18</td>\n",
       "      <td>62.0</td>\n",
       "      <td>0.1</td>\n",
       "      <td>612.696514</td>\n",
       "      <td>327582.0</td>\n",
       "      <td>17.5</td>\n",
       "      <td>17.5</td>\n",
       "      <td>0.476</td>\n",
       "      <td>10.0</td>\n",
       "    </tr>\n",
       "    <tr>\n",
       "      <th>1</th>\n",
       "      <td>Afghanistan</td>\n",
       "      <td>2013</td>\n",
       "      <td>Developing</td>\n",
       "      <td>268.0</td>\n",
       "      <td>66</td>\n",
       "      <td>0.01</td>\n",
       "      <td>73.219243</td>\n",
       "      <td>64.0</td>\n",
       "      <td>430</td>\n",
       "      <td>18.1</td>\n",
       "      <td>...</td>\n",
       "      <td>62.0</td>\n",
       "      <td>8.13</td>\n",
       "      <td>64.0</td>\n",
       "      <td>0.1</td>\n",
       "      <td>631.744976</td>\n",
       "      <td>31731688.0</td>\n",
       "      <td>17.7</td>\n",
       "      <td>17.7</td>\n",
       "      <td>0.470</td>\n",
       "      <td>9.9</td>\n",
       "    </tr>\n",
       "    <tr>\n",
       "      <th>2</th>\n",
       "      <td>Afghanistan</td>\n",
       "      <td>2007</td>\n",
       "      <td>Developing</td>\n",
       "      <td>295.0</td>\n",
       "      <td>82</td>\n",
       "      <td>0.02</td>\n",
       "      <td>10.910156</td>\n",
       "      <td>63.0</td>\n",
       "      <td>1141</td>\n",
       "      <td>15.2</td>\n",
       "      <td>...</td>\n",
       "      <td>63.0</td>\n",
       "      <td>6.73</td>\n",
       "      <td>63.0</td>\n",
       "      <td>0.1</td>\n",
       "      <td>369.835796</td>\n",
       "      <td>26616792.0</td>\n",
       "      <td>19.0</td>\n",
       "      <td>19.1</td>\n",
       "      <td>0.415</td>\n",
       "      <td>8.4</td>\n",
       "    </tr>\n",
       "    <tr>\n",
       "      <th>3</th>\n",
       "      <td>Afghanistan</td>\n",
       "      <td>2006</td>\n",
       "      <td>Developing</td>\n",
       "      <td>295.0</td>\n",
       "      <td>84</td>\n",
       "      <td>0.03</td>\n",
       "      <td>17.171518</td>\n",
       "      <td>64.0</td>\n",
       "      <td>1990</td>\n",
       "      <td>14.7</td>\n",
       "      <td>...</td>\n",
       "      <td>58.0</td>\n",
       "      <td>7.43</td>\n",
       "      <td>58.0</td>\n",
       "      <td>0.1</td>\n",
       "      <td>272.563770</td>\n",
       "      <td>2589345.0</td>\n",
       "      <td>19.2</td>\n",
       "      <td>19.3</td>\n",
       "      <td>0.405</td>\n",
       "      <td>8.1</td>\n",
       "    </tr>\n",
       "    <tr>\n",
       "      <th>4</th>\n",
       "      <td>Albania</td>\n",
       "      <td>2013</td>\n",
       "      <td>Developing</td>\n",
       "      <td>84.0</td>\n",
       "      <td>0</td>\n",
       "      <td>4.76</td>\n",
       "      <td>430.876979</td>\n",
       "      <td>99.0</td>\n",
       "      <td>0</td>\n",
       "      <td>56.5</td>\n",
       "      <td>...</td>\n",
       "      <td>99.0</td>\n",
       "      <td>5.66</td>\n",
       "      <td>99.0</td>\n",
       "      <td>0.1</td>\n",
       "      <td>4414.723140</td>\n",
       "      <td>289592.0</td>\n",
       "      <td>1.3</td>\n",
       "      <td>1.4</td>\n",
       "      <td>0.759</td>\n",
       "      <td>14.2</td>\n",
       "    </tr>\n",
       "  </tbody>\n",
       "</table>\n",
       "<p>5 rows × 21 columns</p>\n",
       "</div>"
      ],
      "text/plain": [
       "       Country  Year      Status  AdultMortality  infantDeaths  Alcohol  \\\n",
       "0  Afghanistan  2014  Developing           271.0            64     0.01   \n",
       "1  Afghanistan  2013  Developing           268.0            66     0.01   \n",
       "2  Afghanistan  2007  Developing           295.0            82     0.02   \n",
       "3  Afghanistan  2006  Developing           295.0            84     0.03   \n",
       "4      Albania  2013  Developing            84.0             0     4.76   \n",
       "\n",
       "   percentageExpenditure  HepatitisB  Measles   BMI  ...  Polio  \\\n",
       "0              73.523582        62.0      492  18.6  ...   58.0   \n",
       "1              73.219243        64.0      430  18.1  ...   62.0   \n",
       "2              10.910156        63.0     1141  15.2  ...   63.0   \n",
       "3              17.171518        64.0     1990  14.7  ...   58.0   \n",
       "4             430.876979        99.0        0  56.5  ...   99.0   \n",
       "\n",
       "   TotalExpenditure  Diphtheria  HIV_AIDS          GDP  Population  \\\n",
       "0              8.18        62.0       0.1   612.696514    327582.0   \n",
       "1              8.13        64.0       0.1   631.744976  31731688.0   \n",
       "2              6.73        63.0       0.1   369.835796  26616792.0   \n",
       "3              7.43        58.0       0.1   272.563770   2589345.0   \n",
       "4              5.66        99.0       0.1  4414.723140    289592.0   \n",
       "\n",
       "   thinness1_19Years  thinness5_9Years  IncomeCompositionOfResources  \\\n",
       "0               17.5              17.5                         0.476   \n",
       "1               17.7              17.7                         0.470   \n",
       "2               19.0              19.1                         0.415   \n",
       "3               19.2              19.3                         0.405   \n",
       "4                1.3               1.4                         0.759   \n",
       "\n",
       "   Schooling  \n",
       "0       10.0  \n",
       "1        9.9  \n",
       "2        8.4  \n",
       "3        8.1  \n",
       "4       14.2  \n",
       "\n",
       "[5 rows x 21 columns]"
      ]
     },
     "execution_count": 7,
     "metadata": {},
     "output_type": "execute_result"
    }
   ],
   "source": [
    "#checking the 1st 5 rows\n",
    "y.head()"
   ]
  },
  {
   "cell_type": "code",
   "execution_count": 8,
   "metadata": {},
   "outputs": [
    {
     "name": "stderr",
     "output_type": "stream",
     "text": [
      "/var/folders/3z/gjs8159j4pj4fhckh__lk6g00000gn/T/ipykernel_11329/2070959491.py:1: FutureWarning: Downcasting behavior in `replace` is deprecated and will be removed in a future version. To retain the old behavior, explicitly call `result.infer_objects(copy=False)`. To opt-in to the future behavior, set `pd.set_option('future.no_silent_downcasting', True)`\n",
      "  y['Status'] = y['Status'].replace({'Developing': 0, 'Developed': 1})\n"
     ]
    }
   ],
   "source": [
    "y['Status'] = y['Status'].replace({'Developing': 0, 'Developed': 1})"
   ]
  },
  {
   "cell_type": "code",
   "execution_count": 9,
   "metadata": {},
   "outputs": [
    {
     "data": {
      "text/html": [
       "<div>\n",
       "<style scoped>\n",
       "    .dataframe tbody tr th:only-of-type {\n",
       "        vertical-align: middle;\n",
       "    }\n",
       "\n",
       "    .dataframe tbody tr th {\n",
       "        vertical-align: top;\n",
       "    }\n",
       "\n",
       "    .dataframe thead th {\n",
       "        text-align: right;\n",
       "    }\n",
       "</style>\n",
       "<table border=\"1\" class=\"dataframe\">\n",
       "  <thead>\n",
       "    <tr style=\"text-align: right;\">\n",
       "      <th></th>\n",
       "      <th>Year</th>\n",
       "      <th>Status</th>\n",
       "      <th>LifeExpectancy</th>\n",
       "      <th>AdultMortality</th>\n",
       "      <th>infantDeaths</th>\n",
       "      <th>Alcohol</th>\n",
       "      <th>percentageExpenditure</th>\n",
       "      <th>HepatitisB</th>\n",
       "      <th>Measles</th>\n",
       "      <th>BMI</th>\n",
       "      <th>...</th>\n",
       "      <th>Polio</th>\n",
       "      <th>TotalExpenditure</th>\n",
       "      <th>Diphtheria</th>\n",
       "      <th>HIV_AIDS</th>\n",
       "      <th>GDP</th>\n",
       "      <th>Population</th>\n",
       "      <th>thinness1_19Years</th>\n",
       "      <th>thinness5_9Years</th>\n",
       "      <th>IncomeCompositionOfResources</th>\n",
       "      <th>Schooling</th>\n",
       "    </tr>\n",
       "  </thead>\n",
       "  <tbody>\n",
       "    <tr>\n",
       "      <th>count</th>\n",
       "      <td>2498.000000</td>\n",
       "      <td>2498.000000</td>\n",
       "      <td>2491.000000</td>\n",
       "      <td>2491.000000</td>\n",
       "      <td>2498.000000</td>\n",
       "      <td>2331.000000</td>\n",
       "      <td>2498.000000</td>\n",
       "      <td>2023.000000</td>\n",
       "      <td>2498.000000</td>\n",
       "      <td>2470.000000</td>\n",
       "      <td>...</td>\n",
       "      <td>2482.000000</td>\n",
       "      <td>2300.000000</td>\n",
       "      <td>2482.000000</td>\n",
       "      <td>2498.000000</td>\n",
       "      <td>2118.000000</td>\n",
       "      <td>1.950000e+03</td>\n",
       "      <td>2470.000000</td>\n",
       "      <td>2470.000000</td>\n",
       "      <td>2356.000000</td>\n",
       "      <td>2359.000000</td>\n",
       "    </tr>\n",
       "    <tr>\n",
       "      <th>mean</th>\n",
       "      <td>2007.521217</td>\n",
       "      <td>0.173339</td>\n",
       "      <td>69.216138</td>\n",
       "      <td>163.488559</td>\n",
       "      <td>30.348679</td>\n",
       "      <td>4.554582</td>\n",
       "      <td>748.300412</td>\n",
       "      <td>80.739001</td>\n",
       "      <td>2606.948759</td>\n",
       "      <td>38.271579</td>\n",
       "      <td>...</td>\n",
       "      <td>82.373892</td>\n",
       "      <td>5.932848</td>\n",
       "      <td>82.147462</td>\n",
       "      <td>1.749359</td>\n",
       "      <td>7503.016115</td>\n",
       "      <td>1.325202e+07</td>\n",
       "      <td>4.850243</td>\n",
       "      <td>4.876397</td>\n",
       "      <td>0.627657</td>\n",
       "      <td>11.974905</td>\n",
       "    </tr>\n",
       "    <tr>\n",
       "      <th>std</th>\n",
       "      <td>4.621144</td>\n",
       "      <td>0.378616</td>\n",
       "      <td>9.508097</td>\n",
       "      <td>123.437802</td>\n",
       "      <td>116.389740</td>\n",
       "      <td>4.055521</td>\n",
       "      <td>2055.094957</td>\n",
       "      <td>25.394243</td>\n",
       "      <td>12241.820466</td>\n",
       "      <td>20.011705</td>\n",
       "      <td>...</td>\n",
       "      <td>23.631245</td>\n",
       "      <td>2.522142</td>\n",
       "      <td>23.953553</td>\n",
       "      <td>5.195645</td>\n",
       "      <td>14615.515368</td>\n",
       "      <td>6.532617e+07</td>\n",
       "      <td>4.410545</td>\n",
       "      <td>4.496453</td>\n",
       "      <td>0.209100</td>\n",
       "      <td>3.357990</td>\n",
       "    </tr>\n",
       "    <tr>\n",
       "      <th>min</th>\n",
       "      <td>2000.000000</td>\n",
       "      <td>0.000000</td>\n",
       "      <td>39.000000</td>\n",
       "      <td>1.000000</td>\n",
       "      <td>0.000000</td>\n",
       "      <td>0.010000</td>\n",
       "      <td>0.000000</td>\n",
       "      <td>1.000000</td>\n",
       "      <td>0.000000</td>\n",
       "      <td>1.000000</td>\n",
       "      <td>...</td>\n",
       "      <td>3.000000</td>\n",
       "      <td>0.370000</td>\n",
       "      <td>2.000000</td>\n",
       "      <td>0.100000</td>\n",
       "      <td>1.681350</td>\n",
       "      <td>3.400000e+01</td>\n",
       "      <td>0.100000</td>\n",
       "      <td>0.100000</td>\n",
       "      <td>0.000000</td>\n",
       "      <td>0.000000</td>\n",
       "    </tr>\n",
       "    <tr>\n",
       "      <th>25%</th>\n",
       "      <td>2004.000000</td>\n",
       "      <td>0.000000</td>\n",
       "      <td>63.300000</td>\n",
       "      <td>72.500000</td>\n",
       "      <td>0.000000</td>\n",
       "      <td>0.830000</td>\n",
       "      <td>4.413563</td>\n",
       "      <td>77.000000</td>\n",
       "      <td>0.000000</td>\n",
       "      <td>19.300000</td>\n",
       "      <td>...</td>\n",
       "      <td>78.000000</td>\n",
       "      <td>4.260000</td>\n",
       "      <td>78.000000</td>\n",
       "      <td>0.100000</td>\n",
       "      <td>463.946903</td>\n",
       "      <td>1.925278e+05</td>\n",
       "      <td>1.600000</td>\n",
       "      <td>1.500000</td>\n",
       "      <td>0.494000</td>\n",
       "      <td>10.100000</td>\n",
       "    </tr>\n",
       "    <tr>\n",
       "      <th>50%</th>\n",
       "      <td>2008.000000</td>\n",
       "      <td>0.000000</td>\n",
       "      <td>72.000000</td>\n",
       "      <td>144.000000</td>\n",
       "      <td>3.000000</td>\n",
       "      <td>3.660000</td>\n",
       "      <td>63.662582</td>\n",
       "      <td>92.000000</td>\n",
       "      <td>16.000000</td>\n",
       "      <td>43.250000</td>\n",
       "      <td>...</td>\n",
       "      <td>93.000000</td>\n",
       "      <td>5.710000</td>\n",
       "      <td>93.000000</td>\n",
       "      <td>0.100000</td>\n",
       "      <td>1736.909160</td>\n",
       "      <td>1.379325e+06</td>\n",
       "      <td>3.300000</td>\n",
       "      <td>3.350000</td>\n",
       "      <td>0.677000</td>\n",
       "      <td>12.300000</td>\n",
       "    </tr>\n",
       "    <tr>\n",
       "      <th>75%</th>\n",
       "      <td>2012.000000</td>\n",
       "      <td>0.000000</td>\n",
       "      <td>75.600000</td>\n",
       "      <td>226.500000</td>\n",
       "      <td>22.000000</td>\n",
       "      <td>7.645000</td>\n",
       "      <td>433.327131</td>\n",
       "      <td>97.000000</td>\n",
       "      <td>349.750000</td>\n",
       "      <td>56.100000</td>\n",
       "      <td>...</td>\n",
       "      <td>97.000000</td>\n",
       "      <td>7.470000</td>\n",
       "      <td>97.000000</td>\n",
       "      <td>0.800000</td>\n",
       "      <td>5767.678275</td>\n",
       "      <td>7.442611e+06</td>\n",
       "      <td>7.200000</td>\n",
       "      <td>7.200000</td>\n",
       "      <td>0.778000</td>\n",
       "      <td>14.200000</td>\n",
       "    </tr>\n",
       "    <tr>\n",
       "      <th>max</th>\n",
       "      <td>2015.000000</td>\n",
       "      <td>1.000000</td>\n",
       "      <td>89.000000</td>\n",
       "      <td>723.000000</td>\n",
       "      <td>1800.000000</td>\n",
       "      <td>17.870000</td>\n",
       "      <td>19479.911610</td>\n",
       "      <td>99.000000</td>\n",
       "      <td>212183.000000</td>\n",
       "      <td>82.800000</td>\n",
       "      <td>...</td>\n",
       "      <td>99.000000</td>\n",
       "      <td>17.600000</td>\n",
       "      <td>99.000000</td>\n",
       "      <td>50.600000</td>\n",
       "      <td>119172.741800</td>\n",
       "      <td>1.293859e+09</td>\n",
       "      <td>27.500000</td>\n",
       "      <td>28.500000</td>\n",
       "      <td>0.948000</td>\n",
       "      <td>20.700000</td>\n",
       "    </tr>\n",
       "  </tbody>\n",
       "</table>\n",
       "<p>8 rows × 21 columns</p>\n",
       "</div>"
      ],
      "text/plain": [
       "              Year       Status  LifeExpectancy  AdultMortality  infantDeaths  \\\n",
       "count  2498.000000  2498.000000     2491.000000     2491.000000   2498.000000   \n",
       "mean   2007.521217     0.173339       69.216138      163.488559     30.348679   \n",
       "std       4.621144     0.378616        9.508097      123.437802    116.389740   \n",
       "min    2000.000000     0.000000       39.000000        1.000000      0.000000   \n",
       "25%    2004.000000     0.000000       63.300000       72.500000      0.000000   \n",
       "50%    2008.000000     0.000000       72.000000      144.000000      3.000000   \n",
       "75%    2012.000000     0.000000       75.600000      226.500000     22.000000   \n",
       "max    2015.000000     1.000000       89.000000      723.000000   1800.000000   \n",
       "\n",
       "           Alcohol  percentageExpenditure   HepatitisB        Measles  \\\n",
       "count  2331.000000            2498.000000  2023.000000    2498.000000   \n",
       "mean      4.554582             748.300412    80.739001    2606.948759   \n",
       "std       4.055521            2055.094957    25.394243   12241.820466   \n",
       "min       0.010000               0.000000     1.000000       0.000000   \n",
       "25%       0.830000               4.413563    77.000000       0.000000   \n",
       "50%       3.660000              63.662582    92.000000      16.000000   \n",
       "75%       7.645000             433.327131    97.000000     349.750000   \n",
       "max      17.870000           19479.911610    99.000000  212183.000000   \n",
       "\n",
       "               BMI  ...        Polio  TotalExpenditure   Diphtheria  \\\n",
       "count  2470.000000  ...  2482.000000       2300.000000  2482.000000   \n",
       "mean     38.271579  ...    82.373892          5.932848    82.147462   \n",
       "std      20.011705  ...    23.631245          2.522142    23.953553   \n",
       "min       1.000000  ...     3.000000          0.370000     2.000000   \n",
       "25%      19.300000  ...    78.000000          4.260000    78.000000   \n",
       "50%      43.250000  ...    93.000000          5.710000    93.000000   \n",
       "75%      56.100000  ...    97.000000          7.470000    97.000000   \n",
       "max      82.800000  ...    99.000000         17.600000    99.000000   \n",
       "\n",
       "          HIV_AIDS            GDP    Population  thinness1_19Years  \\\n",
       "count  2498.000000    2118.000000  1.950000e+03        2470.000000   \n",
       "mean      1.749359    7503.016115  1.325202e+07           4.850243   \n",
       "std       5.195645   14615.515368  6.532617e+07           4.410545   \n",
       "min       0.100000       1.681350  3.400000e+01           0.100000   \n",
       "25%       0.100000     463.946903  1.925278e+05           1.600000   \n",
       "50%       0.100000    1736.909160  1.379325e+06           3.300000   \n",
       "75%       0.800000    5767.678275  7.442611e+06           7.200000   \n",
       "max      50.600000  119172.741800  1.293859e+09          27.500000   \n",
       "\n",
       "       thinness5_9Years  IncomeCompositionOfResources    Schooling  \n",
       "count       2470.000000                   2356.000000  2359.000000  \n",
       "mean           4.876397                      0.627657    11.974905  \n",
       "std            4.496453                      0.209100     3.357990  \n",
       "min            0.100000                      0.000000     0.000000  \n",
       "25%            1.500000                      0.494000    10.100000  \n",
       "50%            3.350000                      0.677000    12.300000  \n",
       "75%            7.200000                      0.778000    14.200000  \n",
       "max           28.500000                      0.948000    20.700000  \n",
       "\n",
       "[8 rows x 21 columns]"
      ]
     },
     "execution_count": 9,
     "metadata": {},
     "output_type": "execute_result"
    }
   ],
   "source": [
    "# Summary of training dataset\n",
    "X.describe()"
   ]
  },
  {
   "cell_type": "code",
   "execution_count": 10,
   "metadata": {},
   "outputs": [
    {
     "data": {
      "text/plain": [
       "(2498, 22)"
      ]
     },
     "execution_count": 10,
     "metadata": {},
     "output_type": "execute_result"
    }
   ],
   "source": [
    "# checking the dimensions of training dataset\n",
    "X.shape"
   ]
  },
  {
   "cell_type": "code",
   "execution_count": 11,
   "metadata": {},
   "outputs": [
    {
     "data": {
      "text/plain": [
       "(440, 21)"
      ]
     },
     "execution_count": 11,
     "metadata": {},
     "output_type": "execute_result"
    }
   ],
   "source": [
    "# checking the dimensions of test dataset\n",
    "y.shape"
   ]
  },
  {
   "cell_type": "code",
   "execution_count": 12,
   "metadata": {},
   "outputs": [
    {
     "data": {
      "text/plain": [
       "Country                           0\n",
       "Year                              0\n",
       "Status                            0\n",
       "LifeExpectancy                    7\n",
       "AdultMortality                    7\n",
       "infantDeaths                      0\n",
       "Alcohol                         167\n",
       "percentageExpenditure             0\n",
       "HepatitisB                      475\n",
       "Measles                           0\n",
       "BMI                              28\n",
       "under_fiveDeaths                  0\n",
       "Polio                            16\n",
       "TotalExpenditure                198\n",
       "Diphtheria                       16\n",
       "HIV_AIDS                          0\n",
       "GDP                             380\n",
       "Population                      548\n",
       "thinness1_19Years                28\n",
       "thinness5_9Years                 28\n",
       "IncomeCompositionOfResources    142\n",
       "Schooling                       139\n",
       "dtype: int64"
      ]
     },
     "execution_count": 12,
     "metadata": {},
     "output_type": "execute_result"
    }
   ],
   "source": [
    "# Checking the Null values in training dataset\n",
    "X.isnull().sum()"
   ]
  },
  {
   "cell_type": "code",
   "execution_count": 13,
   "metadata": {},
   "outputs": [
    {
     "data": {
      "text/plain": [
       "Country                           0\n",
       "Year                              0\n",
       "Status                            0\n",
       "AdultMortality                    3\n",
       "infantDeaths                      0\n",
       "Alcohol                          27\n",
       "percentageExpenditure             0\n",
       "HepatitisB                       78\n",
       "Measles                           0\n",
       "BMI                               6\n",
       "under_fiveDeaths                  0\n",
       "Polio                             3\n",
       "TotalExpenditure                 28\n",
       "Diphtheria                        3\n",
       "HIV_AIDS                          0\n",
       "GDP                              68\n",
       "Population                      104\n",
       "thinness1_19Years                 6\n",
       "thinness5_9Years                  6\n",
       "IncomeCompositionOfResources     25\n",
       "Schooling                        24\n",
       "dtype: int64"
      ]
     },
     "execution_count": 13,
     "metadata": {},
     "output_type": "execute_result"
    }
   ],
   "source": [
    "# Checking the Null values in test dataset\n",
    "y.isnull().sum()"
   ]
  },
  {
   "cell_type": "code",
   "execution_count": 14,
   "metadata": {},
   "outputs": [
    {
     "data": {
      "text/plain": [
       "0"
      ]
     },
     "execution_count": 14,
     "metadata": {},
     "output_type": "execute_result"
    }
   ],
   "source": [
    "#checking the duplicate values in training dataset\n",
    "X.duplicated().sum()"
   ]
  },
  {
   "cell_type": "code",
   "execution_count": 15,
   "metadata": {},
   "outputs": [
    {
     "data": {
      "text/plain": [
       "0"
      ]
     },
     "execution_count": 15,
     "metadata": {},
     "output_type": "execute_result"
    }
   ],
   "source": [
    "# checking the duplicate values in test dataset\n",
    "y.duplicated().sum()"
   ]
  },
  {
   "cell_type": "code",
   "execution_count": 16,
   "metadata": {},
   "outputs": [
    {
     "data": {
      "text/plain": [
       "count    2331.000000\n",
       "mean        4.554582\n",
       "std         4.055521\n",
       "min         0.010000\n",
       "25%         0.830000\n",
       "50%         3.660000\n",
       "75%         7.645000\n",
       "max        17.870000\n",
       "Name: Alcohol, dtype: float64"
      ]
     },
     "execution_count": 16,
     "metadata": {},
     "output_type": "execute_result"
    }
   ],
   "source": [
    "# I found missing values in Alcohol col so I'll gonna fill the missing values \n",
    "X['Alcohol'].describe()"
   ]
  },
  {
   "cell_type": "code",
   "execution_count": 17,
   "metadata": {},
   "outputs": [
    {
     "name": "stderr",
     "output_type": "stream",
     "text": [
      "/Library/Frameworks/Python.framework/Versions/3.10/lib/python3.10/site-packages/seaborn/_decorators.py:36: FutureWarning: Pass the following variable as a keyword arg: x. From version 0.12, the only valid positional argument will be `data`, and passing other arguments without an explicit keyword will result in an error or misinterpretation.\n",
      "  warnings.warn(\n"
     ]
    },
    {
     "data": {
      "text/plain": [
       "<AxesSubplot:xlabel='Alcohol'>"
      ]
     },
     "execution_count": 17,
     "metadata": {},
     "output_type": "execute_result"
    },
    {
     "data": {
      "image/png": "[encoded data removed]",
      "text/plain": [
       "<Figure size 432x288 with 1 Axes>"
      ]
     },
     "metadata": {
      "needs_background": "light"
     },
     "output_type": "display_data"
    }
   ],
   "source": [
    "# Trying the find outliers but I think there are only one value so I'll leave it as it.\n",
    "sns.boxplot(X['Alcohol'])"
   ]
  },
  {
   "cell_type": "code",
   "execution_count": 18,
   "metadata": {},
   "outputs": [],
   "source": [
    "# Calculate the median of the 'Alcohol' column\n",
    "alcohol_median = X['Alcohol'].median()\n",
    "\n",
    "# Fill missing values in the 'Alcohol' column with the median\n",
    "X['Alcohol'] = X['Alcohol'].fillna(alcohol_median)\n",
    "\n"
   ]
  },
  {
   "cell_type": "code",
   "execution_count": 19,
   "metadata": {},
   "outputs": [
    {
     "data": {
      "text/plain": [
       "0"
      ]
     },
     "execution_count": 19,
     "metadata": {},
     "output_type": "execute_result"
    }
   ],
   "source": [
    "# filled with median\n",
    "X['Alcohol'].isnull().sum()"
   ]
  },
  {
   "cell_type": "code",
   "execution_count": 20,
   "metadata": {},
   "outputs": [
    {
     "data": {
      "text/plain": [
       "475"
      ]
     },
     "execution_count": 20,
     "metadata": {},
     "output_type": "execute_result"
    }
   ],
   "source": [
    "X['HepatitisB'].isnull().sum()"
   ]
  },
  {
   "cell_type": "code",
   "execution_count": 21,
   "metadata": {},
   "outputs": [
    {
     "data": {
      "text/plain": [
       "count    2023.000000\n",
       "mean       80.739001\n",
       "std        25.394243\n",
       "min         1.000000\n",
       "25%        77.000000\n",
       "50%        92.000000\n",
       "75%        97.000000\n",
       "max        99.000000\n",
       "Name: HepatitisB, dtype: float64"
      ]
     },
     "execution_count": 21,
     "metadata": {},
     "output_type": "execute_result"
    }
   ],
   "source": [
    "X['HepatitisB'].describe()"
   ]
  },
  {
   "cell_type": "code",
   "execution_count": 22,
   "metadata": {},
   "outputs": [
    {
     "name": "stderr",
     "output_type": "stream",
     "text": [
      "/Library/Frameworks/Python.framework/Versions/3.10/lib/python3.10/site-packages/seaborn/_decorators.py:36: FutureWarning: Pass the following variable as a keyword arg: x. From version 0.12, the only valid positional argument will be `data`, and passing other arguments without an explicit keyword will result in an error or misinterpretation.\n",
      "  warnings.warn(\n"
     ]
    },
    {
     "data": {
      "text/plain": [
       "<AxesSubplot:xlabel='HepatitisB'>"
      ]
     },
     "execution_count": 22,
     "metadata": {},
     "output_type": "execute_result"
    },
    {
     "data": {
      "image/png": "[encoded data removed]",
      "text/plain": [
       "<Figure size 432x288 with 1 Axes>"
      ]
     },
     "metadata": {
      "needs_background": "light"
     },
     "output_type": "display_data"
    }
   ],
   "source": [
    "# trying to figure out outlier and I found some outliers \n",
    "sns.boxplot(X['HepatitisB'])"
   ]
  },
  {
   "cell_type": "code",
   "execution_count": 23,
   "metadata": {},
   "outputs": [],
   "source": [
    "# Calculate the median of the column\n",
    "median = X['HepatitisB'].median()\n",
    "\n",
    "# Fill missing values incolumn with the median\n",
    "X['HepatitisB'] = X['HepatitisB'].fillna(median)"
   ]
  },
  {
   "cell_type": "code",
   "execution_count": 24,
   "metadata": {},
   "outputs": [
    {
     "name": "stdout",
     "output_type": "stream",
     "text": [
      "Q1 : 82.0\n",
      "Q2 : 96.0\n"
     ]
    }
   ],
   "source": [
    "# Calculate Q1 (25th percentile) \n",
    "Q1 = X['HepatitisB'].quantile(0.25)\n",
    "\n",
    "# Calculate Q2 (50th percentile)\n",
    "Q3 = X['HepatitisB'].quantile(0.75)\n",
    "\n",
    "print(\"Q1 :\", Q1)\n",
    "print(\"Q2 :\", Q3)"
   ]
  },
  {
   "cell_type": "code",
   "execution_count": 25,
   "metadata": {},
   "outputs": [
    {
     "data": {
      "text/plain": [
       "14.0"
      ]
     },
     "execution_count": 25,
     "metadata": {},
     "output_type": "execute_result"
    }
   ],
   "source": [
    "IQR = Q3 - Q1\n",
    "IQR"
   ]
  },
  {
   "cell_type": "code",
   "execution_count": 26,
   "metadata": {},
   "outputs": [
    {
     "name": "stdout",
     "output_type": "stream",
     "text": [
      "Upper Bound: 117.0\n",
      "Lower Bound: 61.0\n"
     ]
    }
   ],
   "source": [
    "# Calculate the upper bound\n",
    "upper_bound = Q3 + 1.5 * IQR\n",
    "\n",
    "# Calculate the lower bound\n",
    "lower_bound = Q1 - 1.5 * IQR\n",
    "\n",
    "print(\"Upper Bound:\", upper_bound)\n",
    "print(\"Lower Bound:\", lower_bound)"
   ]
  },
  {
   "cell_type": "code",
   "execution_count": 27,
   "metadata": {},
   "outputs": [],
   "source": [
    "# Replace values outside the bounds with the median\n",
    "X['HepatitisB'] = np.where((X['HepatitisB'] < 90) | (X['HepatitisB'] > upper_bound), np.median(X['HepatitisB']), X['HepatitisB'])"
   ]
  },
  {
   "cell_type": "code",
   "execution_count": 28,
   "metadata": {},
   "outputs": [
    {
     "name": "stderr",
     "output_type": "stream",
     "text": [
      "/Library/Frameworks/Python.framework/Versions/3.10/lib/python3.10/site-packages/seaborn/_decorators.py:36: FutureWarning: Pass the following variable as a keyword arg: x. From version 0.12, the only valid positional argument will be `data`, and passing other arguments without an explicit keyword will result in an error or misinterpretation.\n",
      "  warnings.warn(\n"
     ]
    },
    {
     "data": {
      "text/plain": [
       "<AxesSubplot:xlabel='HepatitisB'>"
      ]
     },
     "execution_count": 28,
     "metadata": {},
     "output_type": "execute_result"
    },
    {
     "data": {
      "image/png": "[encoded data removed]",
      "text/plain": [
       "<Figure size 432x288 with 1 Axes>"
      ]
     },
     "metadata": {
      "needs_background": "light"
     },
     "output_type": "display_data"
    }
   ],
   "source": [
    "sns.boxplot(X['HepatitisB'])"
   ]
  },
  {
   "cell_type": "code",
   "execution_count": 29,
   "metadata": {},
   "outputs": [
    {
     "data": {
      "text/plain": [
       "Country                           0\n",
       "Year                              0\n",
       "Status                            0\n",
       "LifeExpectancy                    7\n",
       "AdultMortality                    7\n",
       "infantDeaths                      0\n",
       "Alcohol                           0\n",
       "percentageExpenditure             0\n",
       "HepatitisB                        0\n",
       "Measles                           0\n",
       "BMI                              28\n",
       "under_fiveDeaths                  0\n",
       "Polio                            16\n",
       "TotalExpenditure                198\n",
       "Diphtheria                       16\n",
       "HIV_AIDS                          0\n",
       "GDP                             380\n",
       "Population                      548\n",
       "thinness1_19Years                28\n",
       "thinness5_9Years                 28\n",
       "IncomeCompositionOfResources    142\n",
       "Schooling                       139\n",
       "dtype: int64"
      ]
     },
     "execution_count": 29,
     "metadata": {},
     "output_type": "execute_result"
    }
   ],
   "source": [
    "X.isnull().sum()"
   ]
  },
  {
   "cell_type": "code",
   "execution_count": 30,
   "metadata": {},
   "outputs": [
    {
     "data": {
      "text/plain": [
       "count    2300.000000\n",
       "mean        5.932848\n",
       "std         2.522142\n",
       "min         0.370000\n",
       "25%         4.260000\n",
       "50%         5.710000\n",
       "75%         7.470000\n",
       "max        17.600000\n",
       "Name: TotalExpenditure, dtype: float64"
      ]
     },
     "execution_count": 30,
     "metadata": {},
     "output_type": "execute_result"
    }
   ],
   "source": [
    "X[\"TotalExpenditure\"].describe()"
   ]
  },
  {
   "cell_type": "code",
   "execution_count": 31,
   "metadata": {},
   "outputs": [],
   "source": [
    "# Calculate the median of the column\n",
    "median = X['TotalExpenditure'].median()\n",
    "\n",
    "# Fill missing values incolumn with the median\n",
    "X['TotalExpenditure'] = X['TotalExpenditure'].fillna(median)"
   ]
  },
  {
   "cell_type": "code",
   "execution_count": 32,
   "metadata": {},
   "outputs": [
    {
     "name": "stderr",
     "output_type": "stream",
     "text": [
      "/Library/Frameworks/Python.framework/Versions/3.10/lib/python3.10/site-packages/seaborn/_decorators.py:36: FutureWarning: Pass the following variable as a keyword arg: x. From version 0.12, the only valid positional argument will be `data`, and passing other arguments without an explicit keyword will result in an error or misinterpretation.\n",
      "  warnings.warn(\n"
     ]
    },
    {
     "data": {
      "text/plain": [
       "<AxesSubplot:xlabel='TotalExpenditure'>"
      ]
     },
     "execution_count": 32,
     "metadata": {},
     "output_type": "execute_result"
    },
    {
     "data": {
      "image/png": "[encoded data removed]",
      "text/plain": [
       "<Figure size 432x288 with 1 Axes>"
      ]
     },
     "metadata": {
      "needs_background": "light"
     },
     "output_type": "display_data"
    }
   ],
   "source": [
    "sns.boxplot(X['TotalExpenditure'])"
   ]
  },
  {
   "cell_type": "code",
   "execution_count": 33,
   "metadata": {},
   "outputs": [
    {
     "name": "stdout",
     "output_type": "stream",
     "text": [
      "Q1 : 4.37\n",
      "Q2 : 7.2675\n"
     ]
    }
   ],
   "source": [
    "# Calculate Q1 (25th percentile) \n",
    "Q1 = X['TotalExpenditure'].quantile(0.25)\n",
    "\n",
    "# Calculate Q2 (50th percentile)\n",
    "Q3 = X['TotalExpenditure'].quantile(0.75)\n",
    "\n",
    "print(\"Q1 :\", Q1)\n",
    "print(\"Q2 :\", Q3)"
   ]
  },
  {
   "cell_type": "code",
   "execution_count": 34,
   "metadata": {},
   "outputs": [
    {
     "name": "stdout",
     "output_type": "stream",
     "text": [
      "Upper Bound: 28.2675\n",
      "Lower Bound: -16.63\n"
     ]
    }
   ],
   "source": [
    "# Calculate the upper bound\n",
    "upper_bound = Q3 + 1.5 * IQR\n",
    "\n",
    "# Calculate the lower bound\n",
    "lower_bound = Q1 - 1.5 * IQR\n",
    "\n",
    "print(\"Upper Bound:\", upper_bound)\n",
    "print(\"Lower Bound:\", lower_bound)"
   ]
  },
  {
   "cell_type": "code",
   "execution_count": 35,
   "metadata": {},
   "outputs": [],
   "source": [
    "\n",
    "# Replace values outside the bounds with the median\n",
    "X['TotalExpenditure'] = np.where((X['TotalExpenditure'] < 1) | (X['TotalExpenditure'] > 10), np.median(X['TotalExpenditure']), X['TotalExpenditure'])"
   ]
  },
  {
   "cell_type": "code",
   "execution_count": 36,
   "metadata": {},
   "outputs": [
    {
     "name": "stderr",
     "output_type": "stream",
     "text": [
      "/Library/Frameworks/Python.framework/Versions/3.10/lib/python3.10/site-packages/seaborn/_decorators.py:36: FutureWarning: Pass the following variable as a keyword arg: x. From version 0.12, the only valid positional argument will be `data`, and passing other arguments without an explicit keyword will result in an error or misinterpretation.\n",
      "  warnings.warn(\n"
     ]
    },
    {
     "data": {
      "text/plain": [
       "<AxesSubplot:xlabel='TotalExpenditure'>"
      ]
     },
     "execution_count": 36,
     "metadata": {},
     "output_type": "execute_result"
    },
    {
     "data": {
      "image/png": "[encoded data removed]",
      "text/plain": [
       "<Figure size 432x288 with 1 Axes>"
      ]
     },
     "metadata": {
      "needs_background": "light"
     },
     "output_type": "display_data"
    }
   ],
   "source": [
    "sns.boxplot(X['TotalExpenditure'])"
   ]
  },
  {
   "cell_type": "code",
   "execution_count": 37,
   "metadata": {},
   "outputs": [
    {
     "data": {
      "text/plain": [
       "count      2118.000000\n",
       "mean       7503.016115\n",
       "std       14615.515368\n",
       "min           1.681350\n",
       "25%         463.946903\n",
       "50%        1736.909160\n",
       "75%        5767.678275\n",
       "max      119172.741800\n",
       "Name: GDP, dtype: float64"
      ]
     },
     "execution_count": 37,
     "metadata": {},
     "output_type": "execute_result"
    }
   ],
   "source": [
    "X['GDP'].describe()"
   ]
  },
  {
   "cell_type": "code",
   "execution_count": 38,
   "metadata": {},
   "outputs": [],
   "source": [
    "# Calculate the median of the column\n",
    "median = X['GDP'].median()\n",
    "\n",
    "# Fill missing values incolumn with the median\n",
    "X['GDP'] = X['GDP'].fillna(median)"
   ]
  },
  {
   "cell_type": "code",
   "execution_count": 39,
   "metadata": {},
   "outputs": [
    {
     "name": "stderr",
     "output_type": "stream",
     "text": [
      "/Library/Frameworks/Python.framework/Versions/3.10/lib/python3.10/site-packages/seaborn/_decorators.py:36: FutureWarning: Pass the following variable as a keyword arg: x. From version 0.12, the only valid positional argument will be `data`, and passing other arguments without an explicit keyword will result in an error or misinterpretation.\n",
      "  warnings.warn(\n"
     ]
    },
    {
     "data": {
      "text/plain": [
       "<AxesSubplot:xlabel='GDP'>"
      ]
     },
     "execution_count": 39,
     "metadata": {},
     "output_type": "execute_result"
    },
    {
     "data": {
      "image/png": "[encoded data removed]",
      "text/plain": [
       "<Figure size 432x288 with 1 Axes>"
      ]
     },
     "metadata": {
      "needs_background": "light"
     },
     "output_type": "display_data"
    }
   ],
   "source": [
    "sns.boxplot(X['GDP'])"
   ]
  },
  {
   "cell_type": "code",
   "execution_count": 40,
   "metadata": {},
   "outputs": [
    {
     "name": "stdout",
     "output_type": "stream",
     "text": [
      "Q1 : 584.2934609250001\n",
      "Q2 : 4694.968123250001\n"
     ]
    }
   ],
   "source": [
    "# Calculate Q1 (25th percentile) \n",
    "Q1 = X['GDP'].quantile(0.25)\n",
    "\n",
    "# Calculate Q2 (50th percentile)\n",
    "Q3 = X['GDP'].quantile(0.75)\n",
    "\n",
    "print(\"Q1 :\", Q1)\n",
    "print(\"Q2 :\", Q3)"
   ]
  },
  {
   "cell_type": "code",
   "execution_count": 41,
   "metadata": {},
   "outputs": [
    {
     "name": "stdout",
     "output_type": "stream",
     "text": [
      "Upper Bound: 4715.968123250001\n",
      "Lower Bound: 563.2934609250001\n"
     ]
    }
   ],
   "source": [
    "# Calculate the upper bound\n",
    "upper_bound = Q3 + 1.5 * IQR\n",
    "\n",
    "# Calculate the lower bound\n",
    "lower_bound = Q1 - 1.5 * IQR\n",
    "\n",
    "print(\"Upper Bound:\", upper_bound)\n",
    "print(\"Lower Bound:\", lower_bound)"
   ]
  },
  {
   "cell_type": "code",
   "execution_count": 42,
   "metadata": {},
   "outputs": [],
   "source": [
    "# Replace values outside the bounds with the median\n",
    "X['GDP'] = np.where((X['GDP'] < lower_bound) | (X['GDP'] > 9700), np.median(5000), X['GDP'])\n"
   ]
  },
  {
   "cell_type": "code",
   "execution_count": 43,
   "metadata": {},
   "outputs": [
    {
     "name": "stderr",
     "output_type": "stream",
     "text": [
      "/Library/Frameworks/Python.framework/Versions/3.10/lib/python3.10/site-packages/seaborn/_decorators.py:36: FutureWarning: Pass the following variable as a keyword arg: x. From version 0.12, the only valid positional argument will be `data`, and passing other arguments without an explicit keyword will result in an error or misinterpretation.\n",
      "  warnings.warn(\n"
     ]
    },
    {
     "data": {
      "text/plain": [
       "<AxesSubplot:xlabel='GDP'>"
      ]
     },
     "execution_count": 43,
     "metadata": {},
     "output_type": "execute_result"
    },
    {
     "data": {
      "image/png": "[encoded data removed]",
      "text/plain": [
       "<Figure size 432x288 with 1 Axes>"
      ]
     },
     "metadata": {
      "needs_background": "light"
     },
     "output_type": "display_data"
    }
   ],
   "source": [
    "sns.boxplot(X['GDP'])"
   ]
  },
  {
   "cell_type": "code",
   "execution_count": 44,
   "metadata": {},
   "outputs": [
    {
     "data": {
      "text/plain": [
       "Country                           0\n",
       "Year                              0\n",
       "Status                            0\n",
       "LifeExpectancy                    7\n",
       "AdultMortality                    7\n",
       "infantDeaths                      0\n",
       "Alcohol                           0\n",
       "percentageExpenditure             0\n",
       "HepatitisB                        0\n",
       "Measles                           0\n",
       "BMI                              28\n",
       "under_fiveDeaths                  0\n",
       "Polio                            16\n",
       "TotalExpenditure                  0\n",
       "Diphtheria                       16\n",
       "HIV_AIDS                          0\n",
       "GDP                               0\n",
       "Population                      548\n",
       "thinness1_19Years                28\n",
       "thinness5_9Years                 28\n",
       "IncomeCompositionOfResources    142\n",
       "Schooling                       139\n",
       "dtype: int64"
      ]
     },
     "execution_count": 44,
     "metadata": {},
     "output_type": "execute_result"
    }
   ],
   "source": [
    "X.isnull().sum()"
   ]
  },
  {
   "cell_type": "code",
   "execution_count": 45,
   "metadata": {},
   "outputs": [],
   "source": [
    "# Calculate the median of the column\n",
    "median = X['Population'].median()\n",
    "\n",
    "# Fill missing values incolumn with the median\n",
    "X['Population'] = X['Population'].fillna(median)"
   ]
  },
  {
   "cell_type": "code",
   "execution_count": 46,
   "metadata": {},
   "outputs": [
    {
     "data": {
      "text/plain": [
       "count    2.498000e+03\n",
       "mean     1.064744e+07\n",
       "std      5.792319e+07\n",
       "min      3.400000e+01\n",
       "25%      3.973645e+05\n",
       "50%      1.379325e+06\n",
       "75%      4.612492e+06\n",
       "max      1.293859e+09\n",
       "Name: Population, dtype: float64"
      ]
     },
     "execution_count": 46,
     "metadata": {},
     "output_type": "execute_result"
    }
   ],
   "source": [
    "X['Population'].describe()"
   ]
  },
  {
   "cell_type": "code",
   "execution_count": 47,
   "metadata": {},
   "outputs": [
    {
     "data": {
      "text/plain": [
       "Country                           0\n",
       "Year                              0\n",
       "Status                            0\n",
       "LifeExpectancy                    7\n",
       "AdultMortality                    7\n",
       "infantDeaths                      0\n",
       "Alcohol                           0\n",
       "percentageExpenditure             0\n",
       "HepatitisB                        0\n",
       "Measles                           0\n",
       "BMI                              28\n",
       "under_fiveDeaths                  0\n",
       "Polio                            16\n",
       "TotalExpenditure                  0\n",
       "Diphtheria                       16\n",
       "HIV_AIDS                          0\n",
       "GDP                               0\n",
       "Population                        0\n",
       "thinness1_19Years                28\n",
       "thinness5_9Years                 28\n",
       "IncomeCompositionOfResources    142\n",
       "Schooling                       139\n",
       "dtype: int64"
      ]
     },
     "execution_count": 47,
     "metadata": {},
     "output_type": "execute_result"
    }
   ],
   "source": [
    "X.isnull().sum()"
   ]
  },
  {
   "cell_type": "code",
   "execution_count": 48,
   "metadata": {},
   "outputs": [],
   "source": [
    "# Calculate the median of the column\n",
    "median = X['Schooling'].median()\n",
    "\n",
    "# Fill missing values incolumn with the median\n",
    "X['Schooling'] = X['Schooling'].fillna(median)"
   ]
  },
  {
   "cell_type": "code",
   "execution_count": 49,
   "metadata": {},
   "outputs": [],
   "source": [
    "# Calculate the median of the column\n",
    "median = X['thinness5_9Years'].median()\n",
    "\n",
    "# Fill missing values incolumn with the median\n",
    "X['thinness5_9Years'] = X['thinness5_9Years'].fillna(median)"
   ]
  },
  {
   "cell_type": "code",
   "execution_count": 50,
   "metadata": {},
   "outputs": [],
   "source": [
    "# Calculate the median of the column\n",
    "median = X['thinness1_19Years'].median()\n",
    "\n",
    "# Fill missing values incolumn with the median\n",
    "X['thinness1_19Years'] = X['thinness1_19Years'].fillna(median)"
   ]
  },
  {
   "cell_type": "code",
   "execution_count": 51,
   "metadata": {},
   "outputs": [],
   "source": [
    "X.dropna(inplace=True)"
   ]
  },
  {
   "cell_type": "code",
   "execution_count": 52,
   "metadata": {},
   "outputs": [
    {
     "data": {
      "text/plain": [
       "Country                         0\n",
       "Year                            0\n",
       "Status                          0\n",
       "LifeExpectancy                  0\n",
       "AdultMortality                  0\n",
       "infantDeaths                    0\n",
       "Alcohol                         0\n",
       "percentageExpenditure           0\n",
       "HepatitisB                      0\n",
       "Measles                         0\n",
       "BMI                             0\n",
       "under_fiveDeaths                0\n",
       "Polio                           0\n",
       "TotalExpenditure                0\n",
       "Diphtheria                      0\n",
       "HIV_AIDS                        0\n",
       "GDP                             0\n",
       "Population                      0\n",
       "thinness1_19Years               0\n",
       "thinness5_9Years                0\n",
       "IncomeCompositionOfResources    0\n",
       "Schooling                       0\n",
       "dtype: int64"
      ]
     },
     "execution_count": 52,
     "metadata": {},
     "output_type": "execute_result"
    }
   ],
   "source": [
    "X.isnull().sum()"
   ]
  },
  {
   "cell_type": "code",
   "execution_count": 53,
   "metadata": {},
   "outputs": [
    {
     "name": "stdout",
     "output_type": "stream",
     "text": [
      "object\n"
     ]
    }
   ],
   "source": [
    "print(X['Country'].dtype)"
   ]
  },
  {
   "cell_type": "code",
   "execution_count": 54,
   "metadata": {},
   "outputs": [
    {
     "data": {
      "text/plain": [
       "Country\n",
       "Iran (Islamic Republic of)    16\n",
       "Kazakhstan                    16\n",
       "Papua New Guinea              16\n",
       "Morocco                       16\n",
       "Botswana                      16\n",
       "                              ..\n",
       "Viet Nam                      10\n",
       "Belgium                       10\n",
       "Zimbabwe                      10\n",
       "Poland                         9\n",
       "Montenegro                     8\n",
       "Name: count, Length: 171, dtype: int64"
      ]
     },
     "execution_count": 54,
     "metadata": {},
     "output_type": "execute_result"
    }
   ],
   "source": [
    "X['Country'].value_counts()"
   ]
  },
  {
   "cell_type": "code",
   "execution_count": 55,
   "metadata": {},
   "outputs": [],
   "source": [
    "X = X.iloc[:, 1:]\n",
    "y = y.iloc[:,1:]"
   ]
  },
  {
   "cell_type": "code",
   "execution_count": 56,
   "metadata": {},
   "outputs": [
    {
     "name": "stdout",
     "output_type": "stream",
     "text": [
      "(2321, 21)\n",
      "(440, 20)\n"
     ]
    }
   ],
   "source": [
    "\n",
    "\n",
    "print(X.shape)\n",
    "print(y.shape)\n"
   ]
  },
  {
   "cell_type": "code",
   "execution_count": 57,
   "metadata": {},
   "outputs": [],
   "source": [
    "X = X.dropna()\n",
    "y = y.dropna()"
   ]
  },
  {
   "cell_type": "code",
   "execution_count": 58,
   "metadata": {},
   "outputs": [
    {
     "data": {
      "text/plain": [
       "Year                            0\n",
       "Status                          0\n",
       "AdultMortality                  0\n",
       "infantDeaths                    0\n",
       "Alcohol                         0\n",
       "percentageExpenditure           0\n",
       "HepatitisB                      0\n",
       "Measles                         0\n",
       "BMI                             0\n",
       "under_fiveDeaths                0\n",
       "Polio                           0\n",
       "TotalExpenditure                0\n",
       "Diphtheria                      0\n",
       "HIV_AIDS                        0\n",
       "GDP                             0\n",
       "Population                      0\n",
       "thinness1_19Years               0\n",
       "thinness5_9Years                0\n",
       "IncomeCompositionOfResources    0\n",
       "Schooling                       0\n",
       "dtype: int64"
      ]
     },
     "execution_count": 58,
     "metadata": {},
     "output_type": "execute_result"
    }
   ],
   "source": [
    "y.isnull().sum()"
   ]
  },
  {
   "cell_type": "code",
   "execution_count": 59,
   "metadata": {},
   "outputs": [
    {
     "name": "stdout",
     "output_type": "stream",
     "text": [
      "<class 'pandas.core.frame.DataFrame'>\n",
      "Index: 246 entries, 0 to 439\n",
      "Data columns (total 20 columns):\n",
      " #   Column                        Non-Null Count  Dtype  \n",
      "---  ------                        --------------  -----  \n",
      " 0   Year                          246 non-null    int64  \n",
      " 1   Status                        246 non-null    int64  \n",
      " 2   AdultMortality                246 non-null    float64\n",
      " 3   infantDeaths                  246 non-null    int64  \n",
      " 4   Alcohol                       246 non-null    float64\n",
      " 5   percentageExpenditure         246 non-null    float64\n",
      " 6   HepatitisB                    246 non-null    float64\n",
      " 7   Measles                       246 non-null    int64  \n",
      " 8   BMI                           246 non-null    float64\n",
      " 9   under_fiveDeaths              246 non-null    int64  \n",
      " 10  Polio                         246 non-null    float64\n",
      " 11  TotalExpenditure              246 non-null    float64\n",
      " 12  Diphtheria                    246 non-null    float64\n",
      " 13  HIV_AIDS                      246 non-null    float64\n",
      " 14  GDP                           246 non-null    float64\n",
      " 15  Population                    246 non-null    float64\n",
      " 16  thinness1_19Years             246 non-null    float64\n",
      " 17  thinness5_9Years              246 non-null    float64\n",
      " 18  IncomeCompositionOfResources  246 non-null    float64\n",
      " 19  Schooling                     246 non-null    float64\n",
      "dtypes: float64(15), int64(5)\n",
      "memory usage: 40.4 KB\n"
     ]
    }
   ],
   "source": [
    "y.info()"
   ]
  },
  {
   "cell_type": "code",
   "execution_count": 60,
   "metadata": {},
   "outputs": [
    {
     "data": {
      "text/html": [
       "<div>\n",
       "<style scoped>\n",
       "    .dataframe tbody tr th:only-of-type {\n",
       "        vertical-align: middle;\n",
       "    }\n",
       "\n",
       "    .dataframe tbody tr th {\n",
       "        vertical-align: top;\n",
       "    }\n",
       "\n",
       "    .dataframe thead th {\n",
       "        text-align: right;\n",
       "    }\n",
       "</style>\n",
       "<table border=\"1\" class=\"dataframe\">\n",
       "  <thead>\n",
       "    <tr style=\"text-align: right;\">\n",
       "      <th></th>\n",
       "      <th>Year</th>\n",
       "      <th>Status</th>\n",
       "      <th>LifeExpectancy</th>\n",
       "      <th>AdultMortality</th>\n",
       "      <th>infantDeaths</th>\n",
       "      <th>Alcohol</th>\n",
       "      <th>percentageExpenditure</th>\n",
       "      <th>HepatitisB</th>\n",
       "      <th>Measles</th>\n",
       "      <th>BMI</th>\n",
       "      <th>...</th>\n",
       "      <th>Polio</th>\n",
       "      <th>TotalExpenditure</th>\n",
       "      <th>Diphtheria</th>\n",
       "      <th>HIV_AIDS</th>\n",
       "      <th>GDP</th>\n",
       "      <th>Population</th>\n",
       "      <th>thinness1_19Years</th>\n",
       "      <th>thinness5_9Years</th>\n",
       "      <th>IncomeCompositionOfResources</th>\n",
       "      <th>Schooling</th>\n",
       "    </tr>\n",
       "  </thead>\n",
       "  <tbody>\n",
       "    <tr>\n",
       "      <th>0</th>\n",
       "      <td>2015</td>\n",
       "      <td>0</td>\n",
       "      <td>65.0</td>\n",
       "      <td>263.0</td>\n",
       "      <td>62</td>\n",
       "      <td>0.01</td>\n",
       "      <td>71.279624</td>\n",
       "      <td>92.0</td>\n",
       "      <td>1154</td>\n",
       "      <td>19.1</td>\n",
       "      <td>...</td>\n",
       "      <td>6.0</td>\n",
       "      <td>8.16</td>\n",
       "      <td>65.0</td>\n",
       "      <td>0.1</td>\n",
       "      <td>584.25921</td>\n",
       "      <td>33736494.0</td>\n",
       "      <td>17.2</td>\n",
       "      <td>17.3</td>\n",
       "      <td>0.479</td>\n",
       "      <td>10.1</td>\n",
       "    </tr>\n",
       "    <tr>\n",
       "      <th>1</th>\n",
       "      <td>2012</td>\n",
       "      <td>0</td>\n",
       "      <td>59.5</td>\n",
       "      <td>272.0</td>\n",
       "      <td>69</td>\n",
       "      <td>0.01</td>\n",
       "      <td>78.184215</td>\n",
       "      <td>92.0</td>\n",
       "      <td>2787</td>\n",
       "      <td>17.6</td>\n",
       "      <td>...</td>\n",
       "      <td>67.0</td>\n",
       "      <td>8.52</td>\n",
       "      <td>67.0</td>\n",
       "      <td>0.1</td>\n",
       "      <td>669.95900</td>\n",
       "      <td>3696958.0</td>\n",
       "      <td>17.9</td>\n",
       "      <td>18.0</td>\n",
       "      <td>0.463</td>\n",
       "      <td>9.8</td>\n",
       "    </tr>\n",
       "    <tr>\n",
       "      <th>2</th>\n",
       "      <td>2011</td>\n",
       "      <td>0</td>\n",
       "      <td>59.2</td>\n",
       "      <td>275.0</td>\n",
       "      <td>71</td>\n",
       "      <td>0.01</td>\n",
       "      <td>7.097109</td>\n",
       "      <td>92.0</td>\n",
       "      <td>3013</td>\n",
       "      <td>17.2</td>\n",
       "      <td>...</td>\n",
       "      <td>68.0</td>\n",
       "      <td>7.87</td>\n",
       "      <td>68.0</td>\n",
       "      <td>0.1</td>\n",
       "      <td>5000.00000</td>\n",
       "      <td>2978599.0</td>\n",
       "      <td>18.2</td>\n",
       "      <td>18.2</td>\n",
       "      <td>0.454</td>\n",
       "      <td>9.5</td>\n",
       "    </tr>\n",
       "    <tr>\n",
       "      <th>3</th>\n",
       "      <td>2010</td>\n",
       "      <td>0</td>\n",
       "      <td>58.8</td>\n",
       "      <td>279.0</td>\n",
       "      <td>74</td>\n",
       "      <td>0.01</td>\n",
       "      <td>79.679367</td>\n",
       "      <td>92.0</td>\n",
       "      <td>1989</td>\n",
       "      <td>16.7</td>\n",
       "      <td>...</td>\n",
       "      <td>66.0</td>\n",
       "      <td>9.20</td>\n",
       "      <td>66.0</td>\n",
       "      <td>0.1</td>\n",
       "      <td>5000.00000</td>\n",
       "      <td>2883167.0</td>\n",
       "      <td>18.4</td>\n",
       "      <td>18.4</td>\n",
       "      <td>0.448</td>\n",
       "      <td>9.2</td>\n",
       "    </tr>\n",
       "    <tr>\n",
       "      <th>4</th>\n",
       "      <td>2009</td>\n",
       "      <td>0</td>\n",
       "      <td>58.6</td>\n",
       "      <td>281.0</td>\n",
       "      <td>77</td>\n",
       "      <td>0.01</td>\n",
       "      <td>56.762217</td>\n",
       "      <td>92.0</td>\n",
       "      <td>2861</td>\n",
       "      <td>16.2</td>\n",
       "      <td>...</td>\n",
       "      <td>63.0</td>\n",
       "      <td>9.42</td>\n",
       "      <td>63.0</td>\n",
       "      <td>0.1</td>\n",
       "      <td>5000.00000</td>\n",
       "      <td>284331.0</td>\n",
       "      <td>18.6</td>\n",
       "      <td>18.7</td>\n",
       "      <td>0.434</td>\n",
       "      <td>8.9</td>\n",
       "    </tr>\n",
       "  </tbody>\n",
       "</table>\n",
       "<p>5 rows × 21 columns</p>\n",
       "</div>"
      ],
      "text/plain": [
       "   Year  Status  LifeExpectancy  AdultMortality  infantDeaths  Alcohol  \\\n",
       "0  2015       0            65.0           263.0            62     0.01   \n",
       "1  2012       0            59.5           272.0            69     0.01   \n",
       "2  2011       0            59.2           275.0            71     0.01   \n",
       "3  2010       0            58.8           279.0            74     0.01   \n",
       "4  2009       0            58.6           281.0            77     0.01   \n",
       "\n",
       "   percentageExpenditure  HepatitisB  Measles   BMI  ...  Polio  \\\n",
       "0              71.279624        92.0     1154  19.1  ...    6.0   \n",
       "1              78.184215        92.0     2787  17.6  ...   67.0   \n",
       "2               7.097109        92.0     3013  17.2  ...   68.0   \n",
       "3              79.679367        92.0     1989  16.7  ...   66.0   \n",
       "4              56.762217        92.0     2861  16.2  ...   63.0   \n",
       "\n",
       "   TotalExpenditure  Diphtheria  HIV_AIDS         GDP  Population  \\\n",
       "0              8.16        65.0       0.1   584.25921  33736494.0   \n",
       "1              8.52        67.0       0.1   669.95900   3696958.0   \n",
       "2              7.87        68.0       0.1  5000.00000   2978599.0   \n",
       "3              9.20        66.0       0.1  5000.00000   2883167.0   \n",
       "4              9.42        63.0       0.1  5000.00000    284331.0   \n",
       "\n",
       "   thinness1_19Years  thinness5_9Years  IncomeCompositionOfResources  \\\n",
       "0               17.2              17.3                         0.479   \n",
       "1               17.9              18.0                         0.463   \n",
       "2               18.2              18.2                         0.454   \n",
       "3               18.4              18.4                         0.448   \n",
       "4               18.6              18.7                         0.434   \n",
       "\n",
       "   Schooling  \n",
       "0       10.1  \n",
       "1        9.8  \n",
       "2        9.5  \n",
       "3        9.2  \n",
       "4        8.9  \n",
       "\n",
       "[5 rows x 21 columns]"
      ]
     },
     "execution_count": 60,
     "metadata": {},
     "output_type": "execute_result"
    }
   ],
   "source": [
    "X.head()"
   ]
  },
  {
   "cell_type": "code",
   "execution_count": 61,
   "metadata": {},
   "outputs": [
    {
     "data": {
      "text/html": [
       "<div>\n",
       "<style scoped>\n",
       "    .dataframe tbody tr th:only-of-type {\n",
       "        vertical-align: middle;\n",
       "    }\n",
       "\n",
       "    .dataframe tbody tr th {\n",
       "        vertical-align: top;\n",
       "    }\n",
       "\n",
       "    .dataframe thead th {\n",
       "        text-align: right;\n",
       "    }\n",
       "</style>\n",
       "<table border=\"1\" class=\"dataframe\">\n",
       "  <thead>\n",
       "    <tr style=\"text-align: right;\">\n",
       "      <th></th>\n",
       "      <th>Year</th>\n",
       "      <th>Status</th>\n",
       "      <th>AdultMortality</th>\n",
       "      <th>infantDeaths</th>\n",
       "      <th>Alcohol</th>\n",
       "      <th>percentageExpenditure</th>\n",
       "      <th>HepatitisB</th>\n",
       "      <th>Measles</th>\n",
       "      <th>BMI</th>\n",
       "      <th>under_fiveDeaths</th>\n",
       "      <th>Polio</th>\n",
       "      <th>TotalExpenditure</th>\n",
       "      <th>Diphtheria</th>\n",
       "      <th>HIV_AIDS</th>\n",
       "      <th>GDP</th>\n",
       "      <th>Population</th>\n",
       "      <th>thinness1_19Years</th>\n",
       "      <th>thinness5_9Years</th>\n",
       "      <th>IncomeCompositionOfResources</th>\n",
       "      <th>Schooling</th>\n",
       "    </tr>\n",
       "  </thead>\n",
       "  <tbody>\n",
       "    <tr>\n",
       "      <th>0</th>\n",
       "      <td>2014</td>\n",
       "      <td>0</td>\n",
       "      <td>271.0</td>\n",
       "      <td>64</td>\n",
       "      <td>0.01</td>\n",
       "      <td>73.523582</td>\n",
       "      <td>62.0</td>\n",
       "      <td>492</td>\n",
       "      <td>18.6</td>\n",
       "      <td>86</td>\n",
       "      <td>58.0</td>\n",
       "      <td>8.18</td>\n",
       "      <td>62.0</td>\n",
       "      <td>0.1</td>\n",
       "      <td>612.696514</td>\n",
       "      <td>327582.0</td>\n",
       "      <td>17.5</td>\n",
       "      <td>17.5</td>\n",
       "      <td>0.476</td>\n",
       "      <td>10.0</td>\n",
       "    </tr>\n",
       "    <tr>\n",
       "      <th>1</th>\n",
       "      <td>2013</td>\n",
       "      <td>0</td>\n",
       "      <td>268.0</td>\n",
       "      <td>66</td>\n",
       "      <td>0.01</td>\n",
       "      <td>73.219243</td>\n",
       "      <td>64.0</td>\n",
       "      <td>430</td>\n",
       "      <td>18.1</td>\n",
       "      <td>89</td>\n",
       "      <td>62.0</td>\n",
       "      <td>8.13</td>\n",
       "      <td>64.0</td>\n",
       "      <td>0.1</td>\n",
       "      <td>631.744976</td>\n",
       "      <td>31731688.0</td>\n",
       "      <td>17.7</td>\n",
       "      <td>17.7</td>\n",
       "      <td>0.470</td>\n",
       "      <td>9.9</td>\n",
       "    </tr>\n",
       "    <tr>\n",
       "      <th>2</th>\n",
       "      <td>2007</td>\n",
       "      <td>0</td>\n",
       "      <td>295.0</td>\n",
       "      <td>82</td>\n",
       "      <td>0.02</td>\n",
       "      <td>10.910156</td>\n",
       "      <td>63.0</td>\n",
       "      <td>1141</td>\n",
       "      <td>15.2</td>\n",
       "      <td>113</td>\n",
       "      <td>63.0</td>\n",
       "      <td>6.73</td>\n",
       "      <td>63.0</td>\n",
       "      <td>0.1</td>\n",
       "      <td>369.835796</td>\n",
       "      <td>26616792.0</td>\n",
       "      <td>19.0</td>\n",
       "      <td>19.1</td>\n",
       "      <td>0.415</td>\n",
       "      <td>8.4</td>\n",
       "    </tr>\n",
       "    <tr>\n",
       "      <th>3</th>\n",
       "      <td>2006</td>\n",
       "      <td>0</td>\n",
       "      <td>295.0</td>\n",
       "      <td>84</td>\n",
       "      <td>0.03</td>\n",
       "      <td>17.171518</td>\n",
       "      <td>64.0</td>\n",
       "      <td>1990</td>\n",
       "      <td>14.7</td>\n",
       "      <td>116</td>\n",
       "      <td>58.0</td>\n",
       "      <td>7.43</td>\n",
       "      <td>58.0</td>\n",
       "      <td>0.1</td>\n",
       "      <td>272.563770</td>\n",
       "      <td>2589345.0</td>\n",
       "      <td>19.2</td>\n",
       "      <td>19.3</td>\n",
       "      <td>0.405</td>\n",
       "      <td>8.1</td>\n",
       "    </tr>\n",
       "    <tr>\n",
       "      <th>4</th>\n",
       "      <td>2013</td>\n",
       "      <td>0</td>\n",
       "      <td>84.0</td>\n",
       "      <td>0</td>\n",
       "      <td>4.76</td>\n",
       "      <td>430.876979</td>\n",
       "      <td>99.0</td>\n",
       "      <td>0</td>\n",
       "      <td>56.5</td>\n",
       "      <td>1</td>\n",
       "      <td>99.0</td>\n",
       "      <td>5.66</td>\n",
       "      <td>99.0</td>\n",
       "      <td>0.1</td>\n",
       "      <td>4414.723140</td>\n",
       "      <td>289592.0</td>\n",
       "      <td>1.3</td>\n",
       "      <td>1.4</td>\n",
       "      <td>0.759</td>\n",
       "      <td>14.2</td>\n",
       "    </tr>\n",
       "  </tbody>\n",
       "</table>\n",
       "</div>"
      ],
      "text/plain": [
       "   Year  Status  AdultMortality  infantDeaths  Alcohol  percentageExpenditure  \\\n",
       "0  2014       0           271.0            64     0.01              73.523582   \n",
       "1  2013       0           268.0            66     0.01              73.219243   \n",
       "2  2007       0           295.0            82     0.02              10.910156   \n",
       "3  2006       0           295.0            84     0.03              17.171518   \n",
       "4  2013       0            84.0             0     4.76             430.876979   \n",
       "\n",
       "   HepatitisB  Measles   BMI  under_fiveDeaths  Polio  TotalExpenditure  \\\n",
       "0        62.0      492  18.6                86   58.0              8.18   \n",
       "1        64.0      430  18.1                89   62.0              8.13   \n",
       "2        63.0     1141  15.2               113   63.0              6.73   \n",
       "3        64.0     1990  14.7               116   58.0              7.43   \n",
       "4        99.0        0  56.5                 1   99.0              5.66   \n",
       "\n",
       "   Diphtheria  HIV_AIDS          GDP  Population  thinness1_19Years  \\\n",
       "0        62.0       0.1   612.696514    327582.0               17.5   \n",
       "1        64.0       0.1   631.744976  31731688.0               17.7   \n",
       "2        63.0       0.1   369.835796  26616792.0               19.0   \n",
       "3        58.0       0.1   272.563770   2589345.0               19.2   \n",
       "4        99.0       0.1  4414.723140    289592.0                1.3   \n",
       "\n",
       "   thinness5_9Years  IncomeCompositionOfResources  Schooling  \n",
       "0              17.5                         0.476       10.0  \n",
       "1              17.7                         0.470        9.9  \n",
       "2              19.1                         0.415        8.4  \n",
       "3              19.3                         0.405        8.1  \n",
       "4               1.4                         0.759       14.2  "
      ]
     },
     "execution_count": 61,
     "metadata": {},
     "output_type": "execute_result"
    }
   ],
   "source": [
    "y.head()"
   ]
  },
  {
   "cell_type": "code",
   "execution_count": 62,
   "metadata": {},
   "outputs": [],
   "source": [
    "# Import necessary libraries\n",
    "import pandas as pd\n",
    "from sklearn.model_selection import train_test_split\n",
    "from sklearn.preprocessing import StandardScaler\n",
    "from sklearn.linear_model import LinearRegression\n",
    "from sklearn.metrics import mean_squared_error\n",
    "\n",
    "# Load the training dataset\n",
    "train_data = X\n",
    "\n",
    "# Split the training data into features (X_train) and target variable (y_train)\n",
    "X_train = train_data.drop(columns=['LifeExpectancy'])\n",
    "y_train = train_data['LifeExpectancy']\n",
    "\n",
    "\n",
    "test_data = y\n",
    "\n",
    "\n",
    "\n",
    "# Initialize the model\n",
    "model = LinearRegression()\n",
    "\n",
    "# Train the model\n",
    "model.fit(X_train, y_train)\n",
    "\n",
    "# Make predictions on the test dataset\n",
    "predictions = model.predict(test_data)\n"
   ]
  },
  {
   "cell_type": "code",
   "execution_count": 63,
   "metadata": {},
   "outputs": [
    {
     "name": "stdout",
     "output_type": "stream",
     "text": [
      "0.8341458307035627\n"
     ]
    }
   ],
   "source": [
    "accuracy = model.score(X_train, y_train)\n",
    "print(accuracy)"
   ]
  },
  {
   "cell_type": "code",
   "execution_count": 65,
   "metadata": {},
   "outputs": [
    {
     "name": "stdout",
     "output_type": "stream",
     "text": [
      "RMSE: 0.8906595545938182\n"
     ]
    }
   ],
   "source": [
    "\n",
    "\n",
    "from sklearn.ensemble import BaggingRegressor\n",
    "from sklearn.svm import SVR\n",
    "from sklearn.impute import SimpleImputer\n",
    "from sklearn.preprocessing import StandardScaler\n",
    "\n",
    "life_expectancy_train = train_data\n",
    "life_expectancy_test = test_data\n",
    "\n",
    "# Concatenate train and test datasets for preprocessing\n",
    "data = pd.concat([life_expectancy_train, life_expectancy_test], ignore_index=True)\n",
    "\n",
    "# Handling missing values\n",
    "imputer = SimpleImputer(strategy='median')\n",
    "data_imputed = pd.DataFrame(imputer.fit_transform(data.select_dtypes(include=np.number)), columns=data.select_dtypes(include=np.number).columns)\n",
    "\n",
    "# Feature Scaling\n",
    "scaler = StandardScaler()\n",
    "data_scaled = scaler.fit_transform(data_imputed)\n",
    "\n",
    "# Splitting the data back into train and test sets\n",
    "train_data = data_scaled[:life_expectancy_train.shape[0]]\n",
    "test_data = data_scaled[life_expectancy_train.shape[0]:]\n",
    "\n",
    "X_train = train_data[:, 1:]  # Excluding 'Year' column\n",
    "y_train = train_data[:, 0]   # Target variable 'LifeExpectancy'\n",
    "X_test = test_data[:, 1:]    # Excluding 'Year' column\n",
    "y_test = test_data[:, 0]     # Target variable 'LifeExpectancy'\n",
    "\n",
    "\n",
    "#  Apply Bagging with SVR as base estimator on the dataset (80% training)\n",
    "base_svr = SVR()\n",
    "bagging_regressor = BaggingRegressor(base_estimator=base_svr, random_state=42)\n",
    "bagging_regressor.fit(X_train, y_train)\n",
    "\n",
    "y_pred = bagging_regressor.predict(X_test)\n",
    "\n",
    "\n"
   ]
  },
  {
   "cell_type": "code",
   "execution_count": null,
   "metadata": {},
   "outputs": [
    {
     "name": "stdout",
     "output_type": "stream",
     "text": [
      "RMSE: 0.8906595545938182\n"
     ]
    }
   ],
   "source": [
    "rmse = np.sqrt(mean_squared_error(y_test, y_pred))\n",
    "print(\"RMSE:\", rmse)"
   ]
  },
  {
   "cell_type": "code",
   "execution_count": null,
   "metadata": {},
   "outputs": [
    {
     "name": "stdout",
     "output_type": "stream",
     "text": [
      "Mean Squared Error: 0.7932744421892586\n"
     ]
    }
   ],
   "source": [
    "mse = mean_squared_error(y_test, y_pred)\n",
    "print(\"Mean Squared Error:\", mse)"
   ]
  }
 ],
 "metadata": {
  "kernelspec": {
   "display_name": "Python 3",
   "language": "python",
   "name": "python3"
  },
  "language_info": {
   "codemirror_mode": {
    "name": "ipython",
    "version": 3
   },
   "file_extension": ".py",
   "mimetype": "text/x-python",
   "name": "python",
   "nbconvert_exporter": "python",
   "pygments_lexer": "ipython3",
   "version": "3.10.5"
  }
 },
 "nbformat": 4,
 "nbformat_minor": 2
}
