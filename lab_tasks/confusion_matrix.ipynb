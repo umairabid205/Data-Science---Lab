{
  "cells": [
    {
      "cell_type": "markdown",
      "metadata": {
        "id": "-Ns4vBASGFjE"
      },
      "source": [
        "# Chapter 10: Sentiment Analysis\n",
        "This document contains python code details related to the Sentiment Analysis chapter.\n"
      ]
    },
    {
      "cell_type": "markdown",
      "metadata": {
        "id": "paCEIgCUGFjI"
      },
      "source": [
        "\n",
        "First, let's import useful libraries"
      ]
    },
    {
      "cell_type": "code",
      "execution_count": 1,
      "metadata": {
        "id": "Wowm3snrGFjJ"
      },
      "outputs": [],
      "source": [
        "import matplotlib.pylab as plt\n",
        "#matplotlib inline\n",
        "#plt.style.use('seaborn-whitegrid')\n",
        "plt.rc('text', usetex=True)\n",
        "plt.rc('font', family='times')\n",
        "plt.rc('xtick', labelsize=10)\n",
        "plt.rc('ytick', labelsize=10)\n",
        "plt.rc('font', size=12)"
      ]
    },
    {
      "cell_type": "markdown",
      "metadata": {
        "id": "Ho9Cc9peGFjL"
      },
      "source": [
        "Installation requirements:"
      ]
    },
    {
      "cell_type": "code",
      "execution_count": 2,
      "metadata": {
        "colab": {
          "base_uri": "https://localhost:8080/"
        },
        "id": "45kF_qZUGFjL",
        "outputId": "faae0963-044e-45bb-c838-0ec878a59574"
      },
      "outputs": [
        {
          "output_type": "stream",
          "name": "stdout",
          "text": [
            "Collecting unidecode\n",
            "  Downloading Unidecode-1.3.8-py3-none-any.whl (235 kB)\n",
            "\u001b[?25l     \u001b[90m━━━━━━━━━━━━━━━━━━━━━━━━━━━━━━━━━━━━━━━━\u001b[0m \u001b[32m0.0/235.5 kB\u001b[0m \u001b[31m?\u001b[0m eta \u001b[36m-:--:--\u001b[0m\r\u001b[2K     \u001b[90m━━━━━━━━━━━━━━━━━━━━━━━━━━━━━━━━━━━━━━━━\u001b[0m \u001b[32m235.5/235.5 kB\u001b[0m \u001b[31m8.3 MB/s\u001b[0m eta \u001b[36m0:00:00\u001b[0m\n",
            "\u001b[?25hInstalling collected packages: unidecode\n",
            "Successfully installed unidecode-1.3.8\n"
          ]
        }
      ],
      "source": [
        "!pip install unidecode"
      ]
    },
    {
      "cell_type": "markdown",
      "metadata": {
        "id": "UV6fOLm2GFjM"
      },
      "source": [
        "Before starting is important to download the nltk corpora. You can download individual data packages or you can download the entire collection (using “all”). Useful corpora for this notebook include wordnet, movie_reviews, and stopwords."
      ]
    },
    {
      "cell_type": "code",
      "execution_count": 3,
      "metadata": {
        "colab": {
          "base_uri": "https://localhost:8080/"
        },
        "id": "Q5dJGBXYGFjM",
        "outputId": "7504b46d-0d03-4527-a7d2-e3e9ad65c99c"
      },
      "outputs": [
        {
          "output_type": "stream",
          "name": "stderr",
          "text": [
            "[nltk_data] Downloading package punkt to /root/nltk_data...\n",
            "[nltk_data]   Unzipping tokenizers/punkt.zip.\n"
          ]
        },
        {
          "output_type": "execute_result",
          "data": {
            "text/plain": [
              "True"
            ]
          },
          "metadata": {},
          "execution_count": 3
        }
      ],
      "source": [
        "import nltk\n",
        "#nltk.download()\n",
        "nltk.download('punkt')"
      ]
    },
    {
      "cell_type": "markdown",
      "metadata": {
        "id": "nKvQf277GFjN"
      },
      "source": [
        "Example 1:\n",
        "Stemmer/lemmatizer example using NLTK"
      ]
    },
    {
      "cell_type": "code",
      "source": [
        "raw_docs = [\"Here are some very simple basic sentences.\", \"They won't be very interesting, I'm afraid.\", \"The point of these examples is to _learn how basic text cleaning works_ on *very simple* data.\"]\n",
        "\n",
        "from nltk.tokenize import word_tokenize\n",
        "tokenized_docs = [word_tokenize(doc) for doc in raw_docs]\n",
        "\n",
        "import re\n",
        "import string\n",
        "regex = re.compile('[%s]' % re.escape(string.punctuation))\n",
        "tokenized_docs_no_punctuation = []\n",
        "#tokenized_docs\n",
        "for review in tokenized_docs:\n",
        "    new_review = []\n",
        "    for token in review:\n",
        "        new_token = regex.sub(u'', token)\n",
        "        if not new_token == u'':\n",
        "            new_review.append(new_token)\n",
        "    tokenized_docs_no_punctuation.append(new_review)\n",
        "tokenized_docs_no_punctuation\n"
      ],
      "metadata": {
        "id": "3ZFuP6p2bFUI",
        "outputId": "cc4acefa-5edf-4bb1-9504-ebc5be5dcfb3",
        "colab": {
          "base_uri": "https://localhost:8080/"
        }
      },
      "execution_count": 4,
      "outputs": [
        {
          "output_type": "execute_result",
          "data": {
            "text/plain": [
              "[['Here', 'are', 'some', 'very', 'simple', 'basic', 'sentences'],\n",
              " ['They', 'wo', 'nt', 'be', 'very', 'interesting', 'I', 'm', 'afraid'],\n",
              " ['The',\n",
              "  'point',\n",
              "  'of',\n",
              "  'these',\n",
              "  'examples',\n",
              "  'is',\n",
              "  'to',\n",
              "  'learn',\n",
              "  'how',\n",
              "  'basic',\n",
              "  'text',\n",
              "  'cleaning',\n",
              "  'works',\n",
              "  'on',\n",
              "  'very',\n",
              "  'simple',\n",
              "  'data']]"
            ]
          },
          "metadata": {},
          "execution_count": 4
        }
      ]
    },
    {
      "cell_type": "code",
      "source": [
        "tokenized_docs"
      ],
      "metadata": {
        "colab": {
          "base_uri": "https://localhost:8080/"
        },
        "id": "QtxHz-GpdxSo",
        "outputId": "ce29efb2-6c4c-4430-911c-acc23021e503"
      },
      "execution_count": 5,
      "outputs": [
        {
          "output_type": "execute_result",
          "data": {
            "text/plain": [
              "[['Here', 'are', 'some', 'very', 'simple', 'basic', 'sentences', '.'],\n",
              " ['They',\n",
              "  'wo',\n",
              "  \"n't\",\n",
              "  'be',\n",
              "  'very',\n",
              "  'interesting',\n",
              "  ',',\n",
              "  'I',\n",
              "  \"'m\",\n",
              "  'afraid',\n",
              "  '.'],\n",
              " ['The',\n",
              "  'point',\n",
              "  'of',\n",
              "  'these',\n",
              "  'examples',\n",
              "  'is',\n",
              "  'to',\n",
              "  '_learn',\n",
              "  'how',\n",
              "  'basic',\n",
              "  'text',\n",
              "  'cleaning',\n",
              "  'works_',\n",
              "  'on',\n",
              "  '*',\n",
              "  'very',\n",
              "  'simple',\n",
              "  '*',\n",
              "  'data',\n",
              "  '.']]"
            ]
          },
          "metadata": {},
          "execution_count": 5
        }
      ]
    },
    {
      "cell_type": "code",
      "source": [
        "tokenized_docs_no_punctuation"
      ],
      "metadata": {
        "colab": {
          "base_uri": "https://localhost:8080/"
        },
        "id": "6XZDqArvd1He",
        "outputId": "f1145154-1b62-4db3-f652-5a40e64f78b2"
      },
      "execution_count": 6,
      "outputs": [
        {
          "output_type": "execute_result",
          "data": {
            "text/plain": [
              "[['Here', 'are', 'some', 'very', 'simple', 'basic', 'sentences'],\n",
              " ['They', 'wo', 'nt', 'be', 'very', 'interesting', 'I', 'm', 'afraid'],\n",
              " ['The',\n",
              "  'point',\n",
              "  'of',\n",
              "  'these',\n",
              "  'examples',\n",
              "  'is',\n",
              "  'to',\n",
              "  'learn',\n",
              "  'how',\n",
              "  'basic',\n",
              "  'text',\n",
              "  'cleaning',\n",
              "  'works',\n",
              "  'on',\n",
              "  'very',\n",
              "  'simple',\n",
              "  'data']]"
            ]
          },
          "metadata": {},
          "execution_count": 6
        }
      ]
    },
    {
      "cell_type": "code",
      "execution_count": 7,
      "metadata": {
        "colab": {
          "base_uri": "https://localhost:8080/"
        },
        "id": "Q_w2GlqKGFjN",
        "outputId": "e56c18c8-1b66-4796-b56c-394dcd398548"
      },
      "outputs": [
        {
          "output_type": "stream",
          "name": "stderr",
          "text": [
            "[nltk_data] Downloading package punkt to /root/nltk_data...\n",
            "[nltk_data]   Package punkt is already up-to-date!\n",
            "[nltk_data] Downloading package wordnet to /root/nltk_data...\n"
          ]
        },
        {
          "output_type": "stream",
          "name": "stdout",
          "text": [
            "Snowballed Docs:\n",
            "[['here', 'are', 'some', 'veri', 'simpl', 'basic', 'sentenc'], ['they', 'wo', 'nt', 'be', 'veri', 'interest', 'i', 'm', 'afraid'], ['the', 'point', 'of', 'these', 'exampl', 'is', 'to', 'learn', 'how', 'basic', 'text', 'clean', 'work', 'on', 'veri', 'simpl', 'data']]\n",
            "\n",
            "Lemmatized Docs:\n",
            "[['Here', 'are', 'some', 'very', 'simple', 'basic', 'sentence'], ['They', 'wo', 'nt', 'be', 'very', 'interesting', 'I', 'm', 'afraid'], ['The', 'point', 'of', 'these', 'example', 'is', 'to', 'learn', 'how', 'basic', 'text', 'cleaning', 'work', 'on', 'very', 'simple', 'data']]\n"
          ]
        }
      ],
      "source": [
        "import nltk\n",
        "from nltk.tokenize import word_tokenize\n",
        "import re\n",
        "import string\n",
        "\n",
        "nltk.download('punkt')\n",
        "nltk.download('wordnet')\n",
        "\n",
        "raw_docs = [\"Here are some very simple basic sentences.\", \"They won't be very interesting, I'm afraid.\", \"The point of these examples is to _learn how basic text cleaning works_ on *very simple* data.\"]\n",
        "\n",
        "tokenized_docs = [word_tokenize(doc) for doc in raw_docs]\n",
        "\n",
        "regex = re.compile('[%s]' % re.escape(string.punctuation))\n",
        "tokenized_docs_no_punctuation = []\n",
        "\n",
        "for review in tokenized_docs:\n",
        "    new_review = []\n",
        "    for token in review:\n",
        "        new_token = regex.sub(u'', token)\n",
        "        if not new_token == u'':\n",
        "            new_review.append(new_token)\n",
        "    tokenized_docs_no_punctuation.append(new_review)\n",
        "\n",
        "from nltk.stem.porter import PorterStemmer\n",
        "from nltk.stem.snowball import SnowballStemmer\n",
        "from nltk.stem.wordnet import WordNetLemmatizer\n",
        "\n",
        "porter = PorterStemmer()\n",
        "snowball = SnowballStemmer('english')\n",
        "wordnet = WordNetLemmatizer()\n",
        "\n",
        "snowballed_docs = []\n",
        "lemmatized_docs = []\n",
        "\n",
        "for doc in tokenized_docs_no_punctuation:\n",
        "    snowballed_doc = [snowball.stem(word) for word in doc]\n",
        "    snowballed_docs.append(snowballed_doc)\n",
        "\n",
        "    lemmatized_doc = [wordnet.lemmatize(word) for word in doc]\n",
        "    lemmatized_docs.append(lemmatized_doc)\n",
        "\n",
        "print(\"Snowballed Docs:\")\n",
        "print(snowballed_docs)\n",
        "\n",
        "print(\"\\nLemmatized Docs:\")\n",
        "print(lemmatized_docs)\n"
      ]
    },
    {
      "cell_type": "markdown",
      "metadata": {
        "id": "HQf6hES4GFjO"
      },
      "source": [
        "These examples use functions of the modules \"PorterStemmer\", \"SnowballStemmer\", and \"WordNetLemmatizer\". Results of the three approaches are almost equivalent. Note that the script looks for all the items (words) in the list \"tokenized\\_docs\\_no\\_punctuation\", and for each of them one of the different approaches can be considered. Note that the last two approaches of \"SnowballStemmer\" and \"WordNetLemmatizer\" require to install additional corpora from NLTK, that can be download by running \"nltk.download()\". In this example we are running the first approach \"porter.stem(word)\" adding the new stemmer or lemmatizer results of \"word\" in the new list \"final\\_doc\" that is finally included in\n",
        "\"preprocessed\\_docs\"."
      ]
    },
    {
      "cell_type": "markdown",
      "metadata": {
        "id": "_n5vGRZ6GFjO"
      },
      "source": [
        "Example 2: Word frequencies feature vector"
      ]
    },
    {
      "cell_type": "code",
      "execution_count": 8,
      "metadata": {
        "colab": {
          "base_uri": "https://localhost:8080/"
        },
        "id": "tfYWPBEdGFjO",
        "outputId": "c687b171-6273-4bb6-97e0-24660a9818f3"
      },
      "outputs": [
        {
          "output_type": "stream",
          "name": "stdout",
          "text": [
            "dict_items([('Mireia', 1), ('loves', 2), ('me', 2), ('more', 1), ('than', 1), ('Hector', 1)])\n",
            "dict_items([('Sergio', 1), ('likes', 1), ('me', 2), ('more', 1), ('than', 1), ('Mireia', 1), ('loves', 1)])\n",
            "dict_items([('He', 1), ('likes', 1), ('basketball', 1), ('more', 1), ('than', 1), ('footbal', 1)])\n",
            "Our vocabulary vector is [footbal, He, likes, basketball, Sergio, me, Hector, loves, than, Mireia, more]\n",
            "The doc is \"Mireia loves me more than Hector loves me\"\n",
            "The tf vector for Document 1 is [0, 0, 0, 0, 0, 2, 1, 2, 1, 1, 1]\n",
            "The doc is \"Sergio likes me more than Mireia loves me\"\n",
            "The tf vector for Document 2 is [0, 0, 1, 0, 1, 2, 0, 1, 1, 1, 1]\n",
            "The doc is \"He likes basketball more than footbal\"\n",
            "The tf vector for Document 3 is [1, 1, 1, 1, 0, 0, 0, 0, 1, 0, 1]\n",
            "All combined, here is our master document term matrix: \n",
            "[[0, 0, 0, 0, 0, 2, 1, 2, 1, 1, 1], [0, 0, 1, 0, 1, 2, 0, 1, 1, 1, 1], [1, 1, 1, 1, 0, 0, 0, 0, 1, 0, 1]]\n"
          ]
        }
      ],
      "source": [
        "mydoclist = ['Mireia loves me more than Hector loves me', 'Sergio likes me more than Mireia loves me', 'He likes basketball more than footbal']\n",
        "from collections import Counter\n",
        "for doc in mydoclist:\n",
        "    tf = Counter()\n",
        "    for word in doc.split():\n",
        "        tf[word] +=1\n",
        "    print (tf.items())\n",
        "\n",
        "def build_lexicon(corpus):  # define a set with all possible words included\n",
        "                            # in all the sentences or \"corpus\"\n",
        "    lexicon = set()\n",
        "    for doc in corpus:\n",
        "        lexicon.update([word for word in doc.split()])\n",
        "    return lexicon\n",
        "def tf(term, document):\n",
        "    return freq(term, document)\n",
        "def freq(term, document):\n",
        "    return document.split().count(term)\n",
        "vocabulary = build_lexicon(mydoclist)\n",
        "doc_term_matrix = []\n",
        "print ('Our vocabulary vector is [' + ', '.join(list(vocabulary)) + ']')\n",
        "for doc in mydoclist:\n",
        "    print ('The doc is \"' + doc + '\"')\n",
        "    tf_vector = [tf(word, doc) for word in vocabulary]\n",
        "    tf_vector_string = ', '.join(format(freq, 'd') for freq in tf_vector)\n",
        "    print ('The tf vector for Document %d is [%s]' % ((mydoclist.index(doc)+1), tf_vector_string))\n",
        "    doc_term_matrix.append(tf_vector)\n",
        "\n",
        "print ('All combined, here is our master document term matrix: ')\n",
        "print (doc_term_matrix)"
      ]
    },
    {
      "cell_type": "markdown",
      "metadata": {
        "id": "fzbHdcpIGFjP"
      },
      "source": [
        "Based on the previous script, each document is in the same feature space, meaning that we\n",
        "can represent the entire corpus in the same dimensional space\n",
        "without having lost too much information. Once we have the data in\n",
        "the same feature space, we can start applying some machine\n",
        "learning methods: classifying, clustering, and so on. But\n",
        "actually, we have a few problems. Words are not all equally\n",
        "informative. If words appear too frequently in a single document,\n",
        "they are going to muck up our analysis. We want to perform some\n",
        "scaling of each of these term frequency vectors into something a\n",
        "bit more representative.  In other words, we need to do some\n",
        "vector normalizing. One possibility is to ensure that the L2 norm\n",
        "of each vector is equal to 1."
      ]
    },
    {
      "cell_type": "markdown",
      "metadata": {
        "id": "UwiaYBs_GFjP"
      },
      "source": [
        "Example 3: L2 Normalization"
      ]
    },
    {
      "cell_type": "code",
      "execution_count": 9,
      "metadata": {
        "colab": {
          "base_uri": "https://localhost:8080/"
        },
        "id": "_d6YmsptGFjP",
        "outputId": "6d5ed77e-2d39-42a3-b5ad-5cec9fc12396"
      },
      "outputs": [
        {
          "output_type": "stream",
          "name": "stdout",
          "text": [
            "A regular old document term matrix: \n",
            "[[0 0 0 0 0 2 1 2 1 1 1]\n",
            " [0 0 1 0 1 2 0 1 1 1 1]\n",
            " [1 1 1 1 0 0 0 0 1 0 1]]\n",
            "\n",
            "A document term matrix with row-wise L2 norms of 1:\n",
            "[[0.         0.         0.         0.         0.         0.57735027\n",
            "  0.28867513 0.57735027 0.28867513 0.28867513 0.28867513]\n",
            " [0.         0.         0.31622777 0.         0.31622777 0.63245553\n",
            "  0.         0.31622777 0.31622777 0.31622777 0.31622777]\n",
            " [0.40824829 0.40824829 0.40824829 0.40824829 0.         0.\n",
            "  0.         0.         0.40824829 0.         0.40824829]]\n"
          ]
        }
      ],
      "source": [
        "import math\n",
        "import numpy as np\n",
        "def l2_normalizer(vec):\n",
        "    denom = np.sum([el**2 for el in vec])\n",
        "    return [(el / math.sqrt(denom)) for el in vec]\n",
        "doc_term_matrix_l2 = []\n",
        "for vec in doc_term_matrix:\n",
        "    doc_term_matrix_l2.append(l2_normalizer(vec))\n",
        "print ( 'A regular old document term matrix: ')\n",
        "print (np.matrix(doc_term_matrix))\n",
        "print ('\\nA document term matrix with row-wise L2 norms of 1:')\n",
        "print( np.matrix(doc_term_matrix_l2))"
      ]
    },
    {
      "cell_type": "markdown",
      "metadata": {
        "id": "BoEcFm7zGFjP"
      },
      "source": [
        "You can see that we have scaled down the vectors so that each element is between [0, 1], without losing too much\n",
        "valuable information.\n",
        "\n",
        "Finally, we have a remaining task to perform. Just as not all words\n",
        "are equally valuable within a document, not all words are\n",
        "valuable across all documents.  We can try reweighting every word\n",
        "by its inverse document frequency."
      ]
    },
    {
      "cell_type": "markdown",
      "metadata": {
        "id": "RI_gUHHeGFjP"
      },
      "source": [
        "Example 4: Feature weighting"
      ]
    },
    {
      "cell_type": "code",
      "execution_count": 18,
      "metadata": {
        "id": "LIlAdR_EGFjQ"
      },
      "outputs": [],
      "source": [
        "def numDocsContaining(word, doclist):\n",
        "    doccount = 0\n",
        "    for doc in doclist:\n",
        "        if freq(word, doc) > 0:\n",
        "            doccount +=1\n",
        "    return doccount\n"
      ]
    },
    {
      "cell_type": "code",
      "source": [
        "def idf(word, doclist):\n",
        "    n_samples = len(doclist)\n",
        "    df = numDocsContaining(word, doclist)\n",
        "    return np.log(n_samples / (float(df)) )\n",
        "my_idf_vector = [idf(word, mydoclist) for word in vocabulary]\n",
        "print ( 'Our vocabulary vector is [' + ', '.join(list(vocabulary)) + ']')\n",
        "print ('The inverse document frequency vector is [' + ', '.join(format(freq, 'f') for freq in my_idf_vector) + ']')"
      ],
      "metadata": {
        "colab": {
          "base_uri": "https://localhost:8080/"
        },
        "id": "f2Tos3mL_2qc",
        "outputId": "4ea6085b-9938-43e9-8e80-ca1f74672de5"
      },
      "execution_count": 17,
      "outputs": [
        {
          "output_type": "stream",
          "name": "stdout",
          "text": [
            "Our vocabulary vector is [footbal, He, likes, basketball, Sergio, me, Hector, loves, than, Mireia, more]\n",
            "The inverse document frequency vector is [1.098612, 1.098612, 0.405465, 1.098612, 1.098612, 0.405465, 1.098612, 0.405465, 0.000000, 0.405465, 0.000000]\n"
          ]
        }
      ]
    },
    {
      "cell_type": "markdown",
      "metadata": {
        "id": "7aYyLdA-GFjQ"
      },
      "source": [
        "Example 5: Film critics binary sentiment analysis recognition code\n",
        "\n",
        "In this example we apply the whole sentiment analysis process to the Large Movie reviews\n",
        "dataset (http://www.aclweb.org/anthology/P11-1015). This is one of the\n",
        "largest public available data sets for sentiment analysis, which\n",
        "includes more than 50.000 texts from movie reviews including the\n",
        "ground truth annotation related to positive and negative movie\n",
        "review. As a proof on concept for this example we use a subset of\n",
        "the dataset consisting in about 10% of the data."
      ]
    },
    {
      "cell_type": "markdown",
      "metadata": {
        "id": "CZcgIJMnGFjQ"
      },
      "source": [
        "You can use the following commands in a Linux operating system to download the required data:"
      ]
    },
    {
      "cell_type": "code",
      "execution_count": 5,
      "metadata": {
        "colab": {
          "base_uri": "https://localhost:8080/"
        },
        "id": "Nr4CX5WbGFjQ",
        "outputId": "1892863d-beb4-427a-9463-31f48c3f6ceb"
      },
      "outputs": [
        {
          "output_type": "stream",
          "name": "stdout",
          "text": [
            "--2024-02-26 16:52:23--  http://ai.stanford.edu/~amaas//data/sentiment/aclImdb_v1.tar.gz\n",
            "Resolving ai.stanford.edu (ai.stanford.edu)... 171.64.68.10\n",
            "Connecting to ai.stanford.edu (ai.stanford.edu)|171.64.68.10|:80... connected.\n",
            "HTTP request sent, awaiting response... 200 OK\n",
            "Length: 84125825 (80M) [application/x-gzip]\n",
            "Saving to: ‘aclImdb_v1.tar.gz’\n",
            "\n",
            "aclImdb_v1.tar.gz   100%[===================>]  80.23M  15.2MB/s    in 8.1s    \n",
            "\n",
            "2024-02-26 16:52:31 (9.90 MB/s) - ‘aclImdb_v1.tar.gz’ saved [84125825/84125825]\n",
            "\n"
          ]
        }
      ],
      "source": [
        "!wget http://ai.stanford.edu/~amaas//data/sentiment/aclImdb_v1.tar.gz"
      ]
    },
    {
      "cell_type": "code",
      "execution_count": 11,
      "metadata": {
        "id": "eOjLVbYaGFjQ",
        "colab": {
          "base_uri": "https://localhost:8080/"
        },
        "outputId": "eda4fa44-aee9-4331-b31d-023009918ddd"
      },
      "outputs": [
        {
          "output_type": "stream",
          "name": "stdout",
          "text": [
            "mkdir: cannot create directory ‘files’: File exists\n",
            "mkdir: cannot create directory ‘files/ch10’: File exists\n",
            "mkdir: cannot create directory ‘files/ch10/train’: File exists\n",
            "mkdir: cannot create directory ‘files/ch10/train/pos2’: File exists\n",
            "mkdir: cannot create directory ‘files/ch10/train/neg2’: File exists\n",
            "mkdir: cannot create directory ‘files/ch10/test’: File exists\n",
            "mkdir: cannot create directory ‘files/ch10/test/pos2’: File exists\n",
            "mkdir: cannot create directory ‘files/ch10/test/neg2’: File exists\n"
          ]
        }
      ],
      "source": [
        "!mkdir \"files\"\n",
        "!mkdir \"files/ch10\"\n",
        "!tar -xf aclImdb_v1.tar.gz -C files/ch10/\n",
        "!mkdir \"files/ch10/train\"\n",
        "!mkdir \"files/ch10/train/pos2\"\n",
        "!mkdir \"files/ch10/train/neg2\"\n",
        "!mkdir \"files/ch10/test\"\n",
        "!mkdir \"files/ch10/test/pos2\"\n",
        "!mkdir \"files/ch10/test/neg2\""
      ]
    },
    {
      "cell_type": "markdown",
      "metadata": {
        "id": "yCImjGG4GFjR"
      },
      "source": [
        "For windows systems, you can download the data here: http://ai.stanford.edu/~amaas/data/sentiment/\n",
        "Within the compressed file you will find several film critics. Move them to the folder files/ch10/"
      ]
    },
    {
      "cell_type": "markdown",
      "metadata": {
        "id": "cudS6mBtGFjR"
      },
      "source": [
        "Next lines of code will select a subset of the critics of the dataset to run the next example for binary sentiment analysis recognition."
      ]
    },
    {
      "cell_type": "code",
      "execution_count": 12,
      "metadata": {
        "id": "fKHOQ38lGFjR"
      },
      "outputs": [],
      "source": [
        "import os\n",
        "import shutil\n",
        "files=5\n",
        "count=0\n",
        "for file in os.listdir(\"files/ch10/aclImdb/train/pos/\"):\n",
        "    if count > files:\n",
        "        break\n",
        "    if file.endswith(\".txt\"):\n",
        "        os.rename('files/ch10/aclImdb/train/pos/' + file, 'files/ch10/train/pos2/' + file)\n",
        "    count=count+1\n",
        "count=0\n",
        "for file in os.listdir(\"files/ch10/aclImdb/train/neg/\"):\n",
        "    if count > files:\n",
        "        break\n",
        "    if file.endswith(\".txt\"):\n",
        "        os.rename('files/ch10/aclImdb/train/neg/' + file, 'files/ch10/train/neg2/' + file)\n",
        "    count=count+1\n",
        "count=0\n",
        "for file in os.listdir(\"files/ch10/aclImdb/test/pos/\"):\n",
        "    if count > files:\n",
        "        break\n",
        "    if file.endswith(\".txt\"):\n",
        "        os.rename('files/ch10/aclImdb/test/pos/' + file, 'files/ch10/test/pos2/' + file)\n",
        "    count=count+1\n",
        "count=0\n",
        "for file in os.listdir(\"files/ch10/aclImdb/test/neg/\"):\n",
        "    if count > files:\n",
        "        break\n",
        "    if file.endswith(\".txt\"):\n",
        "        os.rename('files/ch10/aclImdb/test/neg/' + file, 'files/ch10/test/neg2/' + file)\n",
        "    count=count+1\n"
      ]
    },
    {
      "cell_type": "markdown",
      "metadata": {
        "id": "ERo5dIsAGFjR"
      },
      "source": [
        "And the next script will perform the whole training and testing procedure on the selected subset of the dataset."
      ]
    },
    {
      "cell_type": "code",
      "execution_count": 13,
      "metadata": {
        "colab": {
          "base_uri": "https://localhost:8080/"
        },
        "id": "tiTD1hUHGFjR",
        "outputId": "5b4e783e-498d-45c0-e979-6f81cf7b41d2"
      },
      "outputs": [
        {
          "output_type": "stream",
          "name": "stderr",
          "text": [
            "[nltk_data] Downloading package punkt to /root/nltk_data...\n",
            "[nltk_data]   Unzipping tokenizers/punkt.zip.\n"
          ]
        },
        {
          "output_type": "stream",
          "name": "stdout",
          "text": [
            "Reading the training data positive\n",
            "Reading the training data negative\n",
            "Defining dictionaries\n",
            "Reading the test data positive\n",
            "Reading the test data negative\n",
            "Computing test feature vectors\n",
            "Training and testing on training Naive Bayes\n",
            "Number of mislabeled training points out of a total 12 points : 0\n",
            "Training and testing on test Naive Bayes\n",
            "Number of mislabeled test points out of a total 12 points : 7\n",
            "Training and testing on train with SVM\n",
            "Number of mislabeled test points out of a total 12 points : 0\n",
            "Testing on test with already trained SVM\n",
            "Number of mislabeled test points out of a total 12 points : 4\n"
          ]
        }
      ],
      "source": [
        "import os\n",
        "import numpy as np\n",
        "from nltk.tokenize import word_tokenize\n",
        "from nltk.stem.porter import PorterStemmer\n",
        "from sklearn.feature_extraction.text import TfidfVectorizer\n",
        "from sklearn.feature_extraction.text import TfidfVectorizer\n",
        "from nltk.classify import NaiveBayesClassifier\n",
        "from sklearn.naive_bayes import GaussianNB\n",
        "from sklearn import svm\n",
        "from unidecode import unidecode\n",
        "import time\n",
        "import nltk\n",
        "import string\n",
        "import re\n",
        "\n",
        "nltk.download('punkt')\n",
        "\n",
        "\n",
        "\n",
        "def BoW():\n",
        "    # Tokenizing text\n",
        "    text_tokenized = [word_tokenize(doc) for doc in text]\n",
        "    # Removing punctuation\n",
        "    regex = re.compile('[%s]' % re.escape(string.punctuation))\n",
        "    tokenized_docs_no_punctuation = []\n",
        "    for review in text_tokenized:\n",
        "        new_review = []\n",
        "        for token in review:\n",
        "            new_token = regex.sub(u'', token)\n",
        "            if not new_token == u'':\n",
        "                new_review.append(new_token)\n",
        "        tokenized_docs_no_punctuation.append(new_review)\n",
        "    # Stemming and Lemmatizing\n",
        "    porter = PorterStemmer()\n",
        "    preprocessed_docs = []\n",
        "    for doc in tokenized_docs_no_punctuation:\n",
        "        final_doc = ''\n",
        "        for word in doc:\n",
        "            final_doc = final_doc + ' ' + porter.stem(word)\n",
        "        preprocessed_docs.append(final_doc)\n",
        "    return preprocessed_docs\n",
        "\n",
        "print('Reading the training data positive')\n",
        "text = []\n",
        "for file in os.listdir(\"files/ch10/train/pos2/\"):\n",
        "    if file.endswith(\".txt\"):\n",
        "        infile = open('files/ch10/train/pos2/' + file, 'r')\n",
        "        text.append(unidecode(infile.read())) #.decode('utf-8')\n",
        "        infile.close()\n",
        "num_posTrain=len(text)\n",
        "\n",
        "print('Reading the training data negative')\n",
        "\n",
        "for file in os.listdir(\"files/ch10/train/neg2/\"):\n",
        "    if file.endswith(\".txt\"):\n",
        "        infile = open('files/ch10/train/neg2/' + file, 'r')\n",
        "        text.append(unidecode(infile.read())) #.decode('utf-8')\n",
        "        infile.close()\n",
        "num_Train=len(text)\n",
        "\n",
        "print('Defining dictionaries')\n",
        "\n",
        "preprocessed_docs=BoW()\n",
        "# Computing TIDF word space\n",
        "tfidf_vectorizer = TfidfVectorizer(min_df = 1)\n",
        "trainData = tfidf_vectorizer.fit_transform(preprocessed_docs)\n",
        "\n",
        "# Reading the test data\n",
        "\n",
        "print('Reading the test data positive')\n",
        "\n",
        "text = []\n",
        "for file in os.listdir(\"files/ch10/test/pos2/\"):\n",
        "    if file.endswith(\".txt\"):\n",
        "        infile = open('files/ch10/test/pos2/' + file, 'r')\n",
        "        #text.append(unidecode(infile.read().decode('utf-8')))\n",
        "        text.append(unidecode(infile.read()))\n",
        "        infile.close()\n",
        "num_posTest=len(text)\n",
        "\n",
        "print('Reading the test data negative')\n",
        "\n",
        "for file in os.listdir(\"files/ch10/test/neg2/\"):\n",
        "    if file.endswith(\".txt\"):\n",
        "        infile = open('files/ch10/test/neg2/' + file, 'r')\n",
        "        text.append(unidecode(infile.read())) #text.append(unidecode(infile.read().decode('utf-8')))\n",
        "        infile.close()\n",
        "num_Test=len(text)\n",
        "\n",
        "print('Computing test feature vectors')\n",
        "start_time = time.time()\n",
        "\n",
        "preprocessed_docs=BoW()\n",
        "testData = tfidf_vectorizer.transform(preprocessed_docs)\n",
        "\n",
        "targetTrain = []\n",
        "for i in range(0,num_posTrain):\n",
        "    targetTrain.append(0)\n",
        "for i in range(0,num_Train-num_posTrain):\n",
        "    targetTrain.append(1)\n",
        "\n",
        "targetTest = []\n",
        "for i in range(0,num_posTest):\n",
        "    targetTest.append(0)\n",
        "for i in range(0,num_Test-num_posTest):\n",
        "    targetTest.append(1)\n",
        "\n",
        "print('Training and testing on training Naive Bayes')\n",
        "start_time = time.time()\n",
        "\n",
        "gnb = GaussianNB()\n",
        "testData.todense()\n",
        "y_pred = gnb.fit(np.asarray(trainData.todense()), targetTrain).predict(np.asarray(trainData.todense()))\n",
        "print (\"Number of mislabeled training points out of a total %d points : %d\" % (trainData.shape[0],(targetTrain != y_pred).sum()))\n",
        "\n",
        "print('Training and testing on test Naive Bayes')\n",
        "\n",
        "y_pred = gnb.fit(np.asarray(trainData.todense()), targetTrain).predict(np.asarray(testData.todense()))\n",
        "print (\"Number of mislabeled test points out of a total %d points : %d\" % (testData.shape[0],(targetTest != y_pred).sum()))\n",
        "\n",
        "print('Training and testing on train with SVM')\n",
        "clf = svm.SVC()\n",
        "clf.fit(np.asarray(trainData.todense()), targetTrain)\n",
        "y_pred = clf.predict(np.asarray(trainData.todense()))\n",
        "print (\"Number of mislabeled test points out of a total %d points : %d\" % (trainData.shape[0],(targetTrain != y_pred).sum()))\n",
        "\n",
        "print ('Testing on test with already trained SVM')\n",
        "y_pred = clf.predict(np.asarray(testData.todense()))\n",
        "print (\"Number of mislabeled test points out of a total %d points : %d\" % (testData.shape[0],(targetTest != y_pred).sum()))"
      ]
    },
    {
      "cell_type": "markdown",
      "metadata": {
        "id": "fsAP_m53GFjS"
      },
      "source": [
        "The previous example uses one of the largest public available datasets for sentiment analysis, which\n",
        "includes more than 50,000 texts from movie reviews including the\n",
        "ground truth annotation related to positive and negative movie\n",
        "reviews. As a proof on concept, for this example we use a subset of\n",
        "the dataset consisting of about 30\\% of the data. Previous code re-uses part of the previous examples for data cleaning,\n",
        "reads training and test data from the folders as provided by the\n",
        "authors of the dataset."
      ]
    },
    {
      "cell_type": "markdown",
      "metadata": {
        "id": "VFGx7HGJGFjS"
      },
      "source": [
        "Example 6: Tweet binary sentiment analysis recognition code (see book chapter reference to download data)"
      ]
    },
    {
      "cell_type": "markdown",
      "metadata": {
        "id": "BlubBzNOGFjS"
      },
      "source": [
        "Finally, let us see another simple example of sentiment analysis\n",
        "based on tweets. Although there is some work using more\n",
        "tweet data\n",
        "(\\url{http://www.sananalytics.com/lab/twitter-sentiment/}) here we\n",
        "present a simple set of tweets which are analyzed as in the\n",
        "previous example of movie reviews. The main code remains the same\n",
        "except for the definition of the initial data."
      ]
    },
    {
      "cell_type": "code",
      "execution_count": 14,
      "metadata": {
        "id": "GghcYQs6GFjS",
        "outputId": "67bd1293-4848-4d82-fe5c-242b5f3f9fd5",
        "colab": {
          "base_uri": "https://localhost:8080/"
        }
      },
      "outputs": [
        {
          "output_type": "stream",
          "name": "stdout",
          "text": [
            "Number of mislabeled training points out of a total 10 points : 0\n",
            "Training and testing on test Naive Bayes\n",
            "Number of mislabeled test points out of a total 6 points : 2\n",
            "Training and testing on train with SVM\n",
            "Number of mislabeled test points out of a total 10 points : 0\n",
            "Testing on test with already trained SVM\n",
            "Number of mislabeled test points out of a total 6 points : 2\n"
          ]
        }
      ],
      "source": [
        "def BoW():\n",
        "    # Tokenizing text\n",
        "    text_tokenized = [word_tokenize(doc) for doc in text]\n",
        "    # Removing punctuation\n",
        "    regex = re.compile('[%s]' % re.escape(string.punctuation))\n",
        "    tokenized_docs_no_punctuation = []\n",
        "    for review in text_tokenized:\n",
        "        new_review = []\n",
        "        for token in review:\n",
        "            new_token = regex.sub(u'', token)\n",
        "            if not new_token == u'':\n",
        "                new_review.append(new_token)\n",
        "        tokenized_docs_no_punctuation.append(new_review)\n",
        "    # Stemming and Lemmatizing\n",
        "    porter = PorterStemmer()\n",
        "    preprocessed_docs = []\n",
        "    for doc in tokenized_docs_no_punctuation:\n",
        "        final_doc = ''\n",
        "        for word in doc:\n",
        "            final_doc = final_doc + ' ' + porter.stem(word)\n",
        "        preprocessed_docs.append(final_doc)\n",
        "    return preprocessed_docs\n",
        "\n",
        "text = ['I love this sandwich.', 'This is an amazing place!',\n",
        "        'I feel very good about these beers.',\n",
        "         'This is my best work.', 'What an awesome view', 'I do not like this restaurant',\n",
        "         'I am tired of this stuff.', 'I can not deal with this', 'He is my sworn enemy!',\n",
        "         'My boss is horrible.']\n",
        "\n",
        "targetTrain = [0,0,0,0,0,1,1,1,1,1]\n",
        "preprocessed_docs=BoW()\n",
        "tfidf_vectorizer = TfidfVectorizer(min_df = 1)\n",
        "trainData = tfidf_vectorizer.fit_transform(preprocessed_docs)\n",
        "\n",
        "text = ['The beer was good.', 'I do not enjoy my job', 'I aint feeling dandy today',\n",
        "        'I feel amazing!'\n",
        "        ,'Gary is a friend of mine.', 'I can not believe I am doing this.']\n",
        "targetTest = [0,1,1,0,0,1]\n",
        "preprocessed_docs=BoW()\n",
        "testData = tfidf_vectorizer.transform(preprocessed_docs)\n",
        "\n",
        "gnb = GaussianNB()\n",
        "testData.todense()\n",
        "y_pred = gnb.fit(trainData.toarray(), targetTrain).predict(trainData.toarray())\n",
        "\n",
        "print(\"Number of mislabeled training points out of a total %d points : %d\" % (trainData.shape[0],(targetTrain != y_pred).sum()))\n",
        "\n",
        "print('Training and testing on test Naive Bayes')\n",
        "\n",
        "y_pred = gnb.fit(np.asarray(trainData.todense()), targetTrain).predict(np.asarray(testData.todense()))\n",
        "\n",
        "print(\"Number of mislabeled test points out of a total %d points : %d\" % (testData.shape[0],(targetTest != y_pred).sum()))\n",
        "\n",
        "print('Training and testing on train with SVM')\n",
        "clf = svm.SVC()\n",
        "\n",
        "clf.fit(trainData.toarray(), targetTrain)\n",
        "y_pred = clf.predict(trainData.toarray())\n",
        "\n",
        "print(\"Number of mislabeled test points out of a total %d points : %d\" % (trainData.shape[0],(targetTrain != y_pred).sum()))\n",
        "\n",
        "print('Testing on test with already trained SVM')\n",
        "y_pred = clf.predict(np.asarray(testData.todense()))\n",
        "\n",
        "print(\"Number of mislabeled test points out of a total %d points : %d\" % (testData.shape[0],(targetTest != y_pred).sum()))"
      ]
    },
    {
      "cell_type": "code",
      "source": [
        "import os\n",
        "import numpy as np\n",
        "from nltk.tokenize import word_tokenize\n",
        "from nltk.stem.porter import PorterStemmer\n",
        "from sklearn.feature_extraction.text import TfidfVectorizer\n",
        "from sklearn.naive_bayes import GaussianNB\n",
        "from sklearn.metrics import confusion_matrix\n",
        "import matplotlib.pyplot as plt\n",
        "\n",
        "# Function to preprocess the text data\n",
        "def preprocess_text(text):\n",
        "    porter = PorterStemmer()\n",
        "    preprocessed_docs = []\n",
        "    for doc in text:\n",
        "        tokens = word_tokenize(doc)  # Tokenizing text\n",
        "        tokens = [porter.stem(token) for token in tokens]  # Stemming\n",
        "        preprocessed_docs.append(\" \".join(tokens))\n",
        "    return preprocessed_docs\n",
        "\n",
        "# Read the entire dataset\n",
        "def read_data(folder_path):\n",
        "    text = []\n",
        "    for file in os.listdir(folder_path):\n",
        "        if file.endswith(\".txt\"):\n",
        "            with open(os.path.join(folder_path, file), 'r', encoding='utf-8') as infile:\n",
        "                text.append(infile.read())\n",
        "    return text\n",
        "\n",
        "train_pos_text = read_data(\"files/ch10/aclImdb/train/pos/\")[:1000]\n",
        "train_neg_text = read_data(\"files/ch10/aclImdb/train/neg/\")[:1000]\n",
        "test_pos_text = read_data(\"files/ch10/aclImdb/test/pos/\")[:1000]\n",
        "test_neg_text = read_data(\"files/ch10/aclImdb/test/neg/\")[:1000]\n",
        "\n",
        "# Combine positive and negative training data\n",
        "train_text = train_pos_text + train_neg_text\n",
        "# Combine positive and negative test data\n",
        "test_text = test_pos_text + test_neg_text\n",
        "\n",
        "# Labels for training data (0 for positive, 1 for negative)\n",
        "target_train = [0] * len(train_pos_text) + [1] * len(train_neg_text)\n",
        "# Labels for test data\n",
        "target_test = [0] * len(test_pos_text) + [1] * len(test_neg_text)\n",
        "\n",
        "# Preprocess the training and test data\n",
        "preprocessed_train = preprocess_text(train_text)\n",
        "preprocessed_test = preprocess_text(test_text)\n",
        "\n",
        "# Convert text data to TF-IDF feature vectors\n",
        "tfidf_vectorizer = TfidfVectorizer(min_df=1)\n",
        "train_data = tfidf_vectorizer.fit_transform(preprocessed_train)\n",
        "test_data = tfidf_vectorizer.transform(preprocessed_test)\n",
        "\n",
        "# Initialize Gaussian Naive Bayes classifier\n",
        "gnb = GaussianNB()\n",
        "\n",
        "# Train the classifier\n",
        "gnb.fit(train_data.toarray(), target_train)\n",
        "\n",
        "# Predict labels for training data\n",
        "train_pred = gnb.predict(train_data.toarray())\n",
        "# Predict labels for test data\n",
        "test_pred = gnb.predict(test_data.toarray())\n",
        "\n",
        "# Confusion matrix for training data\n",
        "train_conf_matrix = confusion_matrix(target_train, train_pred)\n",
        "print(\"Confusion Matrix for Training Data:\")\n",
        "print(train_conf_matrix)\n",
        "\n",
        "# Confusion matrix for test data\n",
        "test_conf_matrix = confusion_matrix(target_test, test_pred)\n",
        "print(\"\\nConfusion Matrix for Test Data:\")\n",
        "print(test_conf_matrix)\n",
        "\n",
        "# Plot confusion matrix for training data\n",
        "plt.imshow(train_conf_matrix, interpolation='nearest', cmap=plt.cm.Greens)\n",
        "plt.title('Confusion Matrix for Training Data')\n",
        "plt.colorbar()\n",
        "plt.xlabel('True Label')\n",
        "plt.ylabel('Predicted Label')\n",
        "plt.xticks([0, 1], ['Positive', 'Negative'])\n",
        "plt.yticks([0, 1], ['Positive', 'Negative'])\n",
        "for i in range(2):\n",
        "    for j in range(2):\n",
        "        plt.text(j, i, str(train_conf_matrix[i, j]), ha='center', va='center', color='Red')\n",
        "plt.show()\n"
      ],
      "metadata": {
        "colab": {
          "base_uri": "https://localhost:8080/",
          "height": 597
        },
        "id": "LHNVyUdH62Sm",
        "outputId": "2483ca57-eb90-44ee-956e-e1ced1846bbc"
      },
      "execution_count": 24,
      "outputs": [
        {
          "output_type": "stream",
          "name": "stdout",
          "text": [
            "Confusion Matrix for Training Data:\n",
            "[[ 968   32]\n",
            " [   0 1000]]\n",
            "\n",
            "Confusion Matrix for Test Data:\n",
            "[[551 449]\n",
            " [388 612]]\n"
          ]
        },
        {
          "output_type": "display_data",
          "data": {
            "text/plain": [
              "<Figure size 640x480 with 2 Axes>"
            ],
            "image/png": "[encoded data removed]"
          },
          "metadata": {}
        }
      ]
    },
    {
      "cell_type": "code",
      "source": [
        "plt.imshow(test_conf_matrix, interpolation='nearest', cmap=plt.cm.Greens)\n",
        "plt.title('Confusion Matrix for Test Data')\n",
        "plt.colorbar()\n",
        "plt.xlabel('True Label')\n",
        "plt.ylabel('Predicted Label')\n",
        "plt.xticks([0, 1], ['Positive', 'Negative'])\n",
        "plt.yticks([0, 1], ['Positive', 'Negative'])\n",
        "for i in range(2):\n",
        "    for j in range(2):\n",
        "        plt.text(j, i, str(test_conf_matrix[i, j]), ha='center', va='center', color='Red')\n",
        "plt.show()\n"
      ],
      "metadata": {
        "colab": {
          "base_uri": "https://localhost:8080/",
          "height": 472
        },
        "id": "h8ieK45Q_ZEa",
        "outputId": "d9d5da22-c733-4e38-f7d6-6c1ecedb9b9c"
      },
      "execution_count": 23,
      "outputs": [
        {
          "output_type": "display_data",
          "data": {
            "text/plain": [
              "<Figure size 640x480 with 2 Axes>"
            ],
            "image/png": "[encoded data removed]"
          },
          "metadata": {}
        }
      ]
    },
    {
      "cell_type": "markdown",
      "source": [],
      "metadata": {
        "id": "HbvwREC19qc6"
      }
    },
    {
      "cell_type": "markdown",
      "source": [
        "# the lab task is in the last cell\n"
      ],
      "metadata": {
        "id": "94qoTCNd9ivG"
      }
    },
    {
      "cell_type": "markdown",
      "metadata": {
        "id": "DbzDxiOUGFjS"
      },
      "source": [
        "In this previous simple scenario both learning strategies achieve the same recognition rates in both training and test sets.\n",
        "Note that similar words are shared between tweets. In practice, with real examples, tweets will include unstructured sentences and\n",
        "abbreviations, making recognition harder."
      ]
    }
  ],
  "metadata": {
    "kernelspec": {
      "display_name": "Python 3 (ipykernel)",
      "language": "python",
      "name": "python3"
    },
    "language_info": {
      "codemirror_mode": {
        "name": "ipython",
        "version": 3
      },
      "file_extension": ".py",
      "mimetype": "text/x-python",
      "name": "python",
      "nbconvert_exporter": "python",
      "pygments_lexer": "ipython3",
      "version": "3.11.5"
    },
    "colab": {
      "provenance": []
    }
  },
  "nbformat": 4,
  "nbformat_minor": 0
}