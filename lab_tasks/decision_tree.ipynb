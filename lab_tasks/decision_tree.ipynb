{
 "cells": [
  {
   "cell_type": "code",
   "execution_count": 7,
   "metadata": {},
   "outputs": [],
   "source": [
    "import pandas as pd\n",
    "from sklearn.model_selection import train_test_split\n",
    "from sklearn.tree import DecisionTreeClassifier\n",
    "from sklearn.svm import SVC\n",
    "from sklearn.metrics import accuracy_score\n",
    "from sklearn.metrics import confusion_matrix\n",
    "import seaborn as sns\n",
    "import matplotlib.pyplot as plt"
   ]
  },
  {
   "cell_type": "code",
   "execution_count": 8,
   "metadata": {},
   "outputs": [
    {
     "name": "stderr",
     "output_type": "stream",
     "text": [
      "/var/folders/3z/gjs8159j4pj4fhckh__lk6g00000gn/T/ipykernel_38176/3491597202.py:1: DtypeWarning: Columns (10,16) have mixed types. Specify dtype option on import or set low_memory=False.\n",
      "  df = pd.read_csv('/Users/mh/Desktop/DS_Task/loangrant.csv')\n"
     ]
    }
   ],
   "source": [
    "df = pd.read_csv('/Users/mh/Desktop/DS_Task/loangrant.csv')"
   ]
  },
  {
   "cell_type": "code",
   "execution_count": 9,
   "metadata": {},
   "outputs": [
    {
     "data": {
      "text/html": [
       "<div>\n",
       "<style scoped>\n",
       "    .dataframe tbody tr th:only-of-type {\n",
       "        vertical-align: middle;\n",
       "    }\n",
       "\n",
       "    .dataframe tbody tr th {\n",
       "        vertical-align: top;\n",
       "    }\n",
       "\n",
       "    .dataframe thead th {\n",
       "        text-align: right;\n",
       "    }\n",
       "</style>\n",
       "<table border=\"1\" class=\"dataframe\">\n",
       "  <thead>\n",
       "    <tr style=\"text-align: right;\">\n",
       "      <th></th>\n",
       "      <th>Loan ID</th>\n",
       "      <th>Customer ID</th>\n",
       "      <th>Loan Status</th>\n",
       "      <th>Current Loan Amount</th>\n",
       "      <th>Term</th>\n",
       "      <th>Credit Score</th>\n",
       "      <th>Years in current job</th>\n",
       "      <th>Home Ownership</th>\n",
       "      <th>Annual Income</th>\n",
       "      <th>Purpose</th>\n",
       "      <th>Monthly Debt</th>\n",
       "      <th>Years of Credit History</th>\n",
       "      <th>Months since last delinquent</th>\n",
       "      <th>Number of Open Accounts</th>\n",
       "      <th>Number of Credit Problems</th>\n",
       "      <th>Current Credit Balance</th>\n",
       "      <th>Maximum Open Credit</th>\n",
       "      <th>Bankruptcies</th>\n",
       "      <th>Tax Liens</th>\n",
       "    </tr>\n",
       "  </thead>\n",
       "  <tbody>\n",
       "    <tr>\n",
       "      <th>0</th>\n",
       "      <td>6cf51492-02a2-423e-b93d-676f05b9ad53</td>\n",
       "      <td>7c202b37-2add-44e8-9aea-d5b119aea935</td>\n",
       "      <td>Charged Off</td>\n",
       "      <td>12232</td>\n",
       "      <td>Short Term</td>\n",
       "      <td>7280.0</td>\n",
       "      <td>&lt; 1 year</td>\n",
       "      <td>Rent</td>\n",
       "      <td>46643.0</td>\n",
       "      <td>Debt Consolidation</td>\n",
       "      <td>777.39</td>\n",
       "      <td>18.0</td>\n",
       "      <td>10.0</td>\n",
       "      <td>12</td>\n",
       "      <td>0</td>\n",
       "      <td>6762</td>\n",
       "      <td>7946</td>\n",
       "      <td>0.0</td>\n",
       "      <td>0.0</td>\n",
       "    </tr>\n",
       "    <tr>\n",
       "      <th>1</th>\n",
       "      <td>552e7ade-4292-4354-9ff9-c48031697d72</td>\n",
       "      <td>e7217b0a-07ac-47dd-b379-577b5a35b7c6</td>\n",
       "      <td>Charged Off</td>\n",
       "      <td>25014</td>\n",
       "      <td>Long Term</td>\n",
       "      <td>7330.0</td>\n",
       "      <td>10+ years</td>\n",
       "      <td>Home Mortgage</td>\n",
       "      <td>81099.0</td>\n",
       "      <td>Debt Consolidation</td>\n",
       "      <td>892.09</td>\n",
       "      <td>26.7</td>\n",
       "      <td>NaN</td>\n",
       "      <td>14</td>\n",
       "      <td>0</td>\n",
       "      <td>35706</td>\n",
       "      <td>77961</td>\n",
       "      <td>0.0</td>\n",
       "      <td>0.0</td>\n",
       "    </tr>\n",
       "    <tr>\n",
       "      <th>2</th>\n",
       "      <td>9b5e32b3-8d76-4801-afc8-d729d5a2e6b9</td>\n",
       "      <td>0a62fc41-16c8-40b5-92ff-9e4b763ce714</td>\n",
       "      <td>Charged Off</td>\n",
       "      <td>16117</td>\n",
       "      <td>Short Term</td>\n",
       "      <td>7240.0</td>\n",
       "      <td>9 years</td>\n",
       "      <td>Home Mortgage</td>\n",
       "      <td>60438.0</td>\n",
       "      <td>Home Improvements</td>\n",
       "      <td>1244.02</td>\n",
       "      <td>16.7</td>\n",
       "      <td>32.0</td>\n",
       "      <td>11</td>\n",
       "      <td>1</td>\n",
       "      <td>11275</td>\n",
       "      <td>14815</td>\n",
       "      <td>1.0</td>\n",
       "      <td>0.0</td>\n",
       "    </tr>\n",
       "    <tr>\n",
       "      <th>3</th>\n",
       "      <td>5419b7c7-ac11-4be2-a8a7-b131fb6d6dbe</td>\n",
       "      <td>30f36c59-5182-4482-8bbb-5b736849ae43</td>\n",
       "      <td>Charged Off</td>\n",
       "      <td>11716</td>\n",
       "      <td>Short Term</td>\n",
       "      <td>7400.0</td>\n",
       "      <td>3 years</td>\n",
       "      <td>Rent</td>\n",
       "      <td>34171.0</td>\n",
       "      <td>Debt Consolidation</td>\n",
       "      <td>990.94</td>\n",
       "      <td>10.0</td>\n",
       "      <td>NaN</td>\n",
       "      <td>21</td>\n",
       "      <td>0</td>\n",
       "      <td>7009</td>\n",
       "      <td>43533</td>\n",
       "      <td>0.0</td>\n",
       "      <td>0.0</td>\n",
       "    </tr>\n",
       "    <tr>\n",
       "      <th>4</th>\n",
       "      <td>1450910f-9495-4fc9-afaf-9bdf4b9821df</td>\n",
       "      <td>70c26012-bba5-42c0-8dcb-75295ada31bb</td>\n",
       "      <td>Charged Off</td>\n",
       "      <td>9789</td>\n",
       "      <td>Long Term</td>\n",
       "      <td>6860.0</td>\n",
       "      <td>10+ years</td>\n",
       "      <td>Home Mortgage</td>\n",
       "      <td>47003.0</td>\n",
       "      <td>Home Improvements</td>\n",
       "      <td>503.71</td>\n",
       "      <td>16.7</td>\n",
       "      <td>25.0</td>\n",
       "      <td>13</td>\n",
       "      <td>1</td>\n",
       "      <td>16913</td>\n",
       "      <td>19553</td>\n",
       "      <td>1.0</td>\n",
       "      <td>0.0</td>\n",
       "    </tr>\n",
       "  </tbody>\n",
       "</table>\n",
       "</div>"
      ],
      "text/plain": [
       "                                Loan ID                           Customer ID  \\\n",
       "0  6cf51492-02a2-423e-b93d-676f05b9ad53  7c202b37-2add-44e8-9aea-d5b119aea935   \n",
       "1  552e7ade-4292-4354-9ff9-c48031697d72  e7217b0a-07ac-47dd-b379-577b5a35b7c6   \n",
       "2  9b5e32b3-8d76-4801-afc8-d729d5a2e6b9  0a62fc41-16c8-40b5-92ff-9e4b763ce714   \n",
       "3  5419b7c7-ac11-4be2-a8a7-b131fb6d6dbe  30f36c59-5182-4482-8bbb-5b736849ae43   \n",
       "4  1450910f-9495-4fc9-afaf-9bdf4b9821df  70c26012-bba5-42c0-8dcb-75295ada31bb   \n",
       "\n",
       "   Loan Status  Current Loan Amount        Term  Credit Score  \\\n",
       "0  Charged Off                12232  Short Term        7280.0   \n",
       "1  Charged Off                25014   Long Term        7330.0   \n",
       "2  Charged Off                16117  Short Term        7240.0   \n",
       "3  Charged Off                11716  Short Term        7400.0   \n",
       "4  Charged Off                 9789   Long Term        6860.0   \n",
       "\n",
       "  Years in current job Home Ownership  Annual Income             Purpose  \\\n",
       "0             < 1 year           Rent        46643.0  Debt Consolidation   \n",
       "1            10+ years  Home Mortgage        81099.0  Debt Consolidation   \n",
       "2              9 years  Home Mortgage        60438.0   Home Improvements   \n",
       "3              3 years           Rent        34171.0  Debt Consolidation   \n",
       "4            10+ years  Home Mortgage        47003.0   Home Improvements   \n",
       "\n",
       "  Monthly Debt  Years of Credit History  Months since last delinquent  \\\n",
       "0       777.39                     18.0                          10.0   \n",
       "1       892.09                     26.7                           NaN   \n",
       "2      1244.02                     16.7                          32.0   \n",
       "3       990.94                     10.0                           NaN   \n",
       "4       503.71                     16.7                          25.0   \n",
       "\n",
       "   Number of Open Accounts  Number of Credit Problems  Current Credit Balance  \\\n",
       "0                       12                          0                    6762   \n",
       "1                       14                          0                   35706   \n",
       "2                       11                          1                   11275   \n",
       "3                       21                          0                    7009   \n",
       "4                       13                          1                   16913   \n",
       "\n",
       "  Maximum Open Credit  Bankruptcies  Tax Liens  \n",
       "0                7946           0.0        0.0  \n",
       "1               77961           0.0        0.0  \n",
       "2               14815           1.0        0.0  \n",
       "3               43533           0.0        0.0  \n",
       "4               19553           1.0        0.0  "
      ]
     },
     "execution_count": 9,
     "metadata": {},
     "output_type": "execute_result"
    }
   ],
   "source": [
    "df.head()"
   ]
  },
  {
   "cell_type": "code",
   "execution_count": 10,
   "metadata": {},
   "outputs": [
    {
     "name": "stdout",
     "output_type": "stream",
     "text": [
      "<class 'pandas.core.frame.DataFrame'>\n",
      "RangeIndex: 111107 entries, 0 to 111106\n",
      "Data columns (total 19 columns):\n",
      " #   Column                        Non-Null Count   Dtype  \n",
      "---  ------                        --------------   -----  \n",
      " 0   Loan ID                       111107 non-null  object \n",
      " 1   Customer ID                   111107 non-null  object \n",
      " 2   Loan Status                   111107 non-null  object \n",
      " 3   Current Loan Amount           111107 non-null  int64  \n",
      " 4   Term                          111107 non-null  object \n",
      " 5   Credit Score                  89769 non-null   float64\n",
      " 6   Years in current job          106414 non-null  object \n",
      " 7   Home Ownership                111107 non-null  object \n",
      " 8   Annual Income                 89769 non-null   float64\n",
      " 9   Purpose                       111107 non-null  object \n",
      " 10  Monthly Debt                  111107 non-null  object \n",
      " 11  Years of Credit History       111107 non-null  float64\n",
      " 12  Months since last delinquent  52104 non-null   float64\n",
      " 13  Number of Open Accounts       111107 non-null  int64  \n",
      " 14  Number of Credit Problems     111107 non-null  int64  \n",
      " 15  Current Credit Balance        111107 non-null  int64  \n",
      " 16  Maximum Open Credit           111107 non-null  object \n",
      " 17  Bankruptcies                  110879 non-null  float64\n",
      " 18  Tax Liens                     111096 non-null  float64\n",
      "dtypes: float64(6), int64(4), object(9)\n",
      "memory usage: 16.1+ MB\n"
     ]
    }
   ],
   "source": [
    "df.info()"
   ]
  },
  {
   "cell_type": "code",
   "execution_count": 11,
   "metadata": {},
   "outputs": [
    {
     "data": {
      "text/plain": [
       "5869"
      ]
     },
     "execution_count": 11,
     "metadata": {},
     "output_type": "execute_result"
    }
   ],
   "source": [
    "# duplicates finding\n",
    "df.duplicated().sum()"
   ]
  },
  {
   "cell_type": "code",
   "execution_count": 12,
   "metadata": {},
   "outputs": [],
   "source": [
    "# removing duplicates\n",
    "df = df.drop_duplicates()"
   ]
  },
  {
   "cell_type": "code",
   "execution_count": 13,
   "metadata": {},
   "outputs": [
    {
     "data": {
      "text/plain": [
       "0"
      ]
     },
     "execution_count": 13,
     "metadata": {},
     "output_type": "execute_result"
    }
   ],
   "source": [
    "df.duplicated().sum()"
   ]
  },
  {
   "cell_type": "code",
   "execution_count": 14,
   "metadata": {},
   "outputs": [
    {
     "data": {
      "text/plain": [
       "Loan ID                             0\n",
       "Customer ID                         0\n",
       "Loan Status                         0\n",
       "Current Loan Amount                 0\n",
       "Term                                0\n",
       "Credit Score                    21338\n",
       "Years in current job             4450\n",
       "Home Ownership                      0\n",
       "Annual Income                   21338\n",
       "Purpose                             0\n",
       "Monthly Debt                        0\n",
       "Years of Credit History             0\n",
       "Months since last delinquent    56235\n",
       "Number of Open Accounts             0\n",
       "Number of Credit Problems           0\n",
       "Current Credit Balance              0\n",
       "Maximum Open Credit                 0\n",
       "Bankruptcies                      218\n",
       "Tax Liens                          11\n",
       "dtype: int64"
      ]
     },
     "execution_count": 14,
     "metadata": {},
     "output_type": "execute_result"
    }
   ],
   "source": [
    "# finding null values\n",
    "df.isnull().sum()"
   ]
  },
  {
   "cell_type": "code",
   "execution_count": 15,
   "metadata": {},
   "outputs": [
    {
     "data": {
      "text/plain": [
       "count    83900.000000\n",
       "mean      1102.051001\n",
       "std       1521.347119\n",
       "min        585.000000\n",
       "25%        707.000000\n",
       "50%        726.000000\n",
       "75%        741.000000\n",
       "max       7510.000000\n",
       "Name: Credit Score, dtype: float64"
      ]
     },
     "execution_count": 15,
     "metadata": {},
     "output_type": "execute_result"
    }
   ],
   "source": [
    "# getting summry of this col\n",
    "df['Credit Score'].describe()"
   ]
  },
  {
   "cell_type": "code",
   "execution_count": 16,
   "metadata": {},
   "outputs": [],
   "source": [
    "# Calculate the median of the 'Credit Score' column\n",
    "median_credit_score = df['Credit Score'].median()\n",
    "\n",
    "# Replace null values with the median\n",
    "df['Credit Score'] = df['Credit Score'].fillna(median_credit_score)"
   ]
  },
  {
   "cell_type": "code",
   "execution_count": 17,
   "metadata": {},
   "outputs": [
    {
     "data": {
      "text/plain": [
       "0"
      ]
     },
     "execution_count": 17,
     "metadata": {},
     "output_type": "execute_result"
    }
   ],
   "source": [
    "# null values replaced\n",
    "df['Credit Score'].isnull().sum()"
   ]
  },
  {
   "cell_type": "code",
   "execution_count": 18,
   "metadata": {},
   "outputs": [
    {
     "data": {
      "text/plain": [
       "count        100788\n",
       "unique           11\n",
       "top       10+ years\n",
       "freq          32663\n",
       "Name: Years in current job, dtype: object"
      ]
     },
     "execution_count": 18,
     "metadata": {},
     "output_type": "execute_result"
    }
   ],
   "source": [
    "df['Years in current job'].describe()"
   ]
  },
  {
   "cell_type": "code",
   "execution_count": 19,
   "metadata": {},
   "outputs": [],
   "source": [
    "# replacing null values with mode because of categorlical data\n",
    "mode_value = df['Years in current job'].mode()[0]\n",
    "df['Years in current job'] = df['Years in current job'].fillna(mode_value)"
   ]
  },
  {
   "cell_type": "code",
   "execution_count": 20,
   "metadata": {},
   "outputs": [
    {
     "data": {
      "text/plain": [
       "0"
      ]
     },
     "execution_count": 20,
     "metadata": {},
     "output_type": "execute_result"
    }
   ],
   "source": [
    "df['Years in current job'].isna().sum()"
   ]
  },
  {
   "cell_type": "code",
   "execution_count": 21,
   "metadata": {},
   "outputs": [
    {
     "data": {
      "text/plain": [
       "count    8.390000e+04\n",
       "mean     7.241759e+04\n",
       "std      5.650503e+04\n",
       "min      4.033000e+03\n",
       "25%      4.465800e+04\n",
       "50%      6.161400e+04\n",
       "75%      8.683400e+04\n",
       "max      8.713547e+06\n",
       "Name: Annual Income, dtype: float64"
      ]
     },
     "execution_count": 21,
     "metadata": {},
     "output_type": "execute_result"
    }
   ],
   "source": [
    "df['Annual Income'].describe()"
   ]
  },
  {
   "cell_type": "code",
   "execution_count": 22,
   "metadata": {},
   "outputs": [],
   "source": [
    "# Calculate the median of the 'Annual Incom' column\n",
    "median_credit_score = df['Annual Income'].median()\n",
    "\n",
    "# Replace null values with the median\n",
    "df['Annual Income'] = df['Annual Income'].fillna(median_credit_score)"
   ]
  },
  {
   "cell_type": "code",
   "execution_count": 23,
   "metadata": {},
   "outputs": [
    {
     "data": {
      "text/plain": [
       "Loan ID                             0\n",
       "Customer ID                         0\n",
       "Loan Status                         0\n",
       "Current Loan Amount                 0\n",
       "Term                                0\n",
       "Credit Score                        0\n",
       "Years in current job                0\n",
       "Home Ownership                      0\n",
       "Annual Income                       0\n",
       "Purpose                             0\n",
       "Monthly Debt                        0\n",
       "Years of Credit History             0\n",
       "Months since last delinquent    56235\n",
       "Number of Open Accounts             0\n",
       "Number of Credit Problems           0\n",
       "Current Credit Balance              0\n",
       "Maximum Open Credit                 0\n",
       "Bankruptcies                      218\n",
       "Tax Liens                          11\n",
       "dtype: int64"
      ]
     },
     "execution_count": 23,
     "metadata": {},
     "output_type": "execute_result"
    }
   ],
   "source": [
    "df.isnull().sum()"
   ]
  },
  {
   "cell_type": "code",
   "execution_count": 24,
   "metadata": {},
   "outputs": [
    {
     "data": {
      "text/plain": [
       "count    49003.000000\n",
       "mean        34.918883\n",
       "std         21.959398\n",
       "min          0.000000\n",
       "25%         16.000000\n",
       "50%         32.000000\n",
       "75%         51.000000\n",
       "max        176.000000\n",
       "Name: Months since last delinquent, dtype: float64"
      ]
     },
     "execution_count": 24,
     "metadata": {},
     "output_type": "execute_result"
    }
   ],
   "source": [
    "df['Months since last delinquent'].describe()"
   ]
  },
  {
   "cell_type": "code",
   "execution_count": 25,
   "metadata": {},
   "outputs": [],
   "source": [
    "# Calculate the median of the 'Months since last delinquent' column\n",
    "median_credit_score = df['Months since last delinquent'].median()\n",
    "\n",
    "# Replace null values with the median\n",
    "df['Months since last delinquent'] = df['Months since last delinquent'].fillna(\n",
    "    median_credit_score)"
   ]
  },
  {
   "cell_type": "code",
   "execution_count": 26,
   "metadata": {},
   "outputs": [
    {
     "name": "stderr",
     "output_type": "stream",
     "text": [
      "/var/folders/3z/gjs8159j4pj4fhckh__lk6g00000gn/T/ipykernel_38176/2550517151.py:2: FutureWarning: Downcasting behavior in `replace` is deprecated and will be removed in a future version. To retain the old behavior, explicitly call `result.infer_objects(copy=False)`. To opt-in to the future behavior, set `pd.set_option('future.no_silent_downcasting', True)`\n",
      "  df['Years in current job'] = df['Years in current job'].replace(\n"
     ]
    }
   ],
   "source": [
    "# repalcing this col in numberic values\n",
    "df['Years in current job'] = df['Years in current job'].replace(\n",
    "    {\n",
    "        '< 1 year': 0,\n",
    "        '1 year': 1,\n",
    "        '2 years': 2,\n",
    "        '3 years': 3,\n",
    "        '4 years': 4,\n",
    "        '5 years': 5,\n",
    "        '6 years': 6,\n",
    "        '7 years': 7,\n",
    "        '8 years': 8,\n",
    "        '9 years': 9,\n",
    "        '10+ years': 10\n",
    "    }\n",
    ")"
   ]
  },
  {
   "cell_type": "code",
   "execution_count": 27,
   "metadata": {},
   "outputs": [
    {
     "data": {
      "text/plain": [
       "Loan ID                           0\n",
       "Customer ID                       0\n",
       "Loan Status                       0\n",
       "Current Loan Amount               0\n",
       "Term                              0\n",
       "Credit Score                      0\n",
       "Years in current job              0\n",
       "Home Ownership                    0\n",
       "Annual Income                     0\n",
       "Purpose                           0\n",
       "Monthly Debt                      0\n",
       "Years of Credit History           0\n",
       "Months since last delinquent      0\n",
       "Number of Open Accounts           0\n",
       "Number of Credit Problems         0\n",
       "Current Credit Balance            0\n",
       "Maximum Open Credit               0\n",
       "Bankruptcies                    218\n",
       "Tax Liens                        11\n",
       "dtype: int64"
      ]
     },
     "execution_count": 27,
     "metadata": {},
     "output_type": "execute_result"
    }
   ],
   "source": [
    "df.isnull().sum()"
   ]
  },
  {
   "cell_type": "code",
   "execution_count": 28,
   "metadata": {},
   "outputs": [],
   "source": [
    "df = df.dropna()"
   ]
  },
  {
   "cell_type": "code",
   "execution_count": 29,
   "metadata": {},
   "outputs": [
    {
     "data": {
      "text/plain": [
       "Loan ID                         0\n",
       "Customer ID                     0\n",
       "Loan Status                     0\n",
       "Current Loan Amount             0\n",
       "Term                            0\n",
       "Credit Score                    0\n",
       "Years in current job            0\n",
       "Home Ownership                  0\n",
       "Annual Income                   0\n",
       "Purpose                         0\n",
       "Monthly Debt                    0\n",
       "Years of Credit History         0\n",
       "Months since last delinquent    0\n",
       "Number of Open Accounts         0\n",
       "Number of Credit Problems       0\n",
       "Current Credit Balance          0\n",
       "Maximum Open Credit             0\n",
       "Bankruptcies                    0\n",
       "Tax Liens                       0\n",
       "dtype: int64"
      ]
     },
     "execution_count": 29,
     "metadata": {},
     "output_type": "execute_result"
    }
   ],
   "source": [
    "df.isnull().sum()"
   ]
  },
  {
   "cell_type": "code",
   "execution_count": 30,
   "metadata": {},
   "outputs": [],
   "source": [
    "# Drop the specified columns\n",
    "df.drop(columns=['Loan ID', 'Customer ID', 'Purpose'], inplace=True)"
   ]
  },
  {
   "cell_type": "code",
   "execution_count": 31,
   "metadata": {},
   "outputs": [
    {
     "data": {
      "text/html": [
       "<div>\n",
       "<style scoped>\n",
       "    .dataframe tbody tr th:only-of-type {\n",
       "        vertical-align: middle;\n",
       "    }\n",
       "\n",
       "    .dataframe tbody tr th {\n",
       "        vertical-align: top;\n",
       "    }\n",
       "\n",
       "    .dataframe thead th {\n",
       "        text-align: right;\n",
       "    }\n",
       "</style>\n",
       "<table border=\"1\" class=\"dataframe\">\n",
       "  <thead>\n",
       "    <tr style=\"text-align: right;\">\n",
       "      <th></th>\n",
       "      <th>Loan Status</th>\n",
       "      <th>Current Loan Amount</th>\n",
       "      <th>Term</th>\n",
       "      <th>Credit Score</th>\n",
       "      <th>Years in current job</th>\n",
       "      <th>Home Ownership</th>\n",
       "      <th>Annual Income</th>\n",
       "      <th>Monthly Debt</th>\n",
       "      <th>Years of Credit History</th>\n",
       "      <th>Months since last delinquent</th>\n",
       "      <th>Number of Open Accounts</th>\n",
       "      <th>Number of Credit Problems</th>\n",
       "      <th>Current Credit Balance</th>\n",
       "      <th>Maximum Open Credit</th>\n",
       "      <th>Bankruptcies</th>\n",
       "      <th>Tax Liens</th>\n",
       "    </tr>\n",
       "  </thead>\n",
       "  <tbody>\n",
       "    <tr>\n",
       "      <th>0</th>\n",
       "      <td>Charged Off</td>\n",
       "      <td>12232</td>\n",
       "      <td>Short Term</td>\n",
       "      <td>7280.0</td>\n",
       "      <td>0</td>\n",
       "      <td>Rent</td>\n",
       "      <td>46643.0</td>\n",
       "      <td>777.39</td>\n",
       "      <td>18.0</td>\n",
       "      <td>10.0</td>\n",
       "      <td>12</td>\n",
       "      <td>0</td>\n",
       "      <td>6762</td>\n",
       "      <td>7946</td>\n",
       "      <td>0.0</td>\n",
       "      <td>0.0</td>\n",
       "    </tr>\n",
       "    <tr>\n",
       "      <th>1</th>\n",
       "      <td>Charged Off</td>\n",
       "      <td>25014</td>\n",
       "      <td>Long Term</td>\n",
       "      <td>7330.0</td>\n",
       "      <td>10</td>\n",
       "      <td>Home Mortgage</td>\n",
       "      <td>81099.0</td>\n",
       "      <td>892.09</td>\n",
       "      <td>26.7</td>\n",
       "      <td>32.0</td>\n",
       "      <td>14</td>\n",
       "      <td>0</td>\n",
       "      <td>35706</td>\n",
       "      <td>77961</td>\n",
       "      <td>0.0</td>\n",
       "      <td>0.0</td>\n",
       "    </tr>\n",
       "    <tr>\n",
       "      <th>2</th>\n",
       "      <td>Charged Off</td>\n",
       "      <td>16117</td>\n",
       "      <td>Short Term</td>\n",
       "      <td>7240.0</td>\n",
       "      <td>9</td>\n",
       "      <td>Home Mortgage</td>\n",
       "      <td>60438.0</td>\n",
       "      <td>1244.02</td>\n",
       "      <td>16.7</td>\n",
       "      <td>32.0</td>\n",
       "      <td>11</td>\n",
       "      <td>1</td>\n",
       "      <td>11275</td>\n",
       "      <td>14815</td>\n",
       "      <td>1.0</td>\n",
       "      <td>0.0</td>\n",
       "    </tr>\n",
       "    <tr>\n",
       "      <th>3</th>\n",
       "      <td>Charged Off</td>\n",
       "      <td>11716</td>\n",
       "      <td>Short Term</td>\n",
       "      <td>7400.0</td>\n",
       "      <td>3</td>\n",
       "      <td>Rent</td>\n",
       "      <td>34171.0</td>\n",
       "      <td>990.94</td>\n",
       "      <td>10.0</td>\n",
       "      <td>32.0</td>\n",
       "      <td>21</td>\n",
       "      <td>0</td>\n",
       "      <td>7009</td>\n",
       "      <td>43533</td>\n",
       "      <td>0.0</td>\n",
       "      <td>0.0</td>\n",
       "    </tr>\n",
       "    <tr>\n",
       "      <th>4</th>\n",
       "      <td>Charged Off</td>\n",
       "      <td>9789</td>\n",
       "      <td>Long Term</td>\n",
       "      <td>6860.0</td>\n",
       "      <td>10</td>\n",
       "      <td>Home Mortgage</td>\n",
       "      <td>47003.0</td>\n",
       "      <td>503.71</td>\n",
       "      <td>16.7</td>\n",
       "      <td>25.0</td>\n",
       "      <td>13</td>\n",
       "      <td>1</td>\n",
       "      <td>16913</td>\n",
       "      <td>19553</td>\n",
       "      <td>1.0</td>\n",
       "      <td>0.0</td>\n",
       "    </tr>\n",
       "  </tbody>\n",
       "</table>\n",
       "</div>"
      ],
      "text/plain": [
       "   Loan Status  Current Loan Amount        Term  Credit Score  \\\n",
       "0  Charged Off                12232  Short Term        7280.0   \n",
       "1  Charged Off                25014   Long Term        7330.0   \n",
       "2  Charged Off                16117  Short Term        7240.0   \n",
       "3  Charged Off                11716  Short Term        7400.0   \n",
       "4  Charged Off                 9789   Long Term        6860.0   \n",
       "\n",
       "   Years in current job Home Ownership  Annual Income Monthly Debt  \\\n",
       "0                     0           Rent        46643.0       777.39   \n",
       "1                    10  Home Mortgage        81099.0       892.09   \n",
       "2                     9  Home Mortgage        60438.0      1244.02   \n",
       "3                     3           Rent        34171.0       990.94   \n",
       "4                    10  Home Mortgage        47003.0       503.71   \n",
       "\n",
       "   Years of Credit History  Months since last delinquent  \\\n",
       "0                     18.0                          10.0   \n",
       "1                     26.7                          32.0   \n",
       "2                     16.7                          32.0   \n",
       "3                     10.0                          32.0   \n",
       "4                     16.7                          25.0   \n",
       "\n",
       "   Number of Open Accounts  Number of Credit Problems  Current Credit Balance  \\\n",
       "0                       12                          0                    6762   \n",
       "1                       14                          0                   35706   \n",
       "2                       11                          1                   11275   \n",
       "3                       21                          0                    7009   \n",
       "4                       13                          1                   16913   \n",
       "\n",
       "  Maximum Open Credit  Bankruptcies  Tax Liens  \n",
       "0                7946           0.0        0.0  \n",
       "1               77961           0.0        0.0  \n",
       "2               14815           1.0        0.0  \n",
       "3               43533           0.0        0.0  \n",
       "4               19553           1.0        0.0  "
      ]
     },
     "execution_count": 31,
     "metadata": {},
     "output_type": "execute_result"
    }
   ],
   "source": [
    "df.head()"
   ]
  },
  {
   "cell_type": "code",
   "execution_count": 32,
   "metadata": {},
   "outputs": [
    {
     "data": {
      "text/plain": [
       "Loan Status\n",
       "Fully Paid     79901\n",
       "Charged Off    25119\n",
       "Name: count, dtype: int64"
      ]
     },
     "execution_count": 32,
     "metadata": {},
     "output_type": "execute_result"
    }
   ],
   "source": [
    "df['Loan Status'].value_counts()"
   ]
  },
  {
   "cell_type": "code",
   "execution_count": 33,
   "metadata": {},
   "outputs": [
    {
     "name": "stderr",
     "output_type": "stream",
     "text": [
      "/var/folders/3z/gjs8159j4pj4fhckh__lk6g00000gn/T/ipykernel_38176/1420826780.py:1: FutureWarning: Downcasting behavior in `replace` is deprecated and will be removed in a future version. To retain the old behavior, explicitly call `result.infer_objects(copy=False)`. To opt-in to the future behavior, set `pd.set_option('future.no_silent_downcasting', True)`\n",
      "  df['Loan Status'] = df['Loan Status'].replace(\n"
     ]
    }
   ],
   "source": [
    "df['Loan Status'] = df['Loan Status'].replace(\n",
    "    {'Charged Off': 0, 'Fully Paid': 1})"
   ]
  },
  {
   "cell_type": "code",
   "execution_count": 34,
   "metadata": {},
   "outputs": [
    {
     "data": {
      "text/plain": [
       "Term\n",
       "Short Term    76501\n",
       "Long Term     28519\n",
       "Name: count, dtype: int64"
      ]
     },
     "execution_count": 34,
     "metadata": {},
     "output_type": "execute_result"
    }
   ],
   "source": [
    "df['Term'].value_counts()"
   ]
  },
  {
   "cell_type": "code",
   "execution_count": 35,
   "metadata": {},
   "outputs": [
    {
     "name": "stderr",
     "output_type": "stream",
     "text": [
      "/var/folders/3z/gjs8159j4pj4fhckh__lk6g00000gn/T/ipykernel_38176/3022829249.py:1: FutureWarning: Downcasting behavior in `replace` is deprecated and will be removed in a future version. To retain the old behavior, explicitly call `result.infer_objects(copy=False)`. To opt-in to the future behavior, set `pd.set_option('future.no_silent_downcasting', True)`\n",
      "  df['Term'] = df['Term'].replace(\n"
     ]
    }
   ],
   "source": [
    "df['Term'] = df['Term'].replace(\n",
    "    {'Short Term': 0, 'Long Term': 1})"
   ]
  },
  {
   "cell_type": "code",
   "execution_count": 36,
   "metadata": {},
   "outputs": [
    {
     "data": {
      "text/plain": [
       "Home Ownership\n",
       "Home Mortgage    50946\n",
       "Rent             44286\n",
       "Own Home          9580\n",
       "HaveMortgage       208\n",
       "Name: count, dtype: int64"
      ]
     },
     "execution_count": 36,
     "metadata": {},
     "output_type": "execute_result"
    }
   ],
   "source": [
    "df['Home Ownership'].value_counts()"
   ]
  },
  {
   "cell_type": "code",
   "execution_count": 37,
   "metadata": {},
   "outputs": [],
   "source": [
    "# Perform one-hot encoding\n",
    "df = pd.get_dummies(df, columns=['Home Ownership'], drop_first=True)"
   ]
  },
  {
   "cell_type": "code",
   "execution_count": 38,
   "metadata": {},
   "outputs": [
    {
     "data": {
      "text/html": [
       "<div>\n",
       "<style scoped>\n",
       "    .dataframe tbody tr th:only-of-type {\n",
       "        vertical-align: middle;\n",
       "    }\n",
       "\n",
       "    .dataframe tbody tr th {\n",
       "        vertical-align: top;\n",
       "    }\n",
       "\n",
       "    .dataframe thead th {\n",
       "        text-align: right;\n",
       "    }\n",
       "</style>\n",
       "<table border=\"1\" class=\"dataframe\">\n",
       "  <thead>\n",
       "    <tr style=\"text-align: right;\">\n",
       "      <th></th>\n",
       "      <th>Loan Status</th>\n",
       "      <th>Current Loan Amount</th>\n",
       "      <th>Term</th>\n",
       "      <th>Credit Score</th>\n",
       "      <th>Years in current job</th>\n",
       "      <th>Annual Income</th>\n",
       "      <th>Monthly Debt</th>\n",
       "      <th>Years of Credit History</th>\n",
       "      <th>Months since last delinquent</th>\n",
       "      <th>Number of Open Accounts</th>\n",
       "      <th>Number of Credit Problems</th>\n",
       "      <th>Current Credit Balance</th>\n",
       "      <th>Maximum Open Credit</th>\n",
       "      <th>Bankruptcies</th>\n",
       "      <th>Tax Liens</th>\n",
       "      <th>Home Ownership_Home Mortgage</th>\n",
       "      <th>Home Ownership_Own Home</th>\n",
       "      <th>Home Ownership_Rent</th>\n",
       "    </tr>\n",
       "  </thead>\n",
       "  <tbody>\n",
       "    <tr>\n",
       "      <th>0</th>\n",
       "      <td>0</td>\n",
       "      <td>12232</td>\n",
       "      <td>0</td>\n",
       "      <td>7280.0</td>\n",
       "      <td>0</td>\n",
       "      <td>46643.0</td>\n",
       "      <td>777.39</td>\n",
       "      <td>18.0</td>\n",
       "      <td>10.0</td>\n",
       "      <td>12</td>\n",
       "      <td>0</td>\n",
       "      <td>6762</td>\n",
       "      <td>7946</td>\n",
       "      <td>0.0</td>\n",
       "      <td>0.0</td>\n",
       "      <td>False</td>\n",
       "      <td>False</td>\n",
       "      <td>True</td>\n",
       "    </tr>\n",
       "    <tr>\n",
       "      <th>1</th>\n",
       "      <td>0</td>\n",
       "      <td>25014</td>\n",
       "      <td>1</td>\n",
       "      <td>7330.0</td>\n",
       "      <td>10</td>\n",
       "      <td>81099.0</td>\n",
       "      <td>892.09</td>\n",
       "      <td>26.7</td>\n",
       "      <td>32.0</td>\n",
       "      <td>14</td>\n",
       "      <td>0</td>\n",
       "      <td>35706</td>\n",
       "      <td>77961</td>\n",
       "      <td>0.0</td>\n",
       "      <td>0.0</td>\n",
       "      <td>True</td>\n",
       "      <td>False</td>\n",
       "      <td>False</td>\n",
       "    </tr>\n",
       "    <tr>\n",
       "      <th>2</th>\n",
       "      <td>0</td>\n",
       "      <td>16117</td>\n",
       "      <td>0</td>\n",
       "      <td>7240.0</td>\n",
       "      <td>9</td>\n",
       "      <td>60438.0</td>\n",
       "      <td>1244.02</td>\n",
       "      <td>16.7</td>\n",
       "      <td>32.0</td>\n",
       "      <td>11</td>\n",
       "      <td>1</td>\n",
       "      <td>11275</td>\n",
       "      <td>14815</td>\n",
       "      <td>1.0</td>\n",
       "      <td>0.0</td>\n",
       "      <td>True</td>\n",
       "      <td>False</td>\n",
       "      <td>False</td>\n",
       "    </tr>\n",
       "    <tr>\n",
       "      <th>3</th>\n",
       "      <td>0</td>\n",
       "      <td>11716</td>\n",
       "      <td>0</td>\n",
       "      <td>7400.0</td>\n",
       "      <td>3</td>\n",
       "      <td>34171.0</td>\n",
       "      <td>990.94</td>\n",
       "      <td>10.0</td>\n",
       "      <td>32.0</td>\n",
       "      <td>21</td>\n",
       "      <td>0</td>\n",
       "      <td>7009</td>\n",
       "      <td>43533</td>\n",
       "      <td>0.0</td>\n",
       "      <td>0.0</td>\n",
       "      <td>False</td>\n",
       "      <td>False</td>\n",
       "      <td>True</td>\n",
       "    </tr>\n",
       "    <tr>\n",
       "      <th>4</th>\n",
       "      <td>0</td>\n",
       "      <td>9789</td>\n",
       "      <td>1</td>\n",
       "      <td>6860.0</td>\n",
       "      <td>10</td>\n",
       "      <td>47003.0</td>\n",
       "      <td>503.71</td>\n",
       "      <td>16.7</td>\n",
       "      <td>25.0</td>\n",
       "      <td>13</td>\n",
       "      <td>1</td>\n",
       "      <td>16913</td>\n",
       "      <td>19553</td>\n",
       "      <td>1.0</td>\n",
       "      <td>0.0</td>\n",
       "      <td>True</td>\n",
       "      <td>False</td>\n",
       "      <td>False</td>\n",
       "    </tr>\n",
       "  </tbody>\n",
       "</table>\n",
       "</div>"
      ],
      "text/plain": [
       "   Loan Status  Current Loan Amount  Term  Credit Score  Years in current job  \\\n",
       "0            0                12232     0        7280.0                     0   \n",
       "1            0                25014     1        7330.0                    10   \n",
       "2            0                16117     0        7240.0                     9   \n",
       "3            0                11716     0        7400.0                     3   \n",
       "4            0                 9789     1        6860.0                    10   \n",
       "\n",
       "   Annual Income Monthly Debt  Years of Credit History  \\\n",
       "0        46643.0       777.39                     18.0   \n",
       "1        81099.0       892.09                     26.7   \n",
       "2        60438.0      1244.02                     16.7   \n",
       "3        34171.0       990.94                     10.0   \n",
       "4        47003.0       503.71                     16.7   \n",
       "\n",
       "   Months since last delinquent  Number of Open Accounts  \\\n",
       "0                          10.0                       12   \n",
       "1                          32.0                       14   \n",
       "2                          32.0                       11   \n",
       "3                          32.0                       21   \n",
       "4                          25.0                       13   \n",
       "\n",
       "   Number of Credit Problems  Current Credit Balance Maximum Open Credit  \\\n",
       "0                          0                    6762                7946   \n",
       "1                          0                   35706               77961   \n",
       "2                          1                   11275               14815   \n",
       "3                          0                    7009               43533   \n",
       "4                          1                   16913               19553   \n",
       "\n",
       "   Bankruptcies  Tax Liens  Home Ownership_Home Mortgage  \\\n",
       "0           0.0        0.0                         False   \n",
       "1           0.0        0.0                          True   \n",
       "2           1.0        0.0                          True   \n",
       "3           0.0        0.0                         False   \n",
       "4           1.0        0.0                          True   \n",
       "\n",
       "   Home Ownership_Own Home  Home Ownership_Rent  \n",
       "0                    False                 True  \n",
       "1                    False                False  \n",
       "2                    False                False  \n",
       "3                    False                 True  \n",
       "4                    False                False  "
      ]
     },
     "execution_count": 38,
     "metadata": {},
     "output_type": "execute_result"
    }
   ],
   "source": [
    "df.head()"
   ]
  },
  {
   "cell_type": "code",
   "execution_count": 39,
   "metadata": {},
   "outputs": [],
   "source": [
    "df['Home Ownership_Home Mortgage'] = df['Home Ownership_Home Mortgage'].astype(\n",
    "    int)\n",
    "df['Home Ownership_Own Home'] = df['Home Ownership_Own Home'].astype(int)\n",
    "df['Home Ownership_Rent'] = df['Home Ownership_Rent'].astype(int)"
   ]
  },
  {
   "cell_type": "code",
   "execution_count": 40,
   "metadata": {},
   "outputs": [
    {
     "name": "stdout",
     "output_type": "stream",
     "text": [
      "<class 'pandas.core.frame.DataFrame'>\n",
      "Index: 105020 entries, 0 to 111106\n",
      "Data columns (total 18 columns):\n",
      " #   Column                        Non-Null Count   Dtype  \n",
      "---  ------                        --------------   -----  \n",
      " 0   Loan Status                   105020 non-null  int64  \n",
      " 1   Current Loan Amount           105020 non-null  int64  \n",
      " 2   Term                          105020 non-null  int64  \n",
      " 3   Credit Score                  105020 non-null  float64\n",
      " 4   Years in current job          105020 non-null  int64  \n",
      " 5   Annual Income                 105020 non-null  float64\n",
      " 6   Monthly Debt                  105020 non-null  object \n",
      " 7   Years of Credit History       105020 non-null  float64\n",
      " 8   Months since last delinquent  105020 non-null  float64\n",
      " 9   Number of Open Accounts       105020 non-null  int64  \n",
      " 10  Number of Credit Problems     105020 non-null  int64  \n",
      " 11  Current Credit Balance        105020 non-null  int64  \n",
      " 12  Maximum Open Credit           105020 non-null  object \n",
      " 13  Bankruptcies                  105020 non-null  float64\n",
      " 14  Tax Liens                     105020 non-null  float64\n",
      " 15  Home Ownership_Home Mortgage  105020 non-null  int64  \n",
      " 16  Home Ownership_Own Home       105020 non-null  int64  \n",
      " 17  Home Ownership_Rent           105020 non-null  int64  \n",
      "dtypes: float64(6), int64(10), object(2)\n",
      "memory usage: 15.2+ MB\n"
     ]
    }
   ],
   "source": [
    "df.info()"
   ]
  },
  {
   "cell_type": "code",
   "execution_count": null,
   "metadata": {},
   "outputs": [],
   "source": []
  },
  {
   "cell_type": "code",
   "execution_count": 41,
   "metadata": {},
   "outputs": [
    {
     "data": {
      "text/html": [
       "<div>\n",
       "<style scoped>\n",
       "    .dataframe tbody tr th:only-of-type {\n",
       "        vertical-align: middle;\n",
       "    }\n",
       "\n",
       "    .dataframe tbody tr th {\n",
       "        vertical-align: top;\n",
       "    }\n",
       "\n",
       "    .dataframe thead th {\n",
       "        text-align: right;\n",
       "    }\n",
       "</style>\n",
       "<table border=\"1\" class=\"dataframe\">\n",
       "  <thead>\n",
       "    <tr style=\"text-align: right;\">\n",
       "      <th></th>\n",
       "      <th>Loan Status</th>\n",
       "      <th>Current Loan Amount</th>\n",
       "      <th>Term</th>\n",
       "      <th>Credit Score</th>\n",
       "      <th>Years in current job</th>\n",
       "      <th>Annual Income</th>\n",
       "      <th>Monthly Debt</th>\n",
       "      <th>Years of Credit History</th>\n",
       "      <th>Months since last delinquent</th>\n",
       "      <th>Number of Open Accounts</th>\n",
       "      <th>Number of Credit Problems</th>\n",
       "      <th>Current Credit Balance</th>\n",
       "      <th>Maximum Open Credit</th>\n",
       "      <th>Bankruptcies</th>\n",
       "      <th>Tax Liens</th>\n",
       "      <th>Home Ownership_Home Mortgage</th>\n",
       "      <th>Home Ownership_Own Home</th>\n",
       "      <th>Home Ownership_Rent</th>\n",
       "    </tr>\n",
       "  </thead>\n",
       "  <tbody>\n",
       "    <tr>\n",
       "      <th>0</th>\n",
       "      <td>0</td>\n",
       "      <td>12232</td>\n",
       "      <td>0</td>\n",
       "      <td>7280.0</td>\n",
       "      <td>0</td>\n",
       "      <td>46643.0</td>\n",
       "      <td>777.39</td>\n",
       "      <td>18.0</td>\n",
       "      <td>10.0</td>\n",
       "      <td>12</td>\n",
       "      <td>0</td>\n",
       "      <td>6762</td>\n",
       "      <td>7946</td>\n",
       "      <td>0.0</td>\n",
       "      <td>0.0</td>\n",
       "      <td>0</td>\n",
       "      <td>0</td>\n",
       "      <td>1</td>\n",
       "    </tr>\n",
       "    <tr>\n",
       "      <th>1</th>\n",
       "      <td>0</td>\n",
       "      <td>25014</td>\n",
       "      <td>1</td>\n",
       "      <td>7330.0</td>\n",
       "      <td>10</td>\n",
       "      <td>81099.0</td>\n",
       "      <td>892.09</td>\n",
       "      <td>26.7</td>\n",
       "      <td>32.0</td>\n",
       "      <td>14</td>\n",
       "      <td>0</td>\n",
       "      <td>35706</td>\n",
       "      <td>77961</td>\n",
       "      <td>0.0</td>\n",
       "      <td>0.0</td>\n",
       "      <td>1</td>\n",
       "      <td>0</td>\n",
       "      <td>0</td>\n",
       "    </tr>\n",
       "    <tr>\n",
       "      <th>2</th>\n",
       "      <td>0</td>\n",
       "      <td>16117</td>\n",
       "      <td>0</td>\n",
       "      <td>7240.0</td>\n",
       "      <td>9</td>\n",
       "      <td>60438.0</td>\n",
       "      <td>1244.02</td>\n",
       "      <td>16.7</td>\n",
       "      <td>32.0</td>\n",
       "      <td>11</td>\n",
       "      <td>1</td>\n",
       "      <td>11275</td>\n",
       "      <td>14815</td>\n",
       "      <td>1.0</td>\n",
       "      <td>0.0</td>\n",
       "      <td>1</td>\n",
       "      <td>0</td>\n",
       "      <td>0</td>\n",
       "    </tr>\n",
       "    <tr>\n",
       "      <th>3</th>\n",
       "      <td>0</td>\n",
       "      <td>11716</td>\n",
       "      <td>0</td>\n",
       "      <td>7400.0</td>\n",
       "      <td>3</td>\n",
       "      <td>34171.0</td>\n",
       "      <td>990.94</td>\n",
       "      <td>10.0</td>\n",
       "      <td>32.0</td>\n",
       "      <td>21</td>\n",
       "      <td>0</td>\n",
       "      <td>7009</td>\n",
       "      <td>43533</td>\n",
       "      <td>0.0</td>\n",
       "      <td>0.0</td>\n",
       "      <td>0</td>\n",
       "      <td>0</td>\n",
       "      <td>1</td>\n",
       "    </tr>\n",
       "    <tr>\n",
       "      <th>4</th>\n",
       "      <td>0</td>\n",
       "      <td>9789</td>\n",
       "      <td>1</td>\n",
       "      <td>6860.0</td>\n",
       "      <td>10</td>\n",
       "      <td>47003.0</td>\n",
       "      <td>503.71</td>\n",
       "      <td>16.7</td>\n",
       "      <td>25.0</td>\n",
       "      <td>13</td>\n",
       "      <td>1</td>\n",
       "      <td>16913</td>\n",
       "      <td>19553</td>\n",
       "      <td>1.0</td>\n",
       "      <td>0.0</td>\n",
       "      <td>1</td>\n",
       "      <td>0</td>\n",
       "      <td>0</td>\n",
       "    </tr>\n",
       "  </tbody>\n",
       "</table>\n",
       "</div>"
      ],
      "text/plain": [
       "   Loan Status  Current Loan Amount  Term  Credit Score  Years in current job  \\\n",
       "0            0                12232     0        7280.0                     0   \n",
       "1            0                25014     1        7330.0                    10   \n",
       "2            0                16117     0        7240.0                     9   \n",
       "3            0                11716     0        7400.0                     3   \n",
       "4            0                 9789     1        6860.0                    10   \n",
       "\n",
       "   Annual Income Monthly Debt  Years of Credit History  \\\n",
       "0        46643.0       777.39                     18.0   \n",
       "1        81099.0       892.09                     26.7   \n",
       "2        60438.0      1244.02                     16.7   \n",
       "3        34171.0       990.94                     10.0   \n",
       "4        47003.0       503.71                     16.7   \n",
       "\n",
       "   Months since last delinquent  Number of Open Accounts  \\\n",
       "0                          10.0                       12   \n",
       "1                          32.0                       14   \n",
       "2                          32.0                       11   \n",
       "3                          32.0                       21   \n",
       "4                          25.0                       13   \n",
       "\n",
       "   Number of Credit Problems  Current Credit Balance Maximum Open Credit  \\\n",
       "0                          0                    6762                7946   \n",
       "1                          0                   35706               77961   \n",
       "2                          1                   11275               14815   \n",
       "3                          0                    7009               43533   \n",
       "4                          1                   16913               19553   \n",
       "\n",
       "   Bankruptcies  Tax Liens  Home Ownership_Home Mortgage  \\\n",
       "0           0.0        0.0                             0   \n",
       "1           0.0        0.0                             1   \n",
       "2           1.0        0.0                             1   \n",
       "3           0.0        0.0                             0   \n",
       "4           1.0        0.0                             1   \n",
       "\n",
       "   Home Ownership_Own Home  Home Ownership_Rent  \n",
       "0                        0                    1  \n",
       "1                        0                    0  \n",
       "2                        0                    0  \n",
       "3                        0                    1  \n",
       "4                        0                    0  "
      ]
     },
     "execution_count": 41,
     "metadata": {},
     "output_type": "execute_result"
    }
   ],
   "source": [
    "df.head()"
   ]
  },
  {
   "cell_type": "code",
   "execution_count": 42,
   "metadata": {},
   "outputs": [
    {
     "name": "stdout",
     "output_type": "stream",
     "text": [
      "<class 'pandas.core.frame.DataFrame'>\n",
      "Index: 105020 entries, 0 to 111106\n",
      "Data columns (total 18 columns):\n",
      " #   Column                        Non-Null Count   Dtype  \n",
      "---  ------                        --------------   -----  \n",
      " 0   Loan Status                   105020 non-null  int64  \n",
      " 1   Current Loan Amount           105020 non-null  int64  \n",
      " 2   Term                          105020 non-null  int64  \n",
      " 3   Credit Score                  105020 non-null  float64\n",
      " 4   Years in current job          105020 non-null  int64  \n",
      " 5   Annual Income                 105020 non-null  float64\n",
      " 6   Monthly Debt                  105020 non-null  object \n",
      " 7   Years of Credit History       105020 non-null  float64\n",
      " 8   Months since last delinquent  105020 non-null  float64\n",
      " 9   Number of Open Accounts       105020 non-null  int64  \n",
      " 10  Number of Credit Problems     105020 non-null  int64  \n",
      " 11  Current Credit Balance        105020 non-null  int64  \n",
      " 12  Maximum Open Credit           105020 non-null  object \n",
      " 13  Bankruptcies                  105020 non-null  float64\n",
      " 14  Tax Liens                     105020 non-null  float64\n",
      " 15  Home Ownership_Home Mortgage  105020 non-null  int64  \n",
      " 16  Home Ownership_Own Home       105020 non-null  int64  \n",
      " 17  Home Ownership_Rent           105020 non-null  int64  \n",
      "dtypes: float64(6), int64(10), object(2)\n",
      "memory usage: 15.2+ MB\n"
     ]
    }
   ],
   "source": [
    "df.info()"
   ]
  },
  {
   "cell_type": "code",
   "execution_count": 43,
   "metadata": {},
   "outputs": [
    {
     "data": {
      "text/html": [
       "<div>\n",
       "<style scoped>\n",
       "    .dataframe tbody tr th:only-of-type {\n",
       "        vertical-align: middle;\n",
       "    }\n",
       "\n",
       "    .dataframe tbody tr th {\n",
       "        vertical-align: top;\n",
       "    }\n",
       "\n",
       "    .dataframe thead th {\n",
       "        text-align: right;\n",
       "    }\n",
       "</style>\n",
       "<table border=\"1\" class=\"dataframe\">\n",
       "  <thead>\n",
       "    <tr style=\"text-align: right;\">\n",
       "      <th></th>\n",
       "      <th>Loan Status</th>\n",
       "      <th>Current Loan Amount</th>\n",
       "      <th>Term</th>\n",
       "      <th>Credit Score</th>\n",
       "      <th>Years in current job</th>\n",
       "      <th>Annual Income</th>\n",
       "      <th>Monthly Debt</th>\n",
       "      <th>Years of Credit History</th>\n",
       "      <th>Months since last delinquent</th>\n",
       "      <th>Number of Open Accounts</th>\n",
       "      <th>Number of Credit Problems</th>\n",
       "      <th>Current Credit Balance</th>\n",
       "      <th>Maximum Open Credit</th>\n",
       "      <th>Bankruptcies</th>\n",
       "      <th>Tax Liens</th>\n",
       "      <th>Home Ownership_Home Mortgage</th>\n",
       "      <th>Home Ownership_Own Home</th>\n",
       "      <th>Home Ownership_Rent</th>\n",
       "    </tr>\n",
       "  </thead>\n",
       "  <tbody>\n",
       "    <tr>\n",
       "      <th>0</th>\n",
       "      <td>0</td>\n",
       "      <td>12232</td>\n",
       "      <td>0</td>\n",
       "      <td>7280.0</td>\n",
       "      <td>0</td>\n",
       "      <td>46643.0</td>\n",
       "      <td>777.39</td>\n",
       "      <td>18.0</td>\n",
       "      <td>10.0</td>\n",
       "      <td>12</td>\n",
       "      <td>0</td>\n",
       "      <td>6762</td>\n",
       "      <td>7946</td>\n",
       "      <td>0.0</td>\n",
       "      <td>0.0</td>\n",
       "      <td>0</td>\n",
       "      <td>0</td>\n",
       "      <td>1</td>\n",
       "    </tr>\n",
       "    <tr>\n",
       "      <th>1</th>\n",
       "      <td>0</td>\n",
       "      <td>25014</td>\n",
       "      <td>1</td>\n",
       "      <td>7330.0</td>\n",
       "      <td>10</td>\n",
       "      <td>81099.0</td>\n",
       "      <td>892.09</td>\n",
       "      <td>26.7</td>\n",
       "      <td>32.0</td>\n",
       "      <td>14</td>\n",
       "      <td>0</td>\n",
       "      <td>35706</td>\n",
       "      <td>77961</td>\n",
       "      <td>0.0</td>\n",
       "      <td>0.0</td>\n",
       "      <td>1</td>\n",
       "      <td>0</td>\n",
       "      <td>0</td>\n",
       "    </tr>\n",
       "    <tr>\n",
       "      <th>2</th>\n",
       "      <td>0</td>\n",
       "      <td>16117</td>\n",
       "      <td>0</td>\n",
       "      <td>7240.0</td>\n",
       "      <td>9</td>\n",
       "      <td>60438.0</td>\n",
       "      <td>1244.02</td>\n",
       "      <td>16.7</td>\n",
       "      <td>32.0</td>\n",
       "      <td>11</td>\n",
       "      <td>1</td>\n",
       "      <td>11275</td>\n",
       "      <td>14815</td>\n",
       "      <td>1.0</td>\n",
       "      <td>0.0</td>\n",
       "      <td>1</td>\n",
       "      <td>0</td>\n",
       "      <td>0</td>\n",
       "    </tr>\n",
       "    <tr>\n",
       "      <th>3</th>\n",
       "      <td>0</td>\n",
       "      <td>11716</td>\n",
       "      <td>0</td>\n",
       "      <td>7400.0</td>\n",
       "      <td>3</td>\n",
       "      <td>34171.0</td>\n",
       "      <td>990.94</td>\n",
       "      <td>10.0</td>\n",
       "      <td>32.0</td>\n",
       "      <td>21</td>\n",
       "      <td>0</td>\n",
       "      <td>7009</td>\n",
       "      <td>43533</td>\n",
       "      <td>0.0</td>\n",
       "      <td>0.0</td>\n",
       "      <td>0</td>\n",
       "      <td>0</td>\n",
       "      <td>1</td>\n",
       "    </tr>\n",
       "    <tr>\n",
       "      <th>4</th>\n",
       "      <td>0</td>\n",
       "      <td>9789</td>\n",
       "      <td>1</td>\n",
       "      <td>6860.0</td>\n",
       "      <td>10</td>\n",
       "      <td>47003.0</td>\n",
       "      <td>503.71</td>\n",
       "      <td>16.7</td>\n",
       "      <td>25.0</td>\n",
       "      <td>13</td>\n",
       "      <td>1</td>\n",
       "      <td>16913</td>\n",
       "      <td>19553</td>\n",
       "      <td>1.0</td>\n",
       "      <td>0.0</td>\n",
       "      <td>1</td>\n",
       "      <td>0</td>\n",
       "      <td>0</td>\n",
       "    </tr>\n",
       "  </tbody>\n",
       "</table>\n",
       "</div>"
      ],
      "text/plain": [
       "   Loan Status  Current Loan Amount  Term  Credit Score  Years in current job  \\\n",
       "0            0                12232     0        7280.0                     0   \n",
       "1            0                25014     1        7330.0                    10   \n",
       "2            0                16117     0        7240.0                     9   \n",
       "3            0                11716     0        7400.0                     3   \n",
       "4            0                 9789     1        6860.0                    10   \n",
       "\n",
       "   Annual Income Monthly Debt  Years of Credit History  \\\n",
       "0        46643.0       777.39                     18.0   \n",
       "1        81099.0       892.09                     26.7   \n",
       "2        60438.0      1244.02                     16.7   \n",
       "3        34171.0       990.94                     10.0   \n",
       "4        47003.0       503.71                     16.7   \n",
       "\n",
       "   Months since last delinquent  Number of Open Accounts  \\\n",
       "0                          10.0                       12   \n",
       "1                          32.0                       14   \n",
       "2                          32.0                       11   \n",
       "3                          32.0                       21   \n",
       "4                          25.0                       13   \n",
       "\n",
       "   Number of Credit Problems  Current Credit Balance Maximum Open Credit  \\\n",
       "0                          0                    6762                7946   \n",
       "1                          0                   35706               77961   \n",
       "2                          1                   11275               14815   \n",
       "3                          0                    7009               43533   \n",
       "4                          1                   16913               19553   \n",
       "\n",
       "   Bankruptcies  Tax Liens  Home Ownership_Home Mortgage  \\\n",
       "0           0.0        0.0                             0   \n",
       "1           0.0        0.0                             1   \n",
       "2           1.0        0.0                             1   \n",
       "3           0.0        0.0                             0   \n",
       "4           1.0        0.0                             1   \n",
       "\n",
       "   Home Ownership_Own Home  Home Ownership_Rent  \n",
       "0                        0                    1  \n",
       "1                        0                    0  \n",
       "2                        0                    0  \n",
       "3                        0                    1  \n",
       "4                        0                    0  "
      ]
     },
     "execution_count": 43,
     "metadata": {},
     "output_type": "execute_result"
    }
   ],
   "source": [
    "df.head()"
   ]
  },
  {
   "cell_type": "code",
   "execution_count": 44,
   "metadata": {},
   "outputs": [
    {
     "data": {
      "text/plain": [
       "Loan Status                     0\n",
       "Current Loan Amount             0\n",
       "Term                            0\n",
       "Credit Score                    0\n",
       "Years in current job            0\n",
       "Annual Income                   0\n",
       "Monthly Debt                    0\n",
       "Years of Credit History         0\n",
       "Months since last delinquent    0\n",
       "Number of Open Accounts         0\n",
       "Number of Credit Problems       0\n",
       "Current Credit Balance          0\n",
       "Maximum Open Credit             0\n",
       "Bankruptcies                    0\n",
       "Tax Liens                       0\n",
       "Home Ownership_Home Mortgage    0\n",
       "Home Ownership_Own Home         0\n",
       "Home Ownership_Rent             0\n",
       "dtype: int64"
      ]
     },
     "execution_count": 44,
     "metadata": {},
     "output_type": "execute_result"
    }
   ],
   "source": [
    "df.isna().sum()"
   ]
  },
  {
   "cell_type": "code",
   "execution_count": 45,
   "metadata": {},
   "outputs": [],
   "source": [
    "# Convert the \"Monthly Debt\" column to numeric type\n",
    "df['Monthly Debt'] = pd.to_numeric(df['Monthly Debt'], errors='coerce')\n",
    "\n",
    "# Fill NaN values with 0 (or any other appropriate value)\n",
    "df['Monthly Debt'] = df['Monthly Debt'].fillna(0)\n",
    "\n",
    "# Convert the \"Monthly Debt\" column to integer type\n",
    "df['Monthly Debt'] = df['Monthly Debt'].astype(int)"
   ]
  },
  {
   "cell_type": "code",
   "execution_count": 46,
   "metadata": {},
   "outputs": [
    {
     "data": {
      "text/plain": [
       "Loan Status                     0\n",
       "Current Loan Amount             0\n",
       "Term                            0\n",
       "Credit Score                    0\n",
       "Years in current job            0\n",
       "Annual Income                   0\n",
       "Monthly Debt                    0\n",
       "Years of Credit History         0\n",
       "Months since last delinquent    0\n",
       "Number of Open Accounts         0\n",
       "Number of Credit Problems       0\n",
       "Current Credit Balance          0\n",
       "Maximum Open Credit             0\n",
       "Bankruptcies                    0\n",
       "Tax Liens                       0\n",
       "Home Ownership_Home Mortgage    0\n",
       "Home Ownership_Own Home         0\n",
       "Home Ownership_Rent             0\n",
       "dtype: int64"
      ]
     },
     "execution_count": 46,
     "metadata": {},
     "output_type": "execute_result"
    }
   ],
   "source": [
    "df.isna().sum()"
   ]
  },
  {
   "cell_type": "code",
   "execution_count": 47,
   "metadata": {},
   "outputs": [],
   "source": [
    "df = df.drop(columns=['Maximum Open Credit'])"
   ]
  },
  {
   "cell_type": "code",
   "execution_count": 48,
   "metadata": {},
   "outputs": [
    {
     "name": "stdout",
     "output_type": "stream",
     "text": [
      "Decision Tree Classifier Accuracy: 0.7352885164730527\n"
     ]
    }
   ],
   "source": [
    "# Splitting features and target variable\n",
    "X = df.drop(columns=['Loan Status'])  # Features\n",
    "y = df['Loan Status']  # Target variable\n",
    "\n",
    "# Splitting data into training and testing sets\n",
    "X_train, X_test, y_train, y_test = train_test_split(\n",
    "    X, y, test_size=0.2, random_state=42)\n",
    "\n",
    "# Training Decision Tree classifier\n",
    "dt_classifier = DecisionTreeClassifier(random_state=42)\n",
    "dt_classifier.fit(X_train, y_train)\n",
    "\n",
    "# Predicting on the testing set\n",
    "dt_pred = dt_classifier.predict(X_test)\n",
    "\n",
    "# Calculating accuracy of Decision Tree classifier\n",
    "dt_accuracy = accuracy_score(y_test, dt_pred)\n",
    "print(\"Decision Tree Classifier Accuracy:\", dt_accuracy)\n",
    "\n",
    "# Training Support Vector Classification (SVC) model\n",
    "# You can change the kernel as per your requirement\n",
    "svc_classifier = SVC(kernel='linear')\n",
    "svc_classifier.fit(X_train, y_train)\n",
    "\n",
    "# Predicting on the testing set\n",
    "svc_pred = svc_classifier.predict(X_test)\n",
    "\n",
    "# Calculating accuracy of Support Vector Classification (SVC) model\n",
    "svc_accuracy = accuracy_score(y_test, svc_pred)\n",
    "print(\"Support Vector Classification (SVC) Accuracy:\", svc_accuracy)"
   ]
  },
  {
   "cell_type": "code",
   "execution_count": null,
   "metadata": {},
   "outputs": [
    {
     "ename": "NameError",
     "evalue": "name 'confusion_matrix' is not defined",
     "output_type": "error",
     "traceback": [
      "\u001b[0;31m---------------------------------------------------------------------------\u001b[0m",
      "\u001b[0;31mNameError\u001b[0m                                 Traceback (most recent call last)",
      "Input \u001b[0;32mIn [1]\u001b[0m, in \u001b[0;36m<cell line: 1>\u001b[0;34m()\u001b[0m\n\u001b[0;32m----> 1\u001b[0m dt_cm \u001b[38;5;241m=\u001b[39m \u001b[43mconfusion_matrix\u001b[49m(y_test, dt_pred)\n\u001b[1;32m      3\u001b[0m \u001b[38;5;66;03m# Plotting confusion matrix for Decision Tree classifier\u001b[39;00m\n\u001b[1;32m      4\u001b[0m plt\u001b[38;5;241m.\u001b[39mfigure(figsize\u001b[38;5;241m=\u001b[39m(\u001b[38;5;241m8\u001b[39m, \u001b[38;5;241m6\u001b[39m))\n",
      "\u001b[0;31mNameError\u001b[0m: name 'confusion_matrix' is not defined"
     ]
    }
   ],
   "source": [
    "dt_cm = confusion_matrix(y_test, dt_pred)\n",
    "\n",
    "# Plotting confusion matrix for Decision Tree classifier\n",
    "plt.figure(figsize=(8, 6))\n",
    "sns.heatmap(dt_cm, annot=True, fmt='d', cmap='Blues', cbar=False,\n",
    "            xticklabels=['No Default', 'Default'], yticklabels=['No Default', 'Default'])\n",
    "plt.title('Decision Tree Classifier Confusion Matrix')\n",
    "plt.xlabel('Predicted')\n",
    "plt.ylabel('True')\n",
    "plt.show()\n",
    "\n",
    "# Training Support Vector Classification (SVC) model\n",
    "svc_classifier = SVC(kernel='linear')\n",
    "svc_classifier.fit(X_train, y_train)\n",
    "\n",
    "# Predicting on the testing set\n",
    "svc_pred = svc_classifier.predict(X_test)\n",
    "\n",
    "# Calculating confusion matrix for Support Vector Classification (SVC) model\n",
    "svc_cm = confusion_matrix(y_test, svc_pred)\n",
    "\n",
    "# Plotting confusion matrix for Support Vector Classification (SVC) model\n",
    "plt.figure(figsize=(8, 6))\n",
    "sns.heatmap(svc_cm, annot=True, fmt='d', cmap='Blues', cbar=False,\n",
    "            xticklabels=['No Default', 'Default'], yticklabels=['No Default', 'Default'])\n",
    "plt.title('Support Vector Classification (SVC) Confusion Matrix')\n",
    "plt.xlabel('Predicted')\n",
    "plt.ylabel('True')\n",
    "plt.show()"
   ]
  },
  {
   "cell_type": "code",
   "execution_count": null,
   "metadata": {},
   "outputs": [
    {
     "ename": "NameError",
     "evalue": "name 'dt_pred' is not defined",
     "output_type": "error",
     "traceback": [
      "\u001b[0;31m---------------------------------------------------------------------------\u001b[0m",
      "\u001b[0;31mNameError\u001b[0m                                 Traceback (most recent call last)",
      "Input \u001b[0;32mIn [6]\u001b[0m, in \u001b[0;36m<cell line: 15>\u001b[0;34m()\u001b[0m\n\u001b[1;32m     11\u001b[0m     \u001b[38;5;28;01mreturn\u001b[39;00m accuracy, sensitivity, specificity, mcc\n\u001b[1;32m     14\u001b[0m \u001b[38;5;66;03m# Calculate metrics for Decision Tree classifier\u001b[39;00m\n\u001b[1;32m     15\u001b[0m dt_accuracy, dt_sensitivity, dt_specificity, dt_mcc \u001b[38;5;241m=\u001b[39m calculate_metrics(\n\u001b[0;32m---> 16\u001b[0m     y_test, \u001b[43mdt_pred\u001b[49m)\n\u001b[1;32m     18\u001b[0m \u001b[38;5;66;03m# Calculate metrics for Support Vector Classification (SVC) model\u001b[39;00m\n\u001b[1;32m     19\u001b[0m svc_accuracy, svc_sensitivity, svc_specificity, svc_mcc \u001b[38;5;241m=\u001b[39m calculate_metrics(\n\u001b[1;32m     20\u001b[0m     y_test, svc_pred)\n",
      "\u001b[0;31mNameError\u001b[0m: name 'dt_pred' is not defined"
     ]
    }
   ],
   "source": [
    "from sklearn.metrics import accuracy_score, precision_score, recall_score, matthews_corrcoef\n",
    "\n",
    "# Function to calculate sensitivity, specificity, and MCC\n",
    "\n",
    "\n",
    "def calculate_metrics(y_true, y_pred):\n",
    "    accuracy = accuracy_score(y_true, y_pred)\n",
    "    sensitivity = recall_score(y_true, y_pred)\n",
    "    specificity = recall_score(y_true, y_pred, pos_label=0)\n",
    "    mcc = matthews_corrcoef(y_true, y_pred)\n",
    "    return accuracy, sensitivity, specificity, mcc\n",
    "\n",
    "\n",
    "# Calculate metrics for Decision Tree classifier\n",
    "dt_accuracy, dt_sensitivity, dt_specificity, dt_mcc = calculate_metrics(\n",
    "    y_test, dt_pred)\n",
    "\n",
    "# Calculate metrics for Support Vector Classification (SVC) model\n",
    "svc_accuracy, svc_sensitivity, svc_specificity, svc_mcc = calculate_metrics(\n",
    "    y_test, svc_pred)\n",
    "\n",
    "# Calculate metrics for K-Nearest Neighbors (KNN) model (assuming you have already trained and tested KNN)\n",
    "# knn_accuracy, knn_sensitivity, knn_specificity, knn_mcc = calculate_metrics(y_test, knn_pred)\n",
    "\n",
    "# Plotting the bar graph\n",
    "labels = ['Accuracy', 'Sensitivity', 'Specificity', 'MCC']\n",
    "dt_metrics = [dt_accuracy, dt_sensitivity, dt_specificity, dt_mcc]\n",
    "svc_metrics = [svc_accuracy, svc_sensitivity, svc_specificity, svc_mcc]\n",
    "# knn_metrics = [knn_accuracy, knn_sensitivity, knn_specificity, knn_mcc]  # Uncomment if you have KNN results\n",
    "\n",
    "x = range(len(labels))\n",
    "width = 0.2\n",
    "\n",
    "plt.figure(figsize=(10, 6))\n",
    "\n",
    "plt.bar(x, dt_metrics, width=width, label='Decision Tree', align='center')\n",
    "plt.bar([i + width for i in x], svc_metrics,\n",
    "        width=width, label='SVC', align='center')\n",
    "# plt.bar([i + width*2 for i in x], knn_metrics, width=width, label='KNN', align='center')  # Uncomment for KNN\n",
    "\n",
    "plt.xlabel('Metrics')\n",
    "plt.ylabel('Score')\n",
    "plt.title('Comparison of Classifier Performance Metrics')\n",
    "plt.xticks([i + width for i in x], labels)\n",
    "plt.legend()\n",
    "plt.show()"
   ]
  },
  {
   "cell_type": "code",
   "execution_count": null,
   "metadata": {},
   "outputs": [],
   "source": []
  }
 ],
 "metadata": {
  "kernelspec": {
   "display_name": "Python 3",
   "language": "python",
   "name": "python3"
  },
  "language_info": {
   "codemirror_mode": {
    "name": "ipython",
    "version": 3
   },
   "file_extension": ".py",
   "mimetype": "text/x-python",
   "name": "python",
   "nbconvert_exporter": "python",
   "pygments_lexer": "ipython3",
   "version": "3.10.5"
  }
 },
 "nbformat": 4,
 "nbformat_minor": 2
}
